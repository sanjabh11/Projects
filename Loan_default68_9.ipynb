{
  "nbformat": 4,
  "nbformat_minor": 0,
  "metadata": {
    "colab": {
      "name": "Loan_default68.9.ipynb",
      "version": "0.3.2",
      "provenance": [],
      "collapsed_sections": [],
      "include_colab_link": true
    },
    "kernelspec": {
      "name": "python3",
      "display_name": "Python 3"
    },
    "accelerator": "GPU"
  },
  "cells": [
    {
      "cell_type": "markdown",
      "metadata": {
        "id": "view-in-github",
        "colab_type": "text"
      },
      "source": [
        "<a href=\"https://colab.research.google.com/github/sanjabh11/Projects/blob/master/Loan_default68_9.ipynb\" target=\"_parent\"><img src=\"https://colab.research.google.com/assets/colab-badge.svg\" alt=\"Open In Colab\"/></a>"
      ]
    },
    {
      "cell_type": "markdown",
      "metadata": {
        "id": "6xbQ-zzXSna5",
        "colab_type": "text"
      },
      "source": [
        "# Tabular models"
      ]
    },
    {
      "cell_type": "code",
      "metadata": {
        "id": "Qr3h02F6P1wl",
        "colab_type": "code",
        "outputId": "5308d6d8-c9ab-4e93-85a5-2ad0ee2fe9c4",
        "colab": {
          "base_uri": "https://localhost:8080/",
          "height": 35
        }
      },
      "source": [
        "import fastai\n",
        "fastai.__version__"
      ],
      "execution_count": 0,
      "outputs": [
        {
          "output_type": "execute_result",
          "data": {
            "text/plain": [
              "'1.0.55'"
            ]
          },
          "metadata": {
            "tags": []
          },
          "execution_count": 1
        }
      ]
    },
    {
      "cell_type": "code",
      "metadata": {
        "id": "RSen2MUlSna-",
        "colab_type": "code",
        "colab": {}
      },
      "source": [
        "from fastai.tabular import *\n",
        "from fastai.callbacks import *"
      ],
      "execution_count": 0,
      "outputs": []
    },
    {
      "cell_type": "code",
      "metadata": {
        "id": "2pg_0KtjVciJ",
        "colab_type": "code",
        "outputId": "1f86e65d-0de7-4c6c-d754-40943a36d2a3",
        "colab": {
          "base_uri": "https://localhost:8080/",
          "height": 55
        }
      },
      "source": [
        "from google.colab import drive\n",
        "drive.mount('/drive')"
      ],
      "execution_count": 0,
      "outputs": [
        {
          "output_type": "stream",
          "text": [
            "Drive already mounted at /drive; to attempt to forcibly remount, call drive.mount(\"/drive\", force_remount=True).\n"
          ],
          "name": "stdout"
        }
      ]
    },
    {
      "cell_type": "code",
      "metadata": {
        "id": "I8u3BUfTzvgA",
        "colab_type": "code",
        "colab": {}
      },
      "source": [
        "!cp '/drive/My Drive/loan/stage-1.pth' /content/loan/models"
      ],
      "execution_count": 0,
      "outputs": []
    },
    {
      "cell_type": "code",
      "metadata": {
        "id": "vc5tPjxAexuC",
        "colab_type": "code",
        "colab": {}
      },
      "source": [
        "!cp /content/loan/models/stage-1.pth '/drive/My Drive/loan'"
      ],
      "execution_count": 0,
      "outputs": []
    },
    {
      "cell_type": "code",
      "metadata": {
        "id": "qxCDclnVS5VT",
        "colab_type": "code",
        "colab": {}
      },
      "source": [
        "!cp /content/loan/models/stage-1.pth '/drive/My Drive/loan'"
      ],
      "execution_count": 0,
      "outputs": []
    },
    {
      "cell_type": "code",
      "metadata": {
        "id": "3reEY_cZyrSe",
        "colab_type": "code",
        "colab": {}
      },
      "source": [
        "!mv /content/loan/stage-1.pth models"
      ],
      "execution_count": 0,
      "outputs": []
    },
    {
      "cell_type": "markdown",
      "metadata": {
        "id": "th8FeV50SnbE",
        "colab_type": "text"
      },
      "source": [
        "Tabular data should be in a Pandas `DataFrame`."
      ]
    },
    {
      "cell_type": "code",
      "metadata": {
        "id": "Fn2NQzL_SnbF",
        "colab_type": "code",
        "colab": {}
      },
      "source": [
        "path = '/content/loan'\n",
        "df = pd.read_csv('/content/loan/train_loan1.csv')"
      ],
      "execution_count": 0,
      "outputs": []
    },
    {
      "cell_type": "code",
      "metadata": {
        "id": "xcBOHXA4ff-P",
        "colab_type": "code",
        "colab": {}
      },
      "source": [
        "df_test= pd.read_csv('/content/loan/test_loan1.csv')"
      ],
      "execution_count": 0,
      "outputs": []
    },
    {
      "cell_type": "code",
      "metadata": {
        "id": "v3DxuTGR-AB2",
        "colab_type": "code",
        "colab": {}
      },
      "source": [
        "sorted(df['PERFORM_CNS.SCORE.DESCRIPTION'].unique())"
      ],
      "execution_count": 0,
      "outputs": []
    },
    {
      "cell_type": "code",
      "metadata": {
        "id": "P9ZabdkhWaYo",
        "colab_type": "code",
        "outputId": "a715ff4c-073a-410c-c55b-ca7d9a29b43d",
        "colab": {
          "base_uri": "https://localhost:8080/",
          "height": 126
        }
      },
      "source": [
        "#Extracting yyyy\n",
        "df['Date.of.Birth'] = pd.to_datetime(df['Date.of.Birth'])\n",
        "df['Date.of.Birth'] = df['Date.of.Birth'].dt.year\n",
        "df['Date.of.Birth'].head()"
      ],
      "execution_count": 0,
      "outputs": [
        {
          "output_type": "execute_result",
          "data": {
            "text/plain": [
              "0    1984\n",
              "1    1985\n",
              "2    1985\n",
              "3    1993\n",
              "4    1977\n",
              "Name: Date.of.Birth, dtype: int64"
            ]
          },
          "metadata": {
            "tags": []
          },
          "execution_count": 4
        }
      ]
    },
    {
      "cell_type": "code",
      "metadata": {
        "id": "GRUucFEQW_vr",
        "colab_type": "code",
        "outputId": "21b5d338-4642-465e-d258-87ae78afa2c4",
        "colab": {
          "base_uri": "https://localhost:8080/",
          "height": 126
        }
      },
      "source": [
        "df_test['Date.of.Birth'] = pd.to_datetime(df_test['Date.of.Birth'])\n",
        "df_test['Date.of.Birth'] = df_test['Date.of.Birth'].dt.year\n",
        "df_test['Date.of.Birth'].head()"
      ],
      "execution_count": 0,
      "outputs": [
        {
          "output_type": "execute_result",
          "data": {
            "text/plain": [
              "0    1974\n",
              "1    1985\n",
              "2    1995\n",
              "3    1973\n",
              "4    1972\n",
              "Name: Date.of.Birth, dtype: int64"
            ]
          },
          "metadata": {
            "tags": []
          },
          "execution_count": 5
        }
      ]
    },
    {
      "cell_type": "code",
      "metadata": {
        "id": "mr7ypy1EWi7q",
        "colab_type": "code",
        "outputId": "77f21a37-6b11-4c91-f456-cfa319aa2600",
        "colab": {
          "base_uri": "https://localhost:8080/",
          "height": 126
        }
      },
      "source": [
        "df_test['Date.of.Birth'].head()"
      ],
      "execution_count": 0,
      "outputs": [
        {
          "output_type": "execute_result",
          "data": {
            "text/plain": [
              "0    1974\n",
              "1    1985\n",
              "2    1995\n",
              "3    1973\n",
              "4    1972\n",
              "Name: Date.of.Birth, dtype: int64"
            ]
          },
          "metadata": {
            "tags": []
          },
          "execution_count": 6
        }
      ]
    },
    {
      "cell_type": "code",
      "metadata": {
        "id": "NmtilHVRSnbK",
        "colab_type": "code",
        "colab": {}
      },
      "source": [
        "dep_var = 'loan_default'\n",
        "cat_names = ['Employment.Type', 'PERFORM_CNS.SCORE','Aadhar_flag','PAN_flag','Passport_flag','Current_pincode_ID',\n",
        "             'DELINQUENT.ACCTS.IN.LAST.SIX.MONTHS', 'NEW.ACCTS.IN.LAST.SIX.MONTHS']\n",
        "cont_names = ['asset_cost','ltv', 'CREDIT.HISTORY.LENGTH','PRI.CURRENT.BALANCE',  'Date.of.Birth',\n",
        "              'AVERAGE.ACCT.AGE', 'PRI.OVERDUE.ACCTS','PRI.DISBURSED.AMOUNT','PRIMARY.INSTAL.AMT', 'PRI.ACTIVE.ACCTS',\n",
        "             'NO.OF_INQUIRIES','PRI.SANCTIONED.AMOUNT','disbursed_amount', 'SEC.SANCTIONED.AMOUNT','SEC.DISBURSED.AMOUNT', 'State_ID']\n",
        "procs = [FillMissing, Categorify, Normalize]\n",
        "#, 'disbur date', ', 'SEC.SANCTIONED.AMOUNT','SEC.DISBURSED.AMOUNT', 'State_ID',\n",
        "#'UniqueID',,'VoterID_flag','PRI.NO.OF.ACCTS', 'Driving_flag','SEC.ACTIVE.ACCTS',, 'PERFORM_CNS.SCORE.DESCRIPTION'\n",
        "#'SEC.OVERDUE.ACCTS','SEC.CURRENT.BALANCE','SEC.INSTAL.AMT',\n",
        "             "
      ],
      "execution_count": 0,
      "outputs": []
    },
    {
      "cell_type": "code",
      "metadata": {
        "id": "tyYjq_QVSnbQ",
        "colab_type": "code",
        "colab": {}
      },
      "source": [
        "#valid_idx=np.random.randint(len(df), size=1200)\n",
        "#test = TabularList.from_df(df.iloc[800:1000].copy(), path=path, cat_names=cat_names, cont_names=cont_names)\n",
        "test = TabularList.from_df(df_test, path=path, cat_names=cat_names, cont_names=cont_names)\n",
        "#valid_idx = range(len(df)-200, len(df))\n",
        "#test = TabularList.from_df(df.iloc[800:2000].copy(), path=path, cat_names=cat_names, cont_names=cont_names)"
      ],
      "execution_count": 0,
      "outputs": []
    },
    {
      "cell_type": "code",
      "metadata": {
        "id": "bPPMpPctSnbU",
        "colab_type": "code",
        "colab": {}
      },
      "source": [
        "data = (TabularList.from_df(df, path=path, cat_names=cat_names, cont_names=cont_names, procs=procs)\n",
        "                           .split_by_idx(valid_idx=range(len(df)-500,len(df)))\n",
        "                         #  .split_by_rand_pct(0.1)\n",
        "                           .label_from_df(cols=dep_var)\n",
        "                           .add_test(test)\n",
        "                           .databunch())"
      ],
      "execution_count": 0,
      "outputs": []
    },
    {
      "cell_type": "code",
      "metadata": {
        "id": "n3aGJQCPSnbY",
        "colab_type": "code",
        "colab": {}
      },
      "source": [
        "data.show_batch(rows=10)"
      ],
      "execution_count": 0,
      "outputs": []
    },
    {
      "cell_type": "code",
      "metadata": {
        "id": "0Nne-sjquDUn",
        "colab_type": "code",
        "colab": {}
      },
      "source": [
        "#Define function for AUC..https://forums.fast.ai/t/using-auc-as-metric-in-fastai/38917/7\n",
        "from sklearn.metrics import roc_auc_score\n",
        "\n",
        "def auroc_score(input, target):\n",
        "    input, target = input.cpu().numpy()[:,1], target.cpu().numpy()\n",
        "    return roc_auc_score(target, input)\n",
        "\n",
        "class AUROC(Callback):\n",
        "    _order = -20 #Needs to run before the recorder\n",
        "\n",
        "    def __init__(self, learn, **kwargs): self.learn = learn\n",
        "    def on_train_begin(self, **kwargs): self.learn.recorder.add_metric_names(['AUROC'])\n",
        "    def on_epoch_begin(self, **kwargs): self.output, self.target = [], []\n",
        "    \n",
        "    def on_batch_end(self, last_target, last_output, train, **kwargs):\n",
        "        if not train:\n",
        "            self.output.append(last_output)\n",
        "            self.target.append(last_target)\n",
        "                \n",
        "    def on_epoch_end(self, last_metrics, **kwargs):\n",
        "        if len(self.output) > 0:\n",
        "            output = torch.cat(self.output)\n",
        "            target = torch.cat(self.target)\n",
        "            preds = F.softmax(output, dim=1)\n",
        "            metric = auroc_score(preds, target)\n",
        "            return add_metrics(last_metrics, [metric])"
      ],
      "execution_count": 0,
      "outputs": []
    },
    {
      "cell_type": "code",
      "metadata": {
        "id": "t2p-UdoSuWIN",
        "colab_type": "code",
        "colab": {}
      },
      "source": [
        "#learn = tabular_learner(data, layers=[200,100], metrics=accuracy)\n",
        "#learn = tabular_learner(data,layers=[100,200,300],emb_drop=0.,metrics=accuracy), ps=[0.3, 0.3, 0.3], \n",
        "#learn = tabular_learner(data, layers=[100,300,600], metrics=accuracy, callback_fns=AUROC)\n",
        "learn = tabular_learner(data, layers=[1000,500,300], emb_drop=0.04, metrics=accuracy, callback_fns=AUROC)\n",
        "\n",
        "#rossmann layers=[1000,500,300], ps=[0.1,0.1], emb_drop=0.04"
      ],
      "execution_count": 0,
      "outputs": []
    },
    {
      "cell_type": "code",
      "metadata": {
        "id": "TTQqMOA2so_-",
        "colab_type": "code",
        "outputId": "a217f66b-9bd2-4c5c-e1f8-283e1ff9b819",
        "colab": {
          "base_uri": "https://localhost:8080/",
          "height": 302
        }
      },
      "source": [
        "learn.lr_find()\n",
        "learn.recorder.plot()"
      ],
      "execution_count": 0,
      "outputs": [
        {
          "output_type": "display_data",
          "data": {
            "text/html": [
              ""
            ],
            "text/plain": [
              "<IPython.core.display.HTML object>"
            ]
          },
          "metadata": {
            "tags": []
          }
        },
        {
          "output_type": "stream",
          "text": [
            "LR Finder is complete, type {learner_name}.recorder.plot() to see the graph.\n"
          ],
          "name": "stdout"
        },
        {
          "output_type": "display_data",
          "data": {
            "image/png": "[encoded data removed]",
            "text/plain": [
              "<Figure size 432x288 with 1 Axes>"
            ]
          },
          "metadata": {
            "tags": []
          }
        }
      ]
    },
    {
      "cell_type": "code",
      "metadata": {
        "id": "9pVWinB5Snbm",
        "colab_type": "code",
        "outputId": "b43c4ef6-fd91-4aa4-b68f-81e9e4358abc",
        "colab": {
          "base_uri": "https://localhost:8080/",
          "height": 138
        }
      },
      "source": [
        "learn.fit_one_cycle(3, 5e-3)\n",
        "                    #,callbacks=[SaveModelCallback(learn,monitor='accuracy',mode='max'),CSVLogger(learn,filename='ensemble')])\n"
      ],
      "execution_count": 0,
      "outputs": [
        {
          "output_type": "display_data",
          "data": {
            "text/html": [
              "<table border=\"1\" class=\"dataframe\">\n",
              "  <thead>\n",
              "    <tr style=\"text-align: left;\">\n",
              "      <th>epoch</th>\n",
              "      <th>train_loss</th>\n",
              "      <th>valid_loss</th>\n",
              "      <th>accuracy</th>\n",
              "      <th>AUROC</th>\n",
              "      <th>time</th>\n",
              "    </tr>\n",
              "  </thead>\n",
              "  <tbody>\n",
              "    <tr>\n",
              "      <td>0</td>\n",
              "      <td>0.516493</td>\n",
              "      <td>0.568068</td>\n",
              "      <td>0.726000</td>\n",
              "      <td>0.631759</td>\n",
              "      <td>00:31</td>\n",
              "    </tr>\n",
              "    <tr>\n",
              "      <td>1</td>\n",
              "      <td>0.502349</td>\n",
              "      <td>0.551159</td>\n",
              "      <td>0.728000</td>\n",
              "      <td>0.675172</td>\n",
              "      <td>00:33</td>\n",
              "    </tr>\n",
              "    <tr>\n",
              "      <td>2</td>\n",
              "      <td>0.482323</td>\n",
              "      <td>0.555085</td>\n",
              "      <td>0.736000</td>\n",
              "      <td>0.668195</td>\n",
              "      <td>00:31</td>\n",
              "    </tr>\n",
              "  </tbody>\n",
              "</table>"
            ],
            "text/plain": [
              "<IPython.core.display.HTML object>"
            ]
          },
          "metadata": {
            "tags": []
          }
        }
      ]
    },
    {
      "cell_type": "code",
      "metadata": {
        "id": "F7tOWg3dBK6b",
        "colab_type": "code",
        "colab": {}
      },
      "source": [
        "learn.save('stage-1')"
      ],
      "execution_count": 0,
      "outputs": []
    },
    {
      "cell_type": "code",
      "metadata": {
        "id": "NhTGsZsYVxpq",
        "colab_type": "code",
        "colab": {}
      },
      "source": [
        "learn.load('stage-1-17')"
      ],
      "execution_count": 0,
      "outputs": []
    },
    {
      "cell_type": "code",
      "metadata": {
        "id": "IJj7UhsjhHHH",
        "colab_type": "code",
        "outputId": "8de75543-99fc-4dbd-b6bf-e54381832c0a",
        "colab": {
          "base_uri": "https://localhost:8080/",
          "height": 302
        }
      },
      "source": [
        "learn.unfreeze\n",
        "learn.lr_find()\n",
        "learn.recorder.plot()"
      ],
      "execution_count": 0,
      "outputs": [
        {
          "output_type": "display_data",
          "data": {
            "text/html": [
              ""
            ],
            "text/plain": [
              "<IPython.core.display.HTML object>"
            ]
          },
          "metadata": {
            "tags": []
          }
        },
        {
          "output_type": "stream",
          "text": [
            "LR Finder is complete, type {learner_name}.recorder.plot() to see the graph.\n"
          ],
          "name": "stdout"
        },
        {
          "output_type": "display_data",
          "data": {
            "image/png": "[encoded data removed]",
            "text/plain": [
              "<Figure size 432x288 with 1 Axes>"
            ]
          },
          "metadata": {
            "tags": []
          }
        }
      ]
    },
    {
      "cell_type": "code",
      "metadata": {
        "id": "mgcR6iDswpQa",
        "colab_type": "code",
        "outputId": "53b5363d-73a9-4952-9f5f-60226a6d1252",
        "colab": {
          "base_uri": "https://localhost:8080/",
          "height": 138
        }
      },
      "source": [
        "learn.fit_one_cycle(3, 1e-6)"
      ],
      "execution_count": 0,
      "outputs": [
        {
          "output_type": "display_data",
          "data": {
            "text/html": [
              "<table border=\"1\" class=\"dataframe\">\n",
              "  <thead>\n",
              "    <tr style=\"text-align: left;\">\n",
              "      <th>epoch</th>\n",
              "      <th>train_loss</th>\n",
              "      <th>valid_loss</th>\n",
              "      <th>accuracy</th>\n",
              "      <th>AUROC</th>\n",
              "      <th>time</th>\n",
              "    </tr>\n",
              "  </thead>\n",
              "  <tbody>\n",
              "    <tr>\n",
              "      <td>0</td>\n",
              "      <td>0.481682</td>\n",
              "      <td>0.546984</td>\n",
              "      <td>0.728000</td>\n",
              "      <td>0.689148</td>\n",
              "      <td>00:33</td>\n",
              "    </tr>\n",
              "    <tr>\n",
              "      <td>1</td>\n",
              "      <td>0.484115</td>\n",
              "      <td>0.548560</td>\n",
              "      <td>0.728000</td>\n",
              "      <td>0.686433</td>\n",
              "      <td>00:32</td>\n",
              "    </tr>\n",
              "    <tr>\n",
              "      <td>2</td>\n",
              "      <td>0.476258</td>\n",
              "      <td>0.548709</td>\n",
              "      <td>0.726000</td>\n",
              "      <td>0.687881</td>\n",
              "      <td>00:33</td>\n",
              "    </tr>\n",
              "  </tbody>\n",
              "</table>"
            ],
            "text/plain": [
              "<IPython.core.display.HTML object>"
            ]
          },
          "metadata": {
            "tags": []
          }
        }
      ]
    },
    {
      "cell_type": "code",
      "metadata": {
        "id": "UWJMQZtSBwnM",
        "colab_type": "code",
        "colab": {}
      },
      "source": [
        "learn.save('stage-2')"
      ],
      "execution_count": 0,
      "outputs": []
    },
    {
      "cell_type": "code",
      "metadata": {
        "id": "IB-gVq9vmu6E",
        "colab_type": "code",
        "outputId": "66e330a4-7099-4b6e-d53b-e6e1e73bcc21",
        "colab": {
          "base_uri": "https://localhost:8080/",
          "height": 302
        }
      },
      "source": [
        "learn.unfreeze\n",
        "learn.lr_find()\n",
        "learn.recorder.plot()"
      ],
      "execution_count": 0,
      "outputs": [
        {
          "output_type": "display_data",
          "data": {
            "text/html": [
              ""
            ],
            "text/plain": [
              "<IPython.core.display.HTML object>"
            ]
          },
          "metadata": {
            "tags": []
          }
        },
        {
          "output_type": "stream",
          "text": [
            "LR Finder is complete, type {learner_name}.recorder.plot() to see the graph.\n"
          ],
          "name": "stdout"
        },
        {
          "output_type": "display_data",
          "data": {
            "image/png": "[encoded data removed]",
            "text/plain": [
              "<Figure size 432x288 with 1 Axes>"
            ]
          },
          "metadata": {
            "tags": []
          }
        }
      ]
    },
    {
      "cell_type": "code",
      "metadata": {
        "id": "2VYQZgRSm1EZ",
        "colab_type": "code",
        "outputId": "baaa15d1-11f3-4c7e-c641-417d32f3837b",
        "colab": {
          "base_uri": "https://localhost:8080/",
          "height": 138
        }
      },
      "source": [
        "learn.fit_one_cycle(3, 8e-7)"
      ],
      "execution_count": 0,
      "outputs": [
        {
          "output_type": "display_data",
          "data": {
            "text/html": [
              "<table border=\"1\" class=\"dataframe\">\n",
              "  <thead>\n",
              "    <tr style=\"text-align: left;\">\n",
              "      <th>epoch</th>\n",
              "      <th>train_loss</th>\n",
              "      <th>valid_loss</th>\n",
              "      <th>accuracy</th>\n",
              "      <th>AUROC</th>\n",
              "      <th>time</th>\n",
              "    </tr>\n",
              "  </thead>\n",
              "  <tbody>\n",
              "    <tr>\n",
              "      <td>0</td>\n",
              "      <td>0.477350</td>\n",
              "      <td>0.547010</td>\n",
              "      <td>0.732000</td>\n",
              "      <td>0.686332</td>\n",
              "      <td>00:32</td>\n",
              "    </tr>\n",
              "    <tr>\n",
              "      <td>1</td>\n",
              "      <td>0.480294</td>\n",
              "      <td>0.547913</td>\n",
              "      <td>0.732000</td>\n",
              "      <td>0.686172</td>\n",
              "      <td>00:33</td>\n",
              "    </tr>\n",
              "    <tr>\n",
              "      <td>2</td>\n",
              "      <td>0.478316</td>\n",
              "      <td>0.548020</td>\n",
              "      <td>0.724000</td>\n",
              "      <td>0.688223</td>\n",
              "      <td>00:32</td>\n",
              "    </tr>\n",
              "  </tbody>\n",
              "</table>"
            ],
            "text/plain": [
              "<IPython.core.display.HTML object>"
            ]
          },
          "metadata": {
            "tags": []
          }
        }
      ]
    },
    {
      "cell_type": "code",
      "metadata": {
        "id": "Xb-kjDTxUx9Q",
        "colab_type": "code",
        "colab": {}
      },
      "source": [
        "learn.save('stage-3-17')"
      ],
      "execution_count": 0,
      "outputs": []
    },
    {
      "cell_type": "code",
      "metadata": {
        "id": "zK9L3G9GVvcn",
        "colab_type": "code",
        "colab": {}
      },
      "source": [
        "learn.load('stage-3-17')"
      ],
      "execution_count": 0,
      "outputs": []
    },
    {
      "cell_type": "code",
      "metadata": {
        "id": "17_sjngeU64A",
        "colab_type": "code",
        "outputId": "b5161c6a-8b18-4a9e-de5b-104790319c51",
        "colab": {
          "base_uri": "https://localhost:8080/",
          "height": 302
        }
      },
      "source": [
        "learn.unfreeze\n",
        "learn.lr_find()\n",
        "learn.recorder.plot()"
      ],
      "execution_count": 0,
      "outputs": [
        {
          "output_type": "display_data",
          "data": {
            "text/html": [
              ""
            ],
            "text/plain": [
              "<IPython.core.display.HTML object>"
            ]
          },
          "metadata": {
            "tags": []
          }
        },
        {
          "output_type": "stream",
          "text": [
            "LR Finder is complete, type {learner_name}.recorder.plot() to see the graph.\n"
          ],
          "name": "stdout"
        },
        {
          "output_type": "display_data",
          "data": {
            "image/png": "[encoded data removed]",
            "text/plain": [
              "<Figure size 432x288 with 1 Axes>"
            ]
          },
          "metadata": {
            "tags": []
          }
        }
      ]
    },
    {
      "cell_type": "code",
      "metadata": {
        "id": "cr21u68DU95E",
        "colab_type": "code",
        "outputId": "2c9eab2a-f0a7-40f1-c9a6-9c73984a256b",
        "colab": {
          "base_uri": "https://localhost:8080/",
          "height": 138
        }
      },
      "source": [
        "learn.fit_one_cycle(3, 1e-6)"
      ],
      "execution_count": 0,
      "outputs": [
        {
          "output_type": "display_data",
          "data": {
            "text/html": [
              "<table border=\"1\" class=\"dataframe\">\n",
              "  <thead>\n",
              "    <tr style=\"text-align: left;\">\n",
              "      <th>epoch</th>\n",
              "      <th>train_loss</th>\n",
              "      <th>valid_loss</th>\n",
              "      <th>accuracy</th>\n",
              "      <th>AUROC</th>\n",
              "      <th>time</th>\n",
              "    </tr>\n",
              "  </thead>\n",
              "  <tbody>\n",
              "    <tr>\n",
              "      <td>0</td>\n",
              "      <td>0.464327</td>\n",
              "      <td>0.548457</td>\n",
              "      <td>0.728000</td>\n",
              "      <td>0.684885</td>\n",
              "      <td>00:31</td>\n",
              "    </tr>\n",
              "    <tr>\n",
              "      <td>1</td>\n",
              "      <td>0.477704</td>\n",
              "      <td>0.548341</td>\n",
              "      <td>0.726000</td>\n",
              "      <td>0.688142</td>\n",
              "      <td>00:33</td>\n",
              "    </tr>\n",
              "    <tr>\n",
              "      <td>2</td>\n",
              "      <td>0.476409</td>\n",
              "      <td>0.546791</td>\n",
              "      <td>0.732000</td>\n",
              "      <td>0.687418</td>\n",
              "      <td>00:32</td>\n",
              "    </tr>\n",
              "  </tbody>\n",
              "</table>"
            ],
            "text/plain": [
              "<IPython.core.display.HTML object>"
            ]
          },
          "metadata": {
            "tags": []
          }
        }
      ]
    },
    {
      "cell_type": "code",
      "metadata": {
        "id": "1f7PDpiPr225",
        "colab_type": "code",
        "colab": {}
      },
      "source": [
        "#https://www.kaggle.com/davidsalazarv95/fast-ai-pytorch-starter-version-two\n",
        "from sklearn.metrics import confusion_matrix\n",
        "cm = confusion_matrix(y_valid, preds_binary)\n",
        "plot_confusion_matrix(cm, [0, 1])"
      ],
      "execution_count": 0,
      "outputs": []
    },
    {
      "cell_type": "code",
      "metadata": {
        "id": "-3THTONksEvo",
        "colab_type": "code",
        "colab": {}
      },
      "source": [
        "from sklearn.metrics import classification_report\n",
        "print(classification_report(y_valid,\n",
        "                            preds_binary,\n",
        "                            target_names= ['0', '1']))\n",
        "\n",
        "from sklearn.metrics import roc_curve\n",
        "false_positive_rate, true_positive_rate, threshold = roc_curve(y_valid,\n",
        "                                                               preds_valid)"
      ],
      "execution_count": 0,
      "outputs": []
    },
    {
      "cell_type": "markdown",
      "metadata": {
        "id": "LD9IUmW5Snbu",
        "colab_type": "text"
      },
      "source": [
        "## Inference"
      ]
    },
    {
      "cell_type": "code",
      "metadata": {
        "id": "xaLPqu2BSnbw",
        "colab_type": "code",
        "colab": {}
      },
      "source": [
        "row = df.iloc[200]"
      ],
      "execution_count": 0,
      "outputs": []
    },
    {
      "cell_type": "code",
      "metadata": {
        "id": "KsPlz63USnb2",
        "colab_type": "code",
        "outputId": "96d39b2c-11eb-4b6b-deca-11705dde435f",
        "colab": {
          "base_uri": "https://localhost:8080/",
          "height": 35
        }
      },
      "source": [
        "learn.predict(row)"
      ],
      "execution_count": 0,
      "outputs": [
        {
          "output_type": "execute_result",
          "data": {
            "text/plain": [
              "(Category 0, tensor(0), tensor([0.7716, 0.2284]))"
            ]
          },
          "metadata": {
            "tags": []
          },
          "execution_count": 52
        }
      ]
    },
    {
      "cell_type": "code",
      "metadata": {
        "id": "3UWfFmUDSnb9",
        "colab_type": "code",
        "colab": {}
      },
      "source": [
        "#How t odraw ROC curve AUC-->https://forums.fast.ai/t/roc-curve-how-to-graph/13940/3\n",
        "valid_idx = range(len(df)-1500,len(df)\n",
        "valid_set = df.iloc[valid_idx, :]\n",
        "preds = learn.get_preds()\n",
        "y_score = preds[0][:,1].numpy()\n",
        "y_test = valid_set.label.values"
      ],
      "execution_count": 0,
      "outputs": []
    },
    {
      "cell_type": "code",
      "metadata": {
        "id": "5Lv97cfbJjpD",
        "colab_type": "code",
        "colab": {}
      },
      "source": [
        "preds = learn.get_preds()\n",
        "y_score = preds[0][:,1].numpy()\n"
      ],
      "execution_count": 0,
      "outputs": []
    },
    {
      "cell_type": "code",
      "metadata": {
        "id": "F0ZkZBozKZYE",
        "colab_type": "code",
        "colab": {}
      },
      "source": [
        "y_test = test.labels.values"
      ],
      "execution_count": 0,
      "outputs": []
    },
    {
      "cell_type": "code",
      "metadata": {
        "id": "ay0BTVGSmiE6",
        "colab_type": "code",
        "colab": {}
      },
      "source": [
        "def roc_auc(preds, y):                                                                                                                                                                                         \n",
        "      return metrics.roc_auc_score(y.data.cpu().numpy(), np.exp(preds.cpu().numpy())) "
      ],
      "execution_count": 0,
      "outputs": []
    },
    {
      "cell_type": "code",
      "metadata": {
        "id": "6FWlrWcDmvLM",
        "colab_type": "code",
        "colab": {}
      },
      "source": [
        "def roc_auc(preds, y):\n",
        "  preds = np.exp(preds) #conv from logs\n",
        "  exp = V(y).data.cpu().numpy() #predicted category ID\n",
        "  #batch X num_classes\n",
        "  bs = preds.shape[0] #batch size\n",
        "  nclass = preds.shape[1] #size to determine length of Y one hot encoding\n",
        "  y = np.zeros((bs, nclass))\n",
        "  y[np.arange(bs), exp] = 1 #one hot encode Ys\n",
        "  return metrics.roc_auc_score(y, preds, average=\"micro\")"
      ],
      "execution_count": 0,
      "outputs": []
    },
    {
      "cell_type": "code",
      "metadata": {
        "id": "ZyhoMn05or-z",
        "colab_type": "code",
        "colab": {}
      },
      "source": [
        "preds_test = learn.get_preds (DatasetType.Test)\n"
      ],
      "execution_count": 0,
      "outputs": []
    },
    {
      "cell_type": "code",
      "metadata": {
        "id": "WaNBOyer6OmP",
        "colab_type": "code",
        "outputId": "fecbf13d-4855-48c2-8f40-a74a230e451c",
        "colab": {
          "base_uri": "https://localhost:8080/",
          "height": 35
        }
      },
      "source": [
        "type(preds_test), len(preds_test)"
      ],
      "execution_count": 0,
      "outputs": [
        {
          "output_type": "execute_result",
          "data": {
            "text/plain": [
              "(list, 2)"
            ]
          },
          "metadata": {
            "tags": []
          },
          "execution_count": 32
        }
      ]
    },
    {
      "cell_type": "code",
      "metadata": {
        "id": "YeP52OP06q29",
        "colab_type": "code",
        "colab": {}
      },
      "source": [
        "test_preds, test_ys = learn.get_preds(ds_type=DatasetType.Test)"
      ],
      "execution_count": 0,
      "outputs": []
    },
    {
      "cell_type": "code",
      "metadata": {
        "id": "z8Rz0uE-7OJP",
        "colab_type": "code",
        "outputId": "8d4a222e-6f55-4150-8f87-c0d7333d4fbd",
        "colab": {
          "base_uri": "https://localhost:8080/",
          "height": 35
        }
      },
      "source": [
        "type(test_preds), test_preds.shape,  test_ys.shape"
      ],
      "execution_count": 0,
      "outputs": [
        {
          "output_type": "execute_result",
          "data": {
            "text/plain": [
              "(torch.Tensor, torch.Size([112392, 2]), torch.Size([112392]))"
            ]
          },
          "metadata": {
            "tags": []
          },
          "execution_count": 36
        }
      ]
    },
    {
      "cell_type": "code",
      "metadata": {
        "id": "hQX8S0Ci8uAK",
        "colab_type": "code",
        "outputId": "eead5dff-b939-4dc4-edc4-3f495df1ba49",
        "colab": {
          "base_uri": "https://localhost:8080/",
          "height": 145
        }
      },
      "source": [
        "test_preds, test_ys"
      ],
      "execution_count": 0,
      "outputs": [
        {
          "output_type": "execute_result",
          "data": {
            "text/plain": [
              "(tensor([[0.7076, 0.2924],\n",
              "         [0.5826, 0.4174],\n",
              "         [0.8012, 0.1988],\n",
              "         ...,\n",
              "         [0.6484, 0.3516],\n",
              "         [0.0722, 0.9278],\n",
              "         [0.7896, 0.2104]]), tensor([0, 0, 0,  ..., 0, 0, 0]))"
            ]
          },
          "metadata": {
            "tags": []
          },
          "execution_count": 37
        }
      ]
    },
    {
      "cell_type": "code",
      "metadata": {
        "id": "XywZ7c7E85RX",
        "colab_type": "code",
        "colab": {}
      },
      "source": [
        "testprobs = np.exp(test_preds) / np.exp(test_preds).sum(1)[:,None]"
      ],
      "execution_count": 0,
      "outputs": []
    },
    {
      "cell_type": "code",
      "metadata": {
        "id": "rygMzf109KiH",
        "colab_type": "code",
        "colab": {}
      },
      "source": [
        "test_probs = testprobs.tolist()"
      ],
      "execution_count": 0,
      "outputs": []
    },
    {
      "cell_type": "code",
      "metadata": {
        "id": "bng20rH292QM",
        "colab_type": "code",
        "colab": {}
      },
      "source": [
        "my_df = pd.DataFrame(test_probs)\n",
        "my_df.to_csv('submission.csv')"
      ],
      "execution_count": 0,
      "outputs": []
    },
    {
      "cell_type": "code",
      "metadata": {
        "id": "nfSaQh4J9qXV",
        "colab_type": "code",
        "colab": {}
      },
      "source": [
        "test_probs."
      ],
      "execution_count": 0,
      "outputs": []
    },
    {
      "cell_type": "code",
      "metadata": {
        "id": "PG2OWPLWEgdw",
        "colab_type": "code",
        "colab": {}
      },
      "source": [
        "#https://github.com/berndheidemann/notebooks_fastai/blob/master/titanic.ipynb\n",
        "predictions, *_ = learn.get_preds(DatasetType.Test)\n",
        "labels = np.argmax(predictions, 1)\n",
        "labels"
      ],
      "execution_count": 0,
      "outputs": []
    },
    {
      "cell_type": "code",
      "metadata": {
        "id": "tXAgnEG8Kvtl",
        "colab_type": "code",
        "colab": {}
      },
      "source": [
        ""
      ],
      "execution_count": 0,
      "outputs": []
    },
    {
      "cell_type": "code",
      "metadata": {
        "id": "cNWPjA5u9qRU",
        "colab_type": "code",
        "colab": {}
      },
      "source": [
        "\n",
        "res_df = pd.DataFrame({'UniqueID': df_test['UniqueID'], 'loan_default': labels})\n",
        "res_df.to_csv('loan_submission.csv', index=False)\n"
      ],
      "execution_count": 0,
      "outputs": []
    },
    {
      "cell_type": "code",
      "metadata": {
        "id": "c1z1eTivD8fN",
        "colab_type": "code",
        "colab": {}
      },
      "source": [
        ""
      ],
      "execution_count": 0,
      "outputs": []
    },
    {
      "cell_type": "code",
      "metadata": {
        "id": "qCmA3k_BGBZv",
        "colab_type": "code",
        "colab": {}
      },
      "source": [
        ""
      ],
      "execution_count": 0,
      "outputs": []
    },
    {
      "cell_type": "code",
      "metadata": {
        "id": "-nn_ID56D91K",
        "colab_type": "code",
        "outputId": "3150b392-2791-417a-9d35-1555a9e12ec4",
        "colab": {
          "base_uri": "https://localhost:8080/",
          "height": 35
        }
      },
      "source": [
        ""
      ],
      "execution_count": 0,
      "outputs": [
        {
          "output_type": "execute_result",
          "data": {
            "text/plain": [
              "tensor([0, 0, 0,  ..., 0, 1, 0])"
            ]
          },
          "metadata": {
            "tags": []
          },
          "execution_count": 48
        }
      ]
    }
  ]
}