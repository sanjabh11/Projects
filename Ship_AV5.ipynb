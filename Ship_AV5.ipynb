{
  "nbformat": 4,
  "nbformat_minor": 0,
  "metadata": {
    "colab": {
      "name": "Ship_AV5.ipynb",
      "version": "0.3.2",
      "provenance": [],
      "collapsed_sections": [
        "38D-j9vrYMAc",
        "aGBGsahDYMBG",
        "VncQW_7wYMB6"
      ],
      "include_colab_link": true
    },
    "kernelspec": {
      "name": "python3",
      "display_name": "Python 3"
    },
    "accelerator": "GPU"
  },
  "cells": [
    {
      "cell_type": "markdown",
      "metadata": {
        "id": "view-in-github",
        "colab_type": "text"
      },
      "source": [
        "<a href=\"https://colab.research.google.com/github/sanjabh11/Projects/blob/master/Ship_AV5.ipynb\" target=\"_parent\"><img src=\"https://colab.research.google.com/assets/colab-badge.svg\" alt=\"Open In Colab\"/></a>"
      ]
    },
    {
      "cell_type": "code",
      "metadata": {
        "id": "58rSIhkRYL9q",
        "colab_type": "code",
        "colab": {}
      },
      "source": [
        "#Resnet 50 with 99.2 accuracy but 90.34 score\n",
        "%reload_ext autoreload\n",
        "%autoreload 2\n",
        "%matplotlib inline"
      ],
      "execution_count": 0,
      "outputs": []
    },
    {
      "cell_type": "code",
      "metadata": {
        "id": "d212MbwZHXQ7",
        "colab_type": "code",
        "outputId": "7f7373d4-dfd5-4eee-c19a-1632e0ad2ad5",
        "colab": {
          "base_uri": "https://localhost:8080/",
          "height": 35
        }
      },
      "source": [
        "import fastai\n",
        "fastai.__version__"
      ],
      "execution_count": 0,
      "outputs": [
        {
          "output_type": "execute_result",
          "data": {
            "text/plain": [
              "'1.0.52'"
            ]
          },
          "metadata": {
            "tags": []
          },
          "execution_count": 2
        }
      ]
    },
    {
      "cell_type": "markdown",
      "metadata": {
        "id": "mfxgRfCJYL9y",
        "colab_type": "text"
      },
      "source": [
        "We import all the necessary packages. We are going to work with the [fastai V1 library](http://www.fast.ai/2018/10/02/fastai-ai/) which sits on top of [Pytorch 1.0](https://hackernoon.com/pytorch-1-0-468332ba5163). The fastai library provides many useful functions that enable us to quickly and easily build neural networks and train our models."
      ]
    },
    {
      "cell_type": "code",
      "metadata": {
        "id": "pviNyobNYL91",
        "colab_type": "code",
        "colab": {}
      },
      "source": [
        "from fastai.vision import *\n",
        "#from fastai.metrics import error_rate"
      ],
      "execution_count": 0,
      "outputs": []
    },
    {
      "cell_type": "markdown",
      "metadata": {
        "id": "fIxSvfkDYL97",
        "colab_type": "text"
      },
      "source": [
        "If you're using a computer with an unusually small GPU, you may get an out of memory error when running this notebook. If this happens, click Kernel->Restart, uncomment the 2nd line below to use a smaller *batch size* (you'll learn all about what this means during the course), and try again."
      ]
    },
    {
      "cell_type": "code",
      "metadata": {
        "id": "O3j0UGX9YL98",
        "colab_type": "code",
        "colab": {}
      },
      "source": [
        "#bs = 64\n",
        "bs = 512   # uncomment this line if you run out of memory even after clicking Kernel->Restart"
      ],
      "execution_count": 0,
      "outputs": []
    },
    {
      "cell_type": "code",
      "metadata": {
        "id": "Bhb07DINWn3b",
        "colab_type": "code",
        "outputId": "8f540785-4845-4e1b-ff6a-8bfaf9780029",
        "colab": {
          "base_uri": "https://localhost:8080/",
          "height": 128
        }
      },
      "source": [
        "from google.colab import drive\n",
        "drive.mount('/content/gdrive/', force_remount=True)"
      ],
      "execution_count": 0,
      "outputs": [
        {
          "output_type": "stream",
          "text": [
            "Go to this URL in a browser: https://accounts.google.com/o/oauth2/auth?client_id=947318989803-6bn6qk8qdgf4n4g3pfee6491hc0brc4i.apps.googleusercontent.com&redirect_uri=urn%3Aietf%3Awg%3Aoauth%3A2.0%3Aoob&scope=email%20https%3A%2F%2Fwww.googleapis.com%2Fauth%2Fdocs.test%20https%3A%2F%2Fwww.googleapis.com%2Fauth%2Fdrive%20https%3A%2F%2Fwww.googleapis.com%2Fauth%2Fdrive.photos.readonly%20https%3A%2F%2Fwww.googleapis.com%2Fauth%2Fpeopleapi.readonly&response_type=code\n",
            "\n",
            "Enter your authorization code:\n",
            "··········\n",
            "Mounted at /content/gdrive/\n"
          ],
          "name": "stdout"
        }
      ]
    },
    {
      "cell_type": "markdown",
      "metadata": {
        "id": "snYRv0_5YL-I",
        "colab_type": "text"
      },
      "source": [
        "## Looking at the data"
      ]
    },
    {
      "cell_type": "code",
      "metadata": {
        "id": "l5FzUfn5u7b3",
        "colab_type": "code",
        "outputId": "5b80265a-d526-4131-9c27-e686b11f46a5",
        "colab": {
          "base_uri": "https://localhost:8080/",
          "height": 35
        }
      },
      "source": [
        "path = \"/content/gdrive/My Drive/Ships\"\n",
        "path"
      ],
      "execution_count": 0,
      "outputs": [
        {
          "output_type": "execute_result",
          "data": {
            "text/plain": [
              "'/content/gdrive/My Drive/Ships'"
            ]
          },
          "metadata": {
            "tags": []
          },
          "execution_count": 4
        }
      ]
    },
    {
      "cell_type": "code",
      "metadata": {
        "id": "FJMhvITE05sY",
        "colab_type": "code",
        "colab": {}
      },
      "source": [
        "tfms = get_transforms(flip_vert=False, max_lighting=0.2, max_zoom=1.1, max_warp=0.)"
      ],
      "execution_count": 0,
      "outputs": []
    },
    {
      "cell_type": "code",
      "metadata": {
        "id": "4XL5TYcJb7lL",
        "colab_type": "code",
        "colab": {}
      },
      "source": [
        "#File based\n",
        "np.random.seed(42)\n",
        "data = ImageDataBunch.from_csv(path, \n",
        "                        folder='images',\n",
        "                        csv_labels='train.csv',\n",
        "                        fn_col=0, label_col=1,\n",
        "                        ds_tfms=get_transforms(tfms),                       \n",
        "                        size=100, valid_pct=0.2)"
      ],
      "execution_count": 0,
      "outputs": []
    },
    {
      "cell_type": "code",
      "metadata": {
        "id": "WVPAwByh5xcJ",
        "colab_type": "code",
        "colab": {}
      },
      "source": [
        "data.show_batch(rows=4, figsize=(6,7))"
      ],
      "execution_count": 0,
      "outputs": []
    },
    {
      "cell_type": "markdown",
      "metadata": {
        "id": "8RgZSGmMJoB-",
        "colab_type": "text"
      },
      "source": [
        ""
      ]
    },
    {
      "cell_type": "code",
      "metadata": {
        "id": "lsC0MPyw3gyE",
        "colab_type": "code",
        "outputId": "5ff2685d-47b3-4879-95fd-0ff3249c03ce",
        "colab": {
          "base_uri": "https://localhost:8080/",
          "height": 35
        }
      },
      "source": [
        "  data.classes, data.c, len(data.train_ds), len(data.valid_ds)"
      ],
      "execution_count": 0,
      "outputs": [
        {
          "output_type": "execute_result",
          "data": {
            "text/plain": [
              "([1, 2, 3, 4, 5], 5, 5002, 1250)"
            ]
          },
          "metadata": {
            "tags": []
          },
          "execution_count": 7
        }
      ]
    },
    {
      "cell_type": "code",
      "metadata": {
        "id": "qlzMDe8M_Nm2",
        "colab_type": "code",
        "outputId": "b4dfa067-fe4f-4acd-b3b3-bb058b63028b",
        "colab": {
          "base_uri": "https://localhost:8080/",
          "height": 35
        }
      },
      "source": [
        "len(data.train_ds)"
      ],
      "execution_count": 0,
      "outputs": [
        {
          "output_type": "execute_result",
          "data": {
            "text/plain": [
              "5002"
            ]
          },
          "metadata": {
            "tags": []
          },
          "execution_count": 11
        }
      ]
    },
    {
      "cell_type": "markdown",
      "metadata": {
        "id": "sZVle1v6YL_e",
        "colab_type": "text"
      },
      "source": [
        "## Training: resnet34"
      ]
    },
    {
      "cell_type": "code",
      "metadata": {
        "id": "1AmfVSxaN91M",
        "colab_type": "code",
        "colab": {}
      },
      "source": [
        "fbeta = FBeta(average='weighted')"
      ],
      "execution_count": 0,
      "outputs": []
    },
    {
      "cell_type": "code",
      "metadata": {
        "id": "BlusrCx1KWGb",
        "colab_type": "code",
        "outputId": "0a86a8d0-f3de-4e03-a703-a2dbda868370",
        "colab": {
          "base_uri": "https://localhost:8080/",
          "height": 74
        }
      },
      "source": [
        "#f_score = partial(fbeta, thresh=0.4)\n",
        "#learn = cnn_learner(data, arch, metrics=[acc_02, f_score])\n",
        "learn = cnn_learner(data, models.resnet50, metrics=[accuracy, fbeta])"
      ],
      "execution_count": 0,
      "outputs": [
        {
          "output_type": "stream",
          "text": [
            "Downloading: \"https://download.pytorch.org/models/resnet50-19c8e357.pth\" to /root/.cache/torch/checkpoints/resnet50-19c8e357.pth\n",
            "100%|██████████| 102502400/102502400 [00:03<00:00, 26824715.04it/s]\n"
          ],
          "name": "stderr"
        }
      ]
    },
    {
      "cell_type": "markdown",
      "metadata": {
        "id": "fuDnSC9cf6rA",
        "colab_type": "text"
      },
      "source": [
        ""
      ]
    },
    {
      "cell_type": "code",
      "metadata": {
        "id": "DKGx5RTZKm_Y",
        "colab_type": "code",
        "outputId": "eaffb085-70a4-469a-9998-2071c1ebc1a5",
        "colab": {
          "base_uri": "https://localhost:8080/",
          "height": 302
        }
      },
      "source": [
        "learn.lr_find()\n",
        "learn.recorder.plot()"
      ],
      "execution_count": 0,
      "outputs": [
        {
          "output_type": "display_data",
          "data": {
            "text/html": [
              ""
            ],
            "text/plain": [
              "<IPython.core.display.HTML object>"
            ]
          },
          "metadata": {
            "tags": []
          }
        },
        {
          "output_type": "stream",
          "text": [
            "LR Finder is complete, type {learner_name}.recorder.plot() to see the graph.\n"
          ],
          "name": "stdout"
        },
        {
          "output_type": "display_data",
          "data": {
            "image/png": "[encoded data removed]",
            "text/plain": [
              "<Figure size 432x288 with 1 Axes>"
            ]
          },
          "metadata": {
            "tags": []
          }
        }
      ]
    },
    {
      "cell_type": "code",
      "metadata": {
        "id": "2y5HZ2kzYL_s",
        "colab_type": "code",
        "outputId": "f9b7086a-807c-4912-a66e-c4fe91a0c9e4",
        "colab": {
          "base_uri": "https://localhost:8080/",
          "height": 348
        }
      },
      "source": [
        "learn.fit_one_cycle(10, max_lr=slice(1e-03,1e-01))"
      ],
      "execution_count": 0,
      "outputs": [
        {
          "output_type": "display_data",
          "data": {
            "text/html": [
              "<table border=\"1\" class=\"dataframe\">\n",
              "  <thead>\n",
              "    <tr style=\"text-align: left;\">\n",
              "      <th>epoch</th>\n",
              "      <th>train_loss</th>\n",
              "      <th>valid_loss</th>\n",
              "      <th>accuracy</th>\n",
              "      <th>f_beta</th>\n",
              "      <th>time</th>\n",
              "    </tr>\n",
              "  </thead>\n",
              "  <tbody>\n",
              "    <tr>\n",
              "      <td>0</td>\n",
              "      <td>0.942829</td>\n",
              "      <td>0.717618</td>\n",
              "      <td>0.745600</td>\n",
              "      <td>0.738112</td>\n",
              "      <td>14:49</td>\n",
              "    </tr>\n",
              "    <tr>\n",
              "      <td>1</td>\n",
              "      <td>0.829099</td>\n",
              "      <td>0.924748</td>\n",
              "      <td>0.710400</td>\n",
              "      <td>0.698500</td>\n",
              "      <td>00:29</td>\n",
              "    </tr>\n",
              "    <tr>\n",
              "      <td>2</td>\n",
              "      <td>0.959637</td>\n",
              "      <td>1.932027</td>\n",
              "      <td>0.684000</td>\n",
              "      <td>0.659708</td>\n",
              "      <td>00:28</td>\n",
              "    </tr>\n",
              "    <tr>\n",
              "      <td>3</td>\n",
              "      <td>0.816239</td>\n",
              "      <td>0.787471</td>\n",
              "      <td>0.780000</td>\n",
              "      <td>0.776467</td>\n",
              "      <td>00:28</td>\n",
              "    </tr>\n",
              "    <tr>\n",
              "      <td>4</td>\n",
              "      <td>0.675275</td>\n",
              "      <td>0.616677</td>\n",
              "      <td>0.815200</td>\n",
              "      <td>0.814047</td>\n",
              "      <td>00:28</td>\n",
              "    </tr>\n",
              "    <tr>\n",
              "      <td>5</td>\n",
              "      <td>0.511914</td>\n",
              "      <td>0.367941</td>\n",
              "      <td>0.864000</td>\n",
              "      <td>0.860926</td>\n",
              "      <td>00:28</td>\n",
              "    </tr>\n",
              "    <tr>\n",
              "      <td>6</td>\n",
              "      <td>0.427254</td>\n",
              "      <td>0.322882</td>\n",
              "      <td>0.877600</td>\n",
              "      <td>0.877940</td>\n",
              "      <td>00:28</td>\n",
              "    </tr>\n",
              "    <tr>\n",
              "      <td>7</td>\n",
              "      <td>0.329987</td>\n",
              "      <td>0.391470</td>\n",
              "      <td>0.874400</td>\n",
              "      <td>0.874108</td>\n",
              "      <td>00:28</td>\n",
              "    </tr>\n",
              "    <tr>\n",
              "      <td>8</td>\n",
              "      <td>0.284284</td>\n",
              "      <td>0.297494</td>\n",
              "      <td>0.896000</td>\n",
              "      <td>0.896301</td>\n",
              "      <td>00:28</td>\n",
              "    </tr>\n",
              "    <tr>\n",
              "      <td>9</td>\n",
              "      <td>0.251696</td>\n",
              "      <td>0.281250</td>\n",
              "      <td>0.896800</td>\n",
              "      <td>0.896771</td>\n",
              "      <td>00:28</td>\n",
              "    </tr>\n",
              "  </tbody>\n",
              "</table>"
            ],
            "text/plain": [
              "<IPython.core.display.HTML object>"
            ]
          },
          "metadata": {
            "tags": []
          }
        }
      ]
    },
    {
      "cell_type": "code",
      "metadata": {
        "id": "B83eXRj8KddJ",
        "colab_type": "code",
        "outputId": "5b659ff0-981c-47cf-fe24-95728021a980",
        "colab": {
          "base_uri": "https://localhost:8080/",
          "height": 302
        }
      },
      "source": [
        "learn.unfreeze()\n",
        "learn.lr_find()\n",
        "learn.recorder.plot()"
      ],
      "execution_count": 0,
      "outputs": [
        {
          "output_type": "display_data",
          "data": {
            "text/html": [
              ""
            ],
            "text/plain": [
              "<IPython.core.display.HTML object>"
            ]
          },
          "metadata": {
            "tags": []
          }
        },
        {
          "output_type": "stream",
          "text": [
            "LR Finder is complete, type {learner_name}.recorder.plot() to see the graph.\n"
          ],
          "name": "stdout"
        },
        {
          "output_type": "display_data",
          "data": {
            "image/png": "[encoded data removed]",
            "text/plain": [
              "<Figure size 432x288 with 1 Axes>"
            ]
          },
          "metadata": {
            "tags": []
          }
        }
      ]
    },
    {
      "cell_type": "code",
      "metadata": {
        "id": "7Pz62ArQM6jp",
        "colab_type": "code",
        "outputId": "9860f1cb-80b7-414b-f139-ee4c8630923c",
        "colab": {
          "base_uri": "https://localhost:8080/",
          "height": 244
        }
      },
      "source": [
        "learn.fit_one_cycle(20, max_lr=slice(1e-06,1e-05))"
      ],
      "execution_count": 0,
      "outputs": [
        {
          "output_type": "display_data",
          "data": {
            "text/html": [
              "\n",
              "    <div>\n",
              "        <style>\n",
              "            /* Turns off some styling */\n",
              "            progress {\n",
              "                /* gets rid of default border in Firefox and Opera. */\n",
              "                border: none;\n",
              "                /* Needs to be in here for Safari polyfill so background images work as expected. */\n",
              "                background-size: auto;\n",
              "            }\n",
              "            .progress-bar-interrupted, .progress-bar-interrupted::-webkit-progress-bar {\n",
              "                background: #F44336;\n",
              "            }\n",
              "        </style>\n",
              "      <progress value='5' class='' max='20', style='width:300px; height:20px; vertical-align: middle;'></progress>\n",
              "      25.00% [5/20 02:26<07:20]\n",
              "    </div>\n",
              "    \n",
              "<table border=\"1\" class=\"dataframe\">\n",
              "  <thead>\n",
              "    <tr style=\"text-align: left;\">\n",
              "      <th>epoch</th>\n",
              "      <th>train_loss</th>\n",
              "      <th>valid_loss</th>\n",
              "      <th>accuracy</th>\n",
              "      <th>f_beta</th>\n",
              "      <th>time</th>\n",
              "    </tr>\n",
              "  </thead>\n",
              "  <tbody>\n",
              "    <tr>\n",
              "      <td>0</td>\n",
              "      <td>0.230885</td>\n",
              "      <td>0.280575</td>\n",
              "      <td>0.897600</td>\n",
              "      <td>0.897500</td>\n",
              "      <td>00:29</td>\n",
              "    </tr>\n",
              "    <tr>\n",
              "      <td>1</td>\n",
              "      <td>0.234011</td>\n",
              "      <td>0.281783</td>\n",
              "      <td>0.901600</td>\n",
              "      <td>0.901669</td>\n",
              "      <td>00:29</td>\n",
              "    </tr>\n",
              "    <tr>\n",
              "      <td>2</td>\n",
              "      <td>0.225618</td>\n",
              "      <td>0.277428</td>\n",
              "      <td>0.896800</td>\n",
              "      <td>0.896664</td>\n",
              "      <td>00:29</td>\n",
              "    </tr>\n",
              "    <tr>\n",
              "      <td>3</td>\n",
              "      <td>0.232305</td>\n",
              "      <td>0.276840</td>\n",
              "      <td>0.898400</td>\n",
              "      <td>0.898387</td>\n",
              "      <td>00:29</td>\n",
              "    </tr>\n",
              "    <tr>\n",
              "      <td>4</td>\n",
              "      <td>0.222801</td>\n",
              "      <td>0.277685</td>\n",
              "      <td>0.904000</td>\n",
              "      <td>0.904149</td>\n",
              "      <td>00:29</td>\n",
              "    </tr>\n",
              "  </tbody>\n",
              "</table><p>\n",
              "\n",
              "    <div>\n",
              "        <style>\n",
              "            /* Turns off some styling */\n",
              "            progress {\n",
              "                /* gets rid of default border in Firefox and Opera. */\n",
              "                border: none;\n",
              "                /* Needs to be in here for Safari polyfill so background images work as expected. */\n",
              "                background-size: auto;\n",
              "            }\n",
              "            .progress-bar-interrupted, .progress-bar-interrupted::-webkit-progress-bar {\n",
              "                background: #F44336;\n",
              "            }\n",
              "        </style>\n",
              "      <progress value='52' class='' max='78', style='width:300px; height:20px; vertical-align: middle;'></progress>\n",
              "      66.67% [52/78 00:16<00:08 0.2136]\n",
              "    </div>\n",
              "    "
            ],
            "text/plain": [
              "<IPython.core.display.HTML object>"
            ]
          },
          "metadata": {
            "tags": []
          }
        }
      ]
    },
    {
      "cell_type": "code",
      "metadata": {
        "id": "XfUQXfHKZN87",
        "colab_type": "code",
        "colab": {}
      },
      "source": [
        "learn.save('stage1-av5')"
      ],
      "execution_count": 0,
      "outputs": []
    },
    {
      "cell_type": "code",
      "metadata": {
        "id": "wfpoVyGSpbSU",
        "colab_type": "code",
        "colab": {}
      },
      "source": [
        "np.random.seed(42)\n",
        "data = ImageDataBunch.from_csv(path, \n",
        "                        folder='images',\n",
        "                        csv_labels='train.csv',\n",
        "                        fn_col=0, label_col=1,\n",
        "                        ds_tfms=get_transforms(tfms),                       \n",
        "                        size=124, valid_pct=0.1)"
      ],
      "execution_count": 0,
      "outputs": []
    },
    {
      "cell_type": "code",
      "metadata": {
        "id": "SHtGLr5Mp3lv",
        "colab_type": "code",
        "outputId": "84635827-d1d6-4ab5-d2b6-35b48520ada2",
        "colab": {
          "base_uri": "https://localhost:8080/",
          "height": 35
        }
      },
      "source": [
        "learn.data = data\n",
        "data.train_ds[0][0].shape"
      ],
      "execution_count": 0,
      "outputs": [
        {
          "output_type": "execute_result",
          "data": {
            "text/plain": [
              "torch.Size([3, 124, 124])"
            ]
          },
          "metadata": {
            "tags": []
          },
          "execution_count": 18
        }
      ]
    },
    {
      "cell_type": "code",
      "metadata": {
        "id": "plLi9sZ8piNd",
        "colab_type": "code",
        "outputId": "c2cf155c-d07a-47ea-9c0e-b2032ee23b8c",
        "colab": {
          "base_uri": "https://localhost:8080/",
          "height": 302
        }
      },
      "source": [
        "learn.freeze()\n",
        "learn.lr_find()\n",
        "learn.recorder.plot()"
      ],
      "execution_count": 0,
      "outputs": [
        {
          "output_type": "display_data",
          "data": {
            "text/html": [
              ""
            ],
            "text/plain": [
              "<IPython.core.display.HTML object>"
            ]
          },
          "metadata": {
            "tags": []
          }
        },
        {
          "output_type": "stream",
          "text": [
            "LR Finder is complete, type {learner_name}.recorder.plot() to see the graph.\n"
          ],
          "name": "stdout"
        },
        {
          "output_type": "display_data",
          "data": {
            "image/png": "[encoded data removed]",
            "text/plain": [
              "<Figure size 432x288 with 1 Axes>"
            ]
          },
          "metadata": {
            "tags": []
          }
        }
      ]
    },
    {
      "cell_type": "code",
      "metadata": {
        "id": "Tf-nWun0pmiw",
        "colab_type": "code",
        "outputId": "74f092d2-fcb6-40d8-b813-312acb62b8a9",
        "colab": {
          "base_uri": "https://localhost:8080/",
          "height": 348
        }
      },
      "source": [
        "learn.fit_one_cycle(10, max_lr=slice(1e-06,4e-05))"
      ],
      "execution_count": 0,
      "outputs": [
        {
          "output_type": "display_data",
          "data": {
            "text/html": [
              "<table border=\"1\" class=\"dataframe\">\n",
              "  <thead>\n",
              "    <tr style=\"text-align: left;\">\n",
              "      <th>epoch</th>\n",
              "      <th>train_loss</th>\n",
              "      <th>valid_loss</th>\n",
              "      <th>accuracy</th>\n",
              "      <th>time</th>\n",
              "    </tr>\n",
              "  </thead>\n",
              "  <tbody>\n",
              "    <tr>\n",
              "      <td>0</td>\n",
              "      <td>0.193785</td>\n",
              "      <td>0.261457</td>\n",
              "      <td>0.907200</td>\n",
              "      <td>00:34</td>\n",
              "    </tr>\n",
              "    <tr>\n",
              "      <td>1</td>\n",
              "      <td>0.205234</td>\n",
              "      <td>0.260599</td>\n",
              "      <td>0.913600</td>\n",
              "      <td>00:34</td>\n",
              "    </tr>\n",
              "    <tr>\n",
              "      <td>2</td>\n",
              "      <td>0.190741</td>\n",
              "      <td>0.257435</td>\n",
              "      <td>0.908800</td>\n",
              "      <td>00:33</td>\n",
              "    </tr>\n",
              "    <tr>\n",
              "      <td>3</td>\n",
              "      <td>0.186956</td>\n",
              "      <td>0.257930</td>\n",
              "      <td>0.907200</td>\n",
              "      <td>00:33</td>\n",
              "    </tr>\n",
              "    <tr>\n",
              "      <td>4</td>\n",
              "      <td>0.200505</td>\n",
              "      <td>0.258613</td>\n",
              "      <td>0.908800</td>\n",
              "      <td>00:33</td>\n",
              "    </tr>\n",
              "    <tr>\n",
              "      <td>5</td>\n",
              "      <td>0.190763</td>\n",
              "      <td>0.267126</td>\n",
              "      <td>0.904000</td>\n",
              "      <td>00:33</td>\n",
              "    </tr>\n",
              "    <tr>\n",
              "      <td>6</td>\n",
              "      <td>0.187949</td>\n",
              "      <td>0.259757</td>\n",
              "      <td>0.908800</td>\n",
              "      <td>00:32</td>\n",
              "    </tr>\n",
              "    <tr>\n",
              "      <td>7</td>\n",
              "      <td>0.197679</td>\n",
              "      <td>0.261311</td>\n",
              "      <td>0.910400</td>\n",
              "      <td>00:33</td>\n",
              "    </tr>\n",
              "    <tr>\n",
              "      <td>8</td>\n",
              "      <td>0.187483</td>\n",
              "      <td>0.258229</td>\n",
              "      <td>0.905600</td>\n",
              "      <td>00:33</td>\n",
              "    </tr>\n",
              "    <tr>\n",
              "      <td>9</td>\n",
              "      <td>0.180358</td>\n",
              "      <td>0.255176</td>\n",
              "      <td>0.907200</td>\n",
              "      <td>00:33</td>\n",
              "    </tr>\n",
              "  </tbody>\n",
              "</table>"
            ],
            "text/plain": [
              "<IPython.core.display.HTML object>"
            ]
          },
          "metadata": {
            "tags": []
          }
        }
      ]
    },
    {
      "cell_type": "code",
      "metadata": {
        "id": "q3tp-tTctkMU",
        "colab_type": "code",
        "outputId": "e8d2468d-8dff-445c-9b3e-e55d7cf194bf",
        "colab": {
          "base_uri": "https://localhost:8080/",
          "height": 198
        }
      },
      "source": [
        "learn.unfreeze()\n",
        "learn.fit_one_cycle(5, max_lr=slice(1e-06,1e-05))"
      ],
      "execution_count": 0,
      "outputs": [
        {
          "output_type": "display_data",
          "data": {
            "text/html": [
              "<table border=\"1\" class=\"dataframe\">\n",
              "  <thead>\n",
              "    <tr style=\"text-align: left;\">\n",
              "      <th>epoch</th>\n",
              "      <th>train_loss</th>\n",
              "      <th>valid_loss</th>\n",
              "      <th>accuracy</th>\n",
              "      <th>time</th>\n",
              "    </tr>\n",
              "  </thead>\n",
              "  <tbody>\n",
              "    <tr>\n",
              "      <td>0</td>\n",
              "      <td>0.184525</td>\n",
              "      <td>0.258966</td>\n",
              "      <td>0.904000</td>\n",
              "      <td>00:34</td>\n",
              "    </tr>\n",
              "    <tr>\n",
              "      <td>1</td>\n",
              "      <td>0.176677</td>\n",
              "      <td>0.247188</td>\n",
              "      <td>0.908800</td>\n",
              "      <td>00:34</td>\n",
              "    </tr>\n",
              "    <tr>\n",
              "      <td>2</td>\n",
              "      <td>0.179023</td>\n",
              "      <td>0.241564</td>\n",
              "      <td>0.904000</td>\n",
              "      <td>00:34</td>\n",
              "    </tr>\n",
              "    <tr>\n",
              "      <td>3</td>\n",
              "      <td>0.168744</td>\n",
              "      <td>0.244605</td>\n",
              "      <td>0.908800</td>\n",
              "      <td>00:34</td>\n",
              "    </tr>\n",
              "    <tr>\n",
              "      <td>4</td>\n",
              "      <td>0.158507</td>\n",
              "      <td>0.242772</td>\n",
              "      <td>0.905600</td>\n",
              "      <td>00:34</td>\n",
              "    </tr>\n",
              "  </tbody>\n",
              "</table>"
            ],
            "text/plain": [
              "<IPython.core.display.HTML object>"
            ]
          },
          "metadata": {
            "tags": []
          }
        }
      ]
    },
    {
      "cell_type": "code",
      "metadata": {
        "id": "93cJn7LOpvrX",
        "colab_type": "code",
        "colab": {}
      },
      "source": [
        "learn.save('stage2-av5')"
      ],
      "execution_count": 0,
      "outputs": []
    },
    {
      "cell_type": "code",
      "metadata": {
        "id": "eczEPMjoyTxm",
        "colab_type": "code",
        "colab": {}
      },
      "source": [
        "tfms1 = get_transforms(flip_vert=True, max_lighting=0.4, max_zoom=1.2, max_warp=0.)"
      ],
      "execution_count": 0,
      "outputs": []
    },
    {
      "cell_type": "code",
      "metadata": {
        "id": "bvhPxAB2yYqY",
        "colab_type": "code",
        "colab": {}
      },
      "source": [
        "np.random.seed(42)\n",
        "data = ImageDataBunch.from_csv(path, \n",
        "                        folder='images',\n",
        "                        csv_labels='train.csv',\n",
        "                        fn_col=0, label_col=1,\n",
        "                        ds_tfms=get_transforms(tfms1),                       \n",
        "                        size=200, valid_pct=0.2)"
      ],
      "execution_count": 0,
      "outputs": []
    },
    {
      "cell_type": "code",
      "metadata": {
        "id": "11WAhKNeyfKG",
        "colab_type": "code",
        "outputId": "50b4db51-f0a9-4006-9b1b-0d06a9c99311",
        "colab": {
          "base_uri": "https://localhost:8080/",
          "height": 35
        }
      },
      "source": [
        "learn.data = data\n",
        "data.train_ds[0][0].shape"
      ],
      "execution_count": 0,
      "outputs": [
        {
          "output_type": "execute_result",
          "data": {
            "text/plain": [
              "torch.Size([3, 200, 200])"
            ]
          },
          "metadata": {
            "tags": []
          },
          "execution_count": 26
        }
      ]
    },
    {
      "cell_type": "code",
      "metadata": {
        "id": "0_tdMyRZVitY",
        "colab_type": "code",
        "outputId": "bd7f4a12-f9ec-4a48-bc34-9ac5486c77f3",
        "colab": {
          "base_uri": "https://localhost:8080/",
          "height": 302
        }
      },
      "source": [
        "learn.freeze()\n",
        "learn.lr_find()\n",
        "learn.recorder.plot()"
      ],
      "execution_count": 0,
      "outputs": [
        {
          "output_type": "display_data",
          "data": {
            "text/html": [
              ""
            ],
            "text/plain": [
              "<IPython.core.display.HTML object>"
            ]
          },
          "metadata": {
            "tags": []
          }
        },
        {
          "output_type": "stream",
          "text": [
            "LR Finder is complete, type {learner_name}.recorder.plot() to see the graph.\n"
          ],
          "name": "stdout"
        },
        {
          "output_type": "display_data",
          "data": {
            "image/png": "[encoded data removed]",
            "text/plain": [
              "<Figure size 432x288 with 1 Axes>"
            ]
          },
          "metadata": {
            "tags": []
          }
        }
      ]
    },
    {
      "cell_type": "code",
      "metadata": {
        "id": "hxpEaLDyWEat",
        "colab_type": "code",
        "outputId": "809dec97-7e9e-42ba-d02a-7728916c2766",
        "colab": {
          "base_uri": "https://localhost:8080/",
          "height": 198
        }
      },
      "source": [
        "learn.fit_one_cycle(5, max_lr=slice(2e-04,2e-02))"
      ],
      "execution_count": 0,
      "outputs": [
        {
          "output_type": "display_data",
          "data": {
            "text/html": [
              "<table border=\"1\" class=\"dataframe\">\n",
              "  <thead>\n",
              "    <tr style=\"text-align: left;\">\n",
              "      <th>epoch</th>\n",
              "      <th>train_loss</th>\n",
              "      <th>valid_loss</th>\n",
              "      <th>accuracy</th>\n",
              "      <th>time</th>\n",
              "    </tr>\n",
              "  </thead>\n",
              "  <tbody>\n",
              "    <tr>\n",
              "      <td>0</td>\n",
              "      <td>0.253323</td>\n",
              "      <td>0.456101</td>\n",
              "      <td>0.910400</td>\n",
              "      <td>00:55</td>\n",
              "    </tr>\n",
              "    <tr>\n",
              "      <td>1</td>\n",
              "      <td>0.233838</td>\n",
              "      <td>0.254156</td>\n",
              "      <td>0.909600</td>\n",
              "      <td>00:54</td>\n",
              "    </tr>\n",
              "    <tr>\n",
              "      <td>2</td>\n",
              "      <td>0.195906</td>\n",
              "      <td>0.205176</td>\n",
              "      <td>0.932000</td>\n",
              "      <td>00:54</td>\n",
              "    </tr>\n",
              "    <tr>\n",
              "      <td>3</td>\n",
              "      <td>0.161561</td>\n",
              "      <td>0.236444</td>\n",
              "      <td>0.934400</td>\n",
              "      <td>00:55</td>\n",
              "    </tr>\n",
              "    <tr>\n",
              "      <td>4</td>\n",
              "      <td>0.116431</td>\n",
              "      <td>0.244111</td>\n",
              "      <td>0.934400</td>\n",
              "      <td>00:54</td>\n",
              "    </tr>\n",
              "  </tbody>\n",
              "</table>"
            ],
            "text/plain": [
              "<IPython.core.display.HTML object>"
            ]
          },
          "metadata": {
            "tags": []
          }
        }
      ]
    },
    {
      "cell_type": "code",
      "metadata": {
        "id": "-ic7D2EbqEZ4",
        "colab_type": "code",
        "colab": {}
      },
      "source": [
        "learn.save('stage31-av5')"
      ],
      "execution_count": 0,
      "outputs": []
    },
    {
      "cell_type": "code",
      "metadata": {
        "id": "kOXy1GTtUBvK",
        "colab_type": "code",
        "outputId": "2cbd3ee4-5563-4527-b833-6353823f22d3",
        "colab": {
          "base_uri": "https://localhost:8080/",
          "height": 302
        }
      },
      "source": [
        "learn.unfreeze()\n",
        "learn.lr_find()\n",
        "learn.recorder.plot()"
      ],
      "execution_count": 0,
      "outputs": [
        {
          "output_type": "display_data",
          "data": {
            "text/html": [
              ""
            ],
            "text/plain": [
              "<IPython.core.display.HTML object>"
            ]
          },
          "metadata": {
            "tags": []
          }
        },
        {
          "output_type": "stream",
          "text": [
            "LR Finder is complete, type {learner_name}.recorder.plot() to see the graph.\n"
          ],
          "name": "stdout"
        },
        {
          "output_type": "display_data",
          "data": {
            "image/png": "[encoded data removed]",
            "text/plain": [
              "<Figure size 432x288 with 1 Axes>"
            ]
          },
          "metadata": {
            "tags": []
          }
        }
      ]
    },
    {
      "cell_type": "code",
      "metadata": {
        "id": "xBO_AmQp8bTc",
        "colab_type": "code",
        "outputId": "a06e07b0-102e-4c52-a067-357420dccb4c",
        "colab": {
          "base_uri": "https://localhost:8080/",
          "height": 198
        }
      },
      "source": [
        "\n",
        "learn.fit_one_cycle(5, max_lr=slice(1e-04,1e-03))"
      ],
      "execution_count": 0,
      "outputs": [
        {
          "output_type": "display_data",
          "data": {
            "text/html": [
              "<table border=\"1\" class=\"dataframe\">\n",
              "  <thead>\n",
              "    <tr style=\"text-align: left;\">\n",
              "      <th>epoch</th>\n",
              "      <th>train_loss</th>\n",
              "      <th>valid_loss</th>\n",
              "      <th>accuracy</th>\n",
              "      <th>time</th>\n",
              "    </tr>\n",
              "  </thead>\n",
              "  <tbody>\n",
              "    <tr>\n",
              "      <td>0</td>\n",
              "      <td>0.224322</td>\n",
              "      <td>511.588837</td>\n",
              "      <td>0.698400</td>\n",
              "      <td>00:59</td>\n",
              "    </tr>\n",
              "    <tr>\n",
              "      <td>1</td>\n",
              "      <td>0.280613</td>\n",
              "      <td>1.309823</td>\n",
              "      <td>0.904800</td>\n",
              "      <td>00:59</td>\n",
              "    </tr>\n",
              "    <tr>\n",
              "      <td>2</td>\n",
              "      <td>0.217039</td>\n",
              "      <td>0.263652</td>\n",
              "      <td>0.918400</td>\n",
              "      <td>00:59</td>\n",
              "    </tr>\n",
              "    <tr>\n",
              "      <td>3</td>\n",
              "      <td>0.138288</td>\n",
              "      <td>0.167618</td>\n",
              "      <td>0.937600</td>\n",
              "      <td>00:59</td>\n",
              "    </tr>\n",
              "    <tr>\n",
              "      <td>4</td>\n",
              "      <td>0.091108</td>\n",
              "      <td>0.156517</td>\n",
              "      <td>0.945600</td>\n",
              "      <td>00:59</td>\n",
              "    </tr>\n",
              "  </tbody>\n",
              "</table>"
            ],
            "text/plain": [
              "<IPython.core.display.HTML object>"
            ]
          },
          "metadata": {
            "tags": []
          }
        }
      ]
    },
    {
      "cell_type": "code",
      "metadata": {
        "id": "sxMjiMgc6XUO",
        "colab_type": "code",
        "colab": {}
      },
      "source": [
        "learn.save('stage33-av5')"
      ],
      "execution_count": 0,
      "outputs": []
    },
    {
      "cell_type": "markdown",
      "metadata": {
        "id": "jp7dNU9TPxeA",
        "colab_type": "text"
      },
      "source": [
        "#Stage4"
      ]
    },
    {
      "cell_type": "code",
      "metadata": {
        "id": "vPew6k4c7pQj",
        "colab_type": "code",
        "colab": {}
      },
      "source": [
        "learn.load('stage33-av5')"
      ],
      "execution_count": 0,
      "outputs": []
    },
    {
      "cell_type": "code",
      "metadata": {
        "id": "4xtWJZ7e6qXV",
        "colab_type": "code",
        "colab": {}
      },
      "source": [
        "tfms2 = get_transforms(flip_vert=False, max_lighting=0.4, max_zoom=1.4, max_warp=0.)"
      ],
      "execution_count": 0,
      "outputs": []
    },
    {
      "cell_type": "code",
      "metadata": {
        "id": "ZmaABf8Q8n6V",
        "colab_type": "code",
        "colab": {}
      },
      "source": [
        "tfms2 = get_transforms(flip_vert=False, max_lighting=0.4, max_zoom=1.4, max_warp=0.)\n",
        "data = ImageDataBunch.from_csv(path, \n",
        "                        folder='images',\n",
        "                        csv_labels='train.csv',\n",
        "                        \n",
        "                        ds_tfms=get_transforms(tfms2),                       \n",
        "                        size=224, valid_pct=0.2)\n",
        "learn.data = data\n",
        "data.train_ds[0][0].shape"
      ],
      "execution_count": 0,
      "outputs": []
    },
    {
      "cell_type": "code",
      "metadata": {
        "id": "QK_Iec5f8zm8",
        "colab_type": "code",
        "outputId": "c3dd7b7f-4c7d-4599-cafe-7516ef2c415f",
        "colab": {
          "base_uri": "https://localhost:8080/",
          "height": 35
        }
      },
      "source": [
        "learn.data = data\n",
        "data.train_ds[0][0].shape"
      ],
      "execution_count": 0,
      "outputs": [
        {
          "output_type": "execute_result",
          "data": {
            "text/plain": [
              "torch.Size([3, 224, 224])"
            ]
          },
          "metadata": {
            "tags": []
          },
          "execution_count": 35
        }
      ]
    },
    {
      "cell_type": "code",
      "metadata": {
        "id": "ITOwqVPuFNM0",
        "colab_type": "code",
        "outputId": "f9d278b9-ea1d-4480-c4d6-a547361946d8",
        "colab": {
          "base_uri": "https://localhost:8080/",
          "height": 302
        }
      },
      "source": [
        "learn.freeze()\n",
        "learn.lr_find()\n",
        "learn.recorder.plot()"
      ],
      "execution_count": 0,
      "outputs": [
        {
          "output_type": "display_data",
          "data": {
            "text/html": [
              ""
            ],
            "text/plain": [
              "<IPython.core.display.HTML object>"
            ]
          },
          "metadata": {
            "tags": []
          }
        },
        {
          "output_type": "stream",
          "text": [
            "LR Finder is complete, type {learner_name}.recorder.plot() to see the graph.\n"
          ],
          "name": "stdout"
        },
        {
          "output_type": "display_data",
          "data": {
            "image/png": "[encoded data removed]",
            "text/plain": [
              "<Figure size 432x288 with 1 Axes>"
            ]
          },
          "metadata": {
            "tags": []
          }
        }
      ]
    },
    {
      "cell_type": "code",
      "metadata": {
        "id": "xMgDwrViBHS6",
        "colab_type": "code",
        "colab": {}
      },
      "source": [
        "learn.fit_one_cycle(10, max_lr=slice(1e-05,1e-02))"
      ],
      "execution_count": 0,
      "outputs": []
    },
    {
      "cell_type": "code",
      "metadata": {
        "id": "VKYH8dZpMYzp",
        "colab_type": "code",
        "colab": {}
      },
      "source": [
        "learn.save('stage41-av5')"
      ],
      "execution_count": 0,
      "outputs": []
    },
    {
      "cell_type": "code",
      "metadata": {
        "id": "5DmoHCvPLxZb",
        "colab_type": "code",
        "colab": {}
      },
      "source": [
        "learn.load('stage-4')"
      ],
      "execution_count": 0,
      "outputs": []
    },
    {
      "cell_type": "code",
      "metadata": {
        "id": "Zy4dIH6cENtg",
        "colab_type": "code",
        "outputId": "19a78ed4-8d4d-4b62-bdba-623014b62a68",
        "colab": {
          "base_uri": "https://localhost:8080/",
          "height": 302
        }
      },
      "source": [
        "learn.unfreeze()\n",
        "learn.lr_find()\n",
        "learn.recorder.plot()"
      ],
      "execution_count": 0,
      "outputs": [
        {
          "output_type": "display_data",
          "data": {
            "text/html": [
              ""
            ],
            "text/plain": [
              "<IPython.core.display.HTML object>"
            ]
          },
          "metadata": {
            "tags": []
          }
        },
        {
          "output_type": "stream",
          "text": [
            "LR Finder is complete, type {learner_name}.recorder.plot() to see the graph.\n"
          ],
          "name": "stdout"
        },
        {
          "output_type": "display_data",
          "data": {
            "image/png": "[encoded data removed]",
            "text/plain": [
              "<Figure size 432x288 with 1 Axes>"
            ]
          },
          "metadata": {
            "tags": []
          }
        }
      ]
    },
    {
      "cell_type": "code",
      "metadata": {
        "id": "wJXfXsbWXAsS",
        "colab_type": "code",
        "outputId": "92ef52c9-ae9d-4ff1-ab26-5e84eabbbf44",
        "colab": {
          "base_uri": "https://localhost:8080/",
          "height": 348
        }
      },
      "source": [
        "learn.fit_one_cycle(10, max_lr=slice(7e-07,5e-05))"
      ],
      "execution_count": 0,
      "outputs": [
        {
          "output_type": "display_data",
          "data": {
            "text/html": [
              "<table border=\"1\" class=\"dataframe\">\n",
              "  <thead>\n",
              "    <tr style=\"text-align: left;\">\n",
              "      <th>epoch</th>\n",
              "      <th>train_loss</th>\n",
              "      <th>valid_loss</th>\n",
              "      <th>accuracy</th>\n",
              "      <th>time</th>\n",
              "    </tr>\n",
              "  </thead>\n",
              "  <tbody>\n",
              "    <tr>\n",
              "      <td>0</td>\n",
              "      <td>0.080530</td>\n",
              "      <td>0.209215</td>\n",
              "      <td>0.973600</td>\n",
              "      <td>01:10</td>\n",
              "    </tr>\n",
              "    <tr>\n",
              "      <td>1</td>\n",
              "      <td>0.073124</td>\n",
              "      <td>0.130877</td>\n",
              "      <td>0.978400</td>\n",
              "      <td>01:10</td>\n",
              "    </tr>\n",
              "    <tr>\n",
              "      <td>2</td>\n",
              "      <td>0.073818</td>\n",
              "      <td>0.204782</td>\n",
              "      <td>0.981600</td>\n",
              "      <td>01:10</td>\n",
              "    </tr>\n",
              "    <tr>\n",
              "      <td>3</td>\n",
              "      <td>0.071850</td>\n",
              "      <td>0.926418</td>\n",
              "      <td>0.977600</td>\n",
              "      <td>01:10</td>\n",
              "    </tr>\n",
              "    <tr>\n",
              "      <td>4</td>\n",
              "      <td>0.070334</td>\n",
              "      <td>0.053512</td>\n",
              "      <td>0.982400</td>\n",
              "      <td>01:10</td>\n",
              "    </tr>\n",
              "    <tr>\n",
              "      <td>5</td>\n",
              "      <td>0.068849</td>\n",
              "      <td>0.697207</td>\n",
              "      <td>0.980000</td>\n",
              "      <td>01:09</td>\n",
              "    </tr>\n",
              "    <tr>\n",
              "      <td>6</td>\n",
              "      <td>0.058721</td>\n",
              "      <td>0.095478</td>\n",
              "      <td>0.981600</td>\n",
              "      <td>01:10</td>\n",
              "    </tr>\n",
              "    <tr>\n",
              "      <td>7</td>\n",
              "      <td>0.062953</td>\n",
              "      <td>0.052944</td>\n",
              "      <td>0.983200</td>\n",
              "      <td>01:09</td>\n",
              "    </tr>\n",
              "    <tr>\n",
              "      <td>8</td>\n",
              "      <td>0.055421</td>\n",
              "      <td>0.054394</td>\n",
              "      <td>0.983200</td>\n",
              "      <td>01:09</td>\n",
              "    </tr>\n",
              "    <tr>\n",
              "      <td>9</td>\n",
              "      <td>0.054719</td>\n",
              "      <td>0.185964</td>\n",
              "      <td>0.979200</td>\n",
              "      <td>01:10</td>\n",
              "    </tr>\n",
              "  </tbody>\n",
              "</table>"
            ],
            "text/plain": [
              "<IPython.core.display.HTML object>"
            ]
          },
          "metadata": {
            "tags": []
          }
        }
      ]
    },
    {
      "cell_type": "code",
      "metadata": {
        "id": "iMuXReh9zbbn",
        "colab_type": "code",
        "colab": {}
      },
      "source": [
        "learn.save('stage42-av5')"
      ],
      "execution_count": 0,
      "outputs": []
    },
    {
      "cell_type": "code",
      "metadata": {
        "id": "3NXQaJ2djWKE",
        "colab_type": "code",
        "colab": {}
      },
      "source": [
        "learn.save('stage42-av5')"
      ],
      "execution_count": 0,
      "outputs": []
    },
    {
      "cell_type": "code",
      "metadata": {
        "id": "wNyWCBcyzVOU",
        "colab_type": "code",
        "outputId": "70ff4896-1973-4388-c2cf-313a255a4fa1",
        "colab": {
          "base_uri": "https://localhost:8080/",
          "height": 35
        }
      },
      "source": [
        "tfms3 = get_transforms(flip_vert=False, max_lighting=0.5, max_zoom=1.8, max_warp=0.)\n",
        "data = ImageDataBunch.from_csv(path, \n",
        "                        folder='images',\n",
        "                        csv_labels='train.csv',\n",
        "                        \n",
        "                        ds_tfms=get_transforms(tfms3),                       \n",
        "                        size=256, valid_pct=0.2)\n",
        "learn.data = data\n",
        "data.train_ds[0][0].shape"
      ],
      "execution_count": 0,
      "outputs": [
        {
          "output_type": "execute_result",
          "data": {
            "text/plain": [
              "torch.Size([3, 256, 256])"
            ]
          },
          "metadata": {
            "tags": []
          },
          "execution_count": 13
        }
      ]
    },
    {
      "cell_type": "code",
      "metadata": {
        "id": "DWcKowGXXFk3",
        "colab_type": "code",
        "outputId": "6c83bd42-7e13-4c24-d919-a3e754d09dcd",
        "colab": {
          "base_uri": "https://localhost:8080/",
          "height": 302
        }
      },
      "source": [
        "learn.freeze()\n",
        "learn.lr_find()\n",
        "learn.recorder.plot()"
      ],
      "execution_count": 0,
      "outputs": [
        {
          "output_type": "display_data",
          "data": {
            "text/html": [
              ""
            ],
            "text/plain": [
              "<IPython.core.display.HTML object>"
            ]
          },
          "metadata": {
            "tags": []
          }
        },
        {
          "output_type": "stream",
          "text": [
            "LR Finder is complete, type {learner_name}.recorder.plot() to see the graph.\n"
          ],
          "name": "stdout"
        },
        {
          "output_type": "display_data",
          "data": {
            "image/png": "[encoded data removed]",
            "text/plain": [
              "<Figure size 432x288 with 1 Axes>"
            ]
          },
          "metadata": {
            "tags": []
          }
        }
      ]
    },
    {
      "cell_type": "code",
      "metadata": {
        "id": "AGimwL64bYoC",
        "colab_type": "code",
        "outputId": "ea336b23-ef46-43e4-b07d-9b1eb077ab99",
        "colab": {
          "base_uri": "https://localhost:8080/",
          "height": 198
        }
      },
      "source": [
        "learn.fit_one_cycle(5, max_lr=slice(3e-07,1e-06))"
      ],
      "execution_count": 0,
      "outputs": [
        {
          "output_type": "display_data",
          "data": {
            "text/html": [
              "<table border=\"1\" class=\"dataframe\">\n",
              "  <thead>\n",
              "    <tr style=\"text-align: left;\">\n",
              "      <th>epoch</th>\n",
              "      <th>train_loss</th>\n",
              "      <th>valid_loss</th>\n",
              "      <th>accuracy</th>\n",
              "      <th>time</th>\n",
              "    </tr>\n",
              "  </thead>\n",
              "  <tbody>\n",
              "    <tr>\n",
              "      <td>0</td>\n",
              "      <td>0.082173</td>\n",
              "      <td>0.026366</td>\n",
              "      <td>0.991200</td>\n",
              "      <td>01:19</td>\n",
              "    </tr>\n",
              "    <tr>\n",
              "      <td>1</td>\n",
              "      <td>0.083153</td>\n",
              "      <td>0.024389</td>\n",
              "      <td>0.990400</td>\n",
              "      <td>01:18</td>\n",
              "    </tr>\n",
              "    <tr>\n",
              "      <td>2</td>\n",
              "      <td>0.075386</td>\n",
              "      <td>0.025395</td>\n",
              "      <td>0.990400</td>\n",
              "      <td>01:17</td>\n",
              "    </tr>\n",
              "    <tr>\n",
              "      <td>3</td>\n",
              "      <td>0.075708</td>\n",
              "      <td>0.026542</td>\n",
              "      <td>0.990400</td>\n",
              "      <td>01:18</td>\n",
              "    </tr>\n",
              "    <tr>\n",
              "      <td>4</td>\n",
              "      <td>0.074909</td>\n",
              "      <td>0.024774</td>\n",
              "      <td>0.991200</td>\n",
              "      <td>01:17</td>\n",
              "    </tr>\n",
              "  </tbody>\n",
              "</table>"
            ],
            "text/plain": [
              "<IPython.core.display.HTML object>"
            ]
          },
          "metadata": {
            "tags": []
          }
        }
      ]
    },
    {
      "cell_type": "code",
      "metadata": {
        "id": "XAGkSNWyexRK",
        "colab_type": "code",
        "colab": {}
      },
      "source": [
        "learn.save('stage51-av5')"
      ],
      "execution_count": 0,
      "outputs": []
    },
    {
      "cell_type": "code",
      "metadata": {
        "id": "ZH3-3XqIi03a",
        "colab_type": "code",
        "colab": {}
      },
      "source": [
        "learn.load('stage51-av5')"
      ],
      "execution_count": 0,
      "outputs": []
    },
    {
      "cell_type": "code",
      "metadata": {
        "id": "8C89kdpzbcu5",
        "colab_type": "code",
        "colab": {}
      },
      "source": [
        "learn.unfreeze()\n",
        "learn.lr_find()\n",
        "learn.recorder.plot()"
      ],
      "execution_count": 0,
      "outputs": []
    },
    {
      "cell_type": "code",
      "metadata": {
        "id": "e2zwM7OqcDwl",
        "colab_type": "code",
        "outputId": "0749e888-6c73-443a-ca6a-32f075f5da20",
        "colab": {
          "base_uri": "https://localhost:8080/",
          "height": 348
        }
      },
      "source": [
        "learn.fit_one_cycle(10, max_lr=slice(8e-07,5e-06))"
      ],
      "execution_count": 0,
      "outputs": [
        {
          "output_type": "display_data",
          "data": {
            "text/html": [
              "<table border=\"1\" class=\"dataframe\">\n",
              "  <thead>\n",
              "    <tr style=\"text-align: left;\">\n",
              "      <th>epoch</th>\n",
              "      <th>train_loss</th>\n",
              "      <th>valid_loss</th>\n",
              "      <th>accuracy</th>\n",
              "      <th>time</th>\n",
              "    </tr>\n",
              "  </thead>\n",
              "  <tbody>\n",
              "    <tr>\n",
              "      <td>0</td>\n",
              "      <td>0.075045</td>\n",
              "      <td>0.024226</td>\n",
              "      <td>0.991200</td>\n",
              "      <td>01:23</td>\n",
              "    </tr>\n",
              "    <tr>\n",
              "      <td>1</td>\n",
              "      <td>0.074758</td>\n",
              "      <td>0.026387</td>\n",
              "      <td>0.990400</td>\n",
              "      <td>01:24</td>\n",
              "    </tr>\n",
              "    <tr>\n",
              "      <td>2</td>\n",
              "      <td>0.073546</td>\n",
              "      <td>0.024536</td>\n",
              "      <td>0.992000</td>\n",
              "      <td>01:23</td>\n",
              "    </tr>\n",
              "    <tr>\n",
              "      <td>3</td>\n",
              "      <td>0.071874</td>\n",
              "      <td>0.024021</td>\n",
              "      <td>0.992000</td>\n",
              "      <td>01:24</td>\n",
              "    </tr>\n",
              "    <tr>\n",
              "      <td>4</td>\n",
              "      <td>0.063532</td>\n",
              "      <td>0.024389</td>\n",
              "      <td>0.991200</td>\n",
              "      <td>01:23</td>\n",
              "    </tr>\n",
              "    <tr>\n",
              "      <td>5</td>\n",
              "      <td>0.059442</td>\n",
              "      <td>0.023839</td>\n",
              "      <td>0.991200</td>\n",
              "      <td>01:24</td>\n",
              "    </tr>\n",
              "    <tr>\n",
              "      <td>6</td>\n",
              "      <td>0.063795</td>\n",
              "      <td>0.023444</td>\n",
              "      <td>0.992000</td>\n",
              "      <td>01:23</td>\n",
              "    </tr>\n",
              "    <tr>\n",
              "      <td>7</td>\n",
              "      <td>0.059002</td>\n",
              "      <td>0.024833</td>\n",
              "      <td>0.990400</td>\n",
              "      <td>01:24</td>\n",
              "    </tr>\n",
              "    <tr>\n",
              "      <td>8</td>\n",
              "      <td>0.059280</td>\n",
              "      <td>0.024125</td>\n",
              "      <td>0.992000</td>\n",
              "      <td>01:23</td>\n",
              "    </tr>\n",
              "    <tr>\n",
              "      <td>9</td>\n",
              "      <td>0.061259</td>\n",
              "      <td>0.025398</td>\n",
              "      <td>0.991200</td>\n",
              "      <td>01:24</td>\n",
              "    </tr>\n",
              "  </tbody>\n",
              "</table>"
            ],
            "text/plain": [
              "<IPython.core.display.HTML object>"
            ]
          },
          "metadata": {
            "tags": []
          }
        }
      ]
    },
    {
      "cell_type": "code",
      "metadata": {
        "id": "BPrim50E7XX7",
        "colab_type": "code",
        "colab": {}
      },
      "source": [
        ""
      ],
      "execution_count": 0,
      "outputs": []
    },
    {
      "cell_type": "code",
      "metadata": {
        "id": "r_OPSCHq7Pgb",
        "colab_type": "code",
        "colab": {}
      },
      "source": [
        "learn.save('stage52-av5')"
      ],
      "execution_count": 0,
      "outputs": []
    },
    {
      "cell_type": "code",
      "metadata": {
        "id": "jK_XCBW8jcDj",
        "colab_type": "code",
        "colab": {}
      },
      "source": [
        "learn.load('stage52-av5')"
      ],
      "execution_count": 0,
      "outputs": []
    },
    {
      "cell_type": "code",
      "metadata": {
        "id": "VG9QUacN7Uw3",
        "colab_type": "code",
        "outputId": "80ae80c6-c687-4b3a-c3b4-96bd1d14242f",
        "colab": {
          "base_uri": "https://localhost:8080/",
          "height": 302
        }
      },
      "source": [
        "learn.unfreeze()\n",
        "learn.lr_find()\n",
        "learn.recorder.plot()"
      ],
      "execution_count": 0,
      "outputs": [
        {
          "output_type": "display_data",
          "data": {
            "text/html": [
              ""
            ],
            "text/plain": [
              "<IPython.core.display.HTML object>"
            ]
          },
          "metadata": {
            "tags": []
          }
        },
        {
          "output_type": "stream",
          "text": [
            "LR Finder is complete, type {learner_name}.recorder.plot() to see the graph.\n"
          ],
          "name": "stdout"
        },
        {
          "output_type": "display_data",
          "data": {
            "image/png": "[encoded data removed]",
            "text/plain": [
              "<Figure size 432x288 with 1 Axes>"
            ]
          },
          "metadata": {
            "tags": []
          }
        }
      ]
    },
    {
      "cell_type": "code",
      "metadata": {
        "id": "2VMrzvNt7Y7_",
        "colab_type": "code",
        "outputId": "d147c8d5-63e4-4a30-94a1-0673369ec5de",
        "colab": {
          "base_uri": "https://localhost:8080/",
          "height": 198
        }
      },
      "source": [
        "learn.fit_one_cycle(5, max_lr=slice(1e-06,2e-05))"
      ],
      "execution_count": 0,
      "outputs": [
        {
          "output_type": "display_data",
          "data": {
            "text/html": [
              "<table border=\"1\" class=\"dataframe\">\n",
              "  <thead>\n",
              "    <tr style=\"text-align: left;\">\n",
              "      <th>epoch</th>\n",
              "      <th>train_loss</th>\n",
              "      <th>valid_loss</th>\n",
              "      <th>accuracy</th>\n",
              "      <th>f_beta</th>\n",
              "      <th>time</th>\n",
              "    </tr>\n",
              "  </thead>\n",
              "  <tbody>\n",
              "    <tr>\n",
              "      <td>0</td>\n",
              "      <td>0.029600</td>\n",
              "      <td>0.024156</td>\n",
              "      <td>0.992800</td>\n",
              "      <td>0.992794</td>\n",
              "      <td>07:27</td>\n",
              "    </tr>\n",
              "    <tr>\n",
              "      <td>1</td>\n",
              "      <td>0.028696</td>\n",
              "      <td>0.152768</td>\n",
              "      <td>0.989600</td>\n",
              "      <td>0.989595</td>\n",
              "      <td>02:15</td>\n",
              "    </tr>\n",
              "    <tr>\n",
              "      <td>2</td>\n",
              "      <td>0.031541</td>\n",
              "      <td>0.453472</td>\n",
              "      <td>0.991200</td>\n",
              "      <td>0.991188</td>\n",
              "      <td>02:14</td>\n",
              "    </tr>\n",
              "    <tr>\n",
              "      <td>3</td>\n",
              "      <td>0.026578</td>\n",
              "      <td>0.119038</td>\n",
              "      <td>0.988800</td>\n",
              "      <td>0.988798</td>\n",
              "      <td>02:15</td>\n",
              "    </tr>\n",
              "    <tr>\n",
              "      <td>4</td>\n",
              "      <td>0.022297</td>\n",
              "      <td>0.022982</td>\n",
              "      <td>0.994400</td>\n",
              "      <td>0.994390</td>\n",
              "      <td>02:14</td>\n",
              "    </tr>\n",
              "  </tbody>\n",
              "</table>"
            ],
            "text/plain": [
              "<IPython.core.display.HTML object>"
            ]
          },
          "metadata": {
            "tags": []
          }
        }
      ]
    },
    {
      "cell_type": "code",
      "metadata": {
        "id": "L_dnrhwA-dgJ",
        "colab_type": "code",
        "colab": {}
      },
      "source": [
        "learn.save('stage5F-av5')"
      ],
      "execution_count": 0,
      "outputs": []
    },
    {
      "cell_type": "code",
      "metadata": {
        "id": "RIT_81bMGcx2",
        "colab_type": "code",
        "colab": {}
      },
      "source": [
        "learn.load('stage53-av5')"
      ],
      "execution_count": 0,
      "outputs": []
    },
    {
      "cell_type": "markdown",
      "metadata": {
        "id": "-tt8v4CS9yyY",
        "colab_type": "text"
      },
      "source": [
        "#another cycle"
      ]
    },
    {
      "cell_type": "code",
      "metadata": {
        "id": "hY7XHiVbK58k",
        "colab_type": "code",
        "outputId": "17f2e778-51b8-475e-9e89-1443677d599d",
        "colab": {
          "base_uri": "https://localhost:8080/",
          "height": 35
        }
      },
      "source": [
        "tfms4 = get_transforms(flip_vert=False, max_lighting=0.9, max_zoom=1.2, max_warp=0.)\n",
        "data = ImageDataBunch.from_csv(path, \n",
        "                        folder='images',\n",
        "                        csv_labels='train.csv',\n",
        "                        \n",
        "                        ds_tfms=get_transforms(tfms4),                       \n",
        "                        size=300, valid_pct=0.2)\n",
        "learn.data = data\n",
        "data.train_ds[0][0].shape"
      ],
      "execution_count": 0,
      "outputs": [
        {
          "output_type": "execute_result",
          "data": {
            "text/plain": [
              "torch.Size([3, 300, 300])"
            ]
          },
          "metadata": {
            "tags": []
          },
          "execution_count": 93
        }
      ]
    },
    {
      "cell_type": "code",
      "metadata": {
        "id": "mlGRVSmD-Hgl",
        "colab_type": "code",
        "outputId": "e489e304-0466-4ad5-9c3b-7c6ee3276b44",
        "colab": {
          "base_uri": "https://localhost:8080/",
          "height": 138
        }
      },
      "source": [
        "learn.fit_one_cycle(3)"
      ],
      "execution_count": 0,
      "outputs": [
        {
          "output_type": "display_data",
          "data": {
            "text/html": [
              "<table border=\"1\" class=\"dataframe\">\n",
              "  <thead>\n",
              "    <tr style=\"text-align: left;\">\n",
              "      <th>epoch</th>\n",
              "      <th>train_loss</th>\n",
              "      <th>valid_loss</th>\n",
              "      <th>accuracy</th>\n",
              "      <th>f_beta</th>\n",
              "      <th>time</th>\n",
              "    </tr>\n",
              "  </thead>\n",
              "  <tbody>\n",
              "    <tr>\n",
              "      <td>0</td>\n",
              "      <td>0.034286</td>\n",
              "      <td>0.014284</td>\n",
              "      <td>0.994400</td>\n",
              "      <td>0.994401</td>\n",
              "      <td>01:42</td>\n",
              "    </tr>\n",
              "    <tr>\n",
              "      <td>1</td>\n",
              "      <td>0.033480</td>\n",
              "      <td>0.013002</td>\n",
              "      <td>0.996000</td>\n",
              "      <td>0.996000</td>\n",
              "      <td>01:40</td>\n",
              "    </tr>\n",
              "    <tr>\n",
              "      <td>2</td>\n",
              "      <td>0.035680</td>\n",
              "      <td>0.013842</td>\n",
              "      <td>0.995200</td>\n",
              "      <td>0.995201</td>\n",
              "      <td>01:39</td>\n",
              "    </tr>\n",
              "  </tbody>\n",
              "</table>"
            ],
            "text/plain": [
              "<IPython.core.display.HTML object>"
            ]
          },
          "metadata": {
            "tags": []
          }
        }
      ]
    },
    {
      "cell_type": "code",
      "metadata": {
        "id": "_rF7oLg3_KDh",
        "colab_type": "code",
        "colab": {}
      },
      "source": [
        "learn.save('stage54-av5')"
      ],
      "execution_count": 0,
      "outputs": []
    },
    {
      "cell_type": "code",
      "metadata": {
        "id": "TrQF8DxdC3GZ",
        "colab_type": "code",
        "colab": {}
      },
      "source": [
        "learn.load('stage54-av5')"
      ],
      "execution_count": 0,
      "outputs": []
    },
    {
      "cell_type": "code",
      "metadata": {
        "id": "b39CEQf3LLS5",
        "colab_type": "code",
        "outputId": "c0c0dcdf-00c5-4490-a43d-af6f72a0123f",
        "colab": {
          "base_uri": "https://localhost:8080/",
          "height": 302
        }
      },
      "source": [
        "learn.unfreeze()\n",
        "learn.lr_find()\n",
        "learn.recorder.plot()"
      ],
      "execution_count": 0,
      "outputs": [
        {
          "output_type": "display_data",
          "data": {
            "text/html": [
              ""
            ],
            "text/plain": [
              "<IPython.core.display.HTML object>"
            ]
          },
          "metadata": {
            "tags": []
          }
        },
        {
          "output_type": "stream",
          "text": [
            "LR Finder is complete, type {learner_name}.recorder.plot() to see the graph.\n"
          ],
          "name": "stdout"
        },
        {
          "output_type": "display_data",
          "data": {
            "image/png": "[encoded data removed]",
            "text/plain": [
              "<Figure size 432x288 with 1 Axes>"
            ]
          },
          "metadata": {
            "tags": []
          }
        }
      ]
    },
    {
      "cell_type": "code",
      "metadata": {
        "id": "M8IMuhBf-ZKz",
        "colab_type": "code",
        "colab": {}
      },
      "source": [
        ""
      ],
      "execution_count": 0,
      "outputs": []
    },
    {
      "cell_type": "code",
      "metadata": {
        "id": "dIUT2i29-TMY",
        "colab_type": "code",
        "outputId": "e0b31da5-9220-46a5-ef02-ca23f2b2c7dc",
        "colab": {
          "base_uri": "https://localhost:8080/",
          "height": 108
        }
      },
      "source": [
        "learn.fit_one_cycle(2, max_lr=slice(1e-05,1e-04))"
      ],
      "execution_count": 0,
      "outputs": [
        {
          "output_type": "display_data",
          "data": {
            "text/html": [
              "<table border=\"1\" class=\"dataframe\">\n",
              "  <thead>\n",
              "    <tr style=\"text-align: left;\">\n",
              "      <th>epoch</th>\n",
              "      <th>train_loss</th>\n",
              "      <th>valid_loss</th>\n",
              "      <th>accuracy</th>\n",
              "      <th>f_beta</th>\n",
              "      <th>time</th>\n",
              "    </tr>\n",
              "  </thead>\n",
              "  <tbody>\n",
              "    <tr>\n",
              "      <td>0</td>\n",
              "      <td>0.037071</td>\n",
              "      <td>0.012431</td>\n",
              "      <td>0.996000</td>\n",
              "      <td>0.996000</td>\n",
              "      <td>01:55</td>\n",
              "    </tr>\n",
              "    <tr>\n",
              "      <td>1</td>\n",
              "      <td>0.034292</td>\n",
              "      <td>0.039915</td>\n",
              "      <td>0.996000</td>\n",
              "      <td>0.995998</td>\n",
              "      <td>01:53</td>\n",
              "    </tr>\n",
              "  </tbody>\n",
              "</table>"
            ],
            "text/plain": [
              "<IPython.core.display.HTML object>"
            ]
          },
          "metadata": {
            "tags": []
          }
        }
      ]
    },
    {
      "cell_type": "code",
      "metadata": {
        "id": "e-kgComMAcSD",
        "colab_type": "code",
        "colab": {}
      },
      "source": [
        "learn.save('stage55-av5')"
      ],
      "execution_count": 0,
      "outputs": []
    },
    {
      "cell_type": "code",
      "metadata": {
        "id": "DNhQMWbz-hUK",
        "colab_type": "code",
        "colab": {}
      },
      "source": [
        "learn.export()"
      ],
      "execution_count": 0,
      "outputs": []
    },
    {
      "cell_type": "markdown",
      "metadata": {
        "id": "izS-I9ThYL_3",
        "colab_type": "text"
      },
      "source": [
        "## Results_Previous"
      ]
    },
    {
      "cell_type": "markdown",
      "metadata": {
        "id": "bZkVu00A3yKR",
        "colab_type": "text"
      },
      "source": [
        ""
      ]
    },
    {
      "cell_type": "markdown",
      "metadata": {
        "id": "COiZCIwpYL_5",
        "colab_type": "text"
      },
      "source": [
        "Let's see what results we have got. \n",
        "\n",
        "We will first see which were the categories that the model most confused with one another. We will try to see if what the model predicted was reasonable or not. In this case the mistakes look reasonable (none of the mistakes seems obviously naive). This is an indicator that our classifier is working correctly. \n",
        "\n",
        "Furthermore, when we plot the confusion matrix, we can see that the distribution is heavily skewed: the model makes the same mistakes over and over again but it rarely confuses other categories. This suggests that it just finds it difficult to distinguish some specific categories between each other; this is normal behaviour."
      ]
    },
    {
      "cell_type": "code",
      "metadata": {
        "id": "OU-sxrb7YnJE",
        "colab_type": "code",
        "colab": {}
      },
      "source": [
        "#interp = ClassificationInterpretation.from_learner(learn)\n",
        "#interp = ClassificationInterpretation.from_learner(learn, ds_type=DatasetType.Valid)\n",
        "interp = ClassificationInterpretation.from_learner(learn, ds_type=DatasetType.Train)"
      ],
      "execution_count": 0,
      "outputs": []
    },
    {
      "cell_type": "code",
      "metadata": {
        "id": "tCXNwv-sYMAO",
        "colab_type": "code",
        "outputId": "0f9542a6-2397-4dc2-a6c1-e3764ea8db14",
        "colab": {
          "base_uri": "https://localhost:8080/",
          "height": 311
        }
      },
      "source": [
        "#++interp.plot_confusion_matrix(figsize=(12,12), dpi=60)\n",
        "interp.plot_confusion_matrix()"
      ],
      "execution_count": 0,
      "outputs": [
        {
          "output_type": "display_data",
          "data": {
            "image/png": "[encoded data removed]",
            "text/plain": [
              "<Figure size 432x288 with 1 Axes>"
            ]
          },
          "metadata": {
            "tags": []
          }
        }
      ]
    },
    {
      "cell_type": "code",
      "metadata": {
        "id": "frz6r0hLYMAW",
        "colab_type": "code",
        "outputId": "87b10d43-e4ed-4f69-82b8-43fdde2c09f8",
        "colab": {
          "base_uri": "https://localhost:8080/",
          "height": 35
        }
      },
      "source": [
        "interp.most_confused(min_val=3)"
      ],
      "execution_count": 0,
      "outputs": [
        {
          "output_type": "execute_result",
          "data": {
            "text/plain": [
              "[(5, 1, 7), (1, 5, 5)]"
            ]
          },
          "metadata": {
            "tags": []
          },
          "execution_count": 62
        }
      ]
    },
    {
      "cell_type": "code",
      "metadata": {
        "id": "AropK9uarBuB",
        "colab_type": "code",
        "colab": {}
      },
      "source": [
        "interp.plot_top_losses(9, figsize=(7,6))"
      ],
      "execution_count": 0,
      "outputs": []
    },
    {
      "cell_type": "markdown",
      "metadata": {
        "id": "Lni57buYJE9B",
        "colab_type": "text"
      },
      "source": [
        "#Investigate more"
      ]
    },
    {
      "cell_type": "code",
      "metadata": {
        "id": "Nk_4dqdYIwKy",
        "colab_type": "code",
        "colab": {}
      },
      "source": [
        "interp.plot_top_losses(15)"
      ],
      "execution_count": 0,
      "outputs": []
    },
    {
      "cell_type": "code",
      "metadata": {
        "id": "PNPLVlAy4nd9",
        "colab_type": "code",
        "outputId": "371e6c9c-bc49-4a65-8aed-fde7b0b6cc5d",
        "colab": {
          "base_uri": "https://localhost:8080/",
          "height": 35
        }
      },
      "source": [
        "# class-to-index mapping:\n",
        "learn.data.train_ds.y.c2i"
      ],
      "execution_count": 0,
      "outputs": [
        {
          "output_type": "execute_result",
          "data": {
            "text/plain": [
              "{1: 0, 2: 1, 3: 2, 4: 3, 5: 4}"
            ]
          },
          "metadata": {
            "tags": []
          },
          "execution_count": 125
        }
      ]
    },
    {
      "cell_type": "code",
      "metadata": {
        "id": "z935MLsftG4i",
        "colab_type": "code",
        "colab": {}
      },
      "source": [
        "plot_top_losses_heatmap(10,learn,True)"
      ],
      "execution_count": 0,
      "outputs": []
    },
    {
      "cell_type": "code",
      "metadata": {
        "id": "u43CQwCUrchv",
        "colab_type": "code",
        "colab": {}
      },
      "source": [
        "log_probs, y = learn.TTA(is_test=True)"
      ],
      "execution_count": 0,
      "outputs": []
    },
    {
      "cell_type": "code",
      "metadata": {
        "id": "czzQ1bL_DJNe",
        "colab_type": "code",
        "outputId": "2cd61cb2-ed15-4327-b393-cf8df7c013d0",
        "colab": {
          "base_uri": "https://localhost:8080/",
          "height": 35
        }
      },
      "source": [
        "losses,idxs = interp.top_losses()\n",
        "len(data.valid_ds)==len(losses)==len(idxs)"
      ],
      "execution_count": 0,
      "outputs": [
        {
          "output_type": "execute_result",
          "data": {
            "text/plain": [
              "True"
            ]
          },
          "metadata": {
            "tags": []
          },
          "execution_count": 128
        }
      ]
    },
    {
      "cell_type": "code",
      "metadata": {
        "id": "jyC_I5rzEPfW",
        "colab_type": "code",
        "outputId": "4b7f5eff-9e1e-48e0-a0fe-ad1758043580",
        "colab": {
          "base_uri": "https://localhost:8080/",
          "height": 35
        }
      },
      "source": [
        "test = ImageList.from_csv(path, 'test.csv', folder='images')\n",
        "len(test)"
      ],
      "execution_count": 0,
      "outputs": [
        {
          "output_type": "execute_result",
          "data": {
            "text/plain": [
              "2680"
            ]
          },
          "metadata": {
            "tags": []
          },
          "execution_count": 23
        }
      ]
    },
    {
      "cell_type": "code",
      "metadata": {
        "id": "OYq9ijI8Jxp7",
        "colab_type": "code",
        "colab": {}
      },
      "source": [
        "learn.data.test_ds.x, learn.data.test_ds.y"
      ],
      "execution_count": 0,
      "outputs": []
    },
    {
      "cell_type": "code",
      "metadata": {
        "id": "0OKLxMJ-KYXc",
        "colab_type": "code",
        "colab": {}
      },
      "source": [
        "learn.model.eval()"
      ],
      "execution_count": 0,
      "outputs": []
    },
    {
      "cell_type": "code",
      "metadata": {
        "id": "ln-Brw3bBhek",
        "colab_type": "code",
        "colab": {}
      },
      "source": [
        "log_preds, y = learn.to_fp32().TTA(ds_type=DatasetType.Test)\n",
        "predIdxs = np.argmax(log_preds.numpy(), axis=1)"
      ],
      "execution_count": 0,
      "outputs": []
    },
    {
      "cell_type": "code",
      "metadata": {
        "id": "Q3GQ6k5nXYyp",
        "colab_type": "code",
        "colab": {}
      },
      "source": [
        "learn = load_learner(path, test=test)\n",
        "preds, _ = learn.get_preds(ds_type=DatasetType.Test)"
      ],
      "execution_count": 0,
      "outputs": []
    },
    {
      "cell_type": "code",
      "metadata": {
        "id": "M1p1kKOqHe2_",
        "colab_type": "code",
        "colab": {}
      },
      "source": [
        "preds"
      ],
      "execution_count": 0,
      "outputs": []
    },
    {
      "cell_type": "code",
      "metadata": {
        "id": "h76TP-C9DRmD",
        "colab_type": "code",
        "outputId": "0146bad7-f323-47c5-805a-c9b24990190e",
        "colab": {
          "base_uri": "https://localhost:8080/",
          "height": 54
        }
      },
      "source": [
        "labels = np.argmax(preds, 1)\n",
        "labels[:40]"
      ],
      "execution_count": 0,
      "outputs": [
        {
          "output_type": "execute_result",
          "data": {
            "text/plain": [
              "tensor([3, 3, 3, 1, 3, 3, 3, 1, 1, 3, 3, 3, 3, 3, 1, 1, 3, 1, 1, 3, 1, 3, 1, 3,\n",
              "        3, 3, 0, 3, 3, 3, 3, 3, 3, 3, 3, 3, 3, 3, 3, 3])"
            ]
          },
          "metadata": {
            "tags": []
          },
          "execution_count": 28
        }
      ]
    },
    {
      "cell_type": "code",
      "metadata": {
        "id": "CZvaT-0lDdC8",
        "colab_type": "code",
        "colab": {}
      },
      "source": [
        "df_test= pd.read_csv('/content/gdrive/My Drive/Ships/test.csv')"
      ],
      "execution_count": 0,
      "outputs": []
    },
    {
      "cell_type": "code",
      "metadata": {
        "id": "zWz_OAV6Dkdo",
        "colab_type": "code",
        "colab": {}
      },
      "source": [
        "#sub2-->96.738 on LB (42 rank)\n",
        "res_df = pd.DataFrame({'image': df_test['image'], 'category': labels})\n",
        "res_df.to_csv('subf3.csv', index=False)"
      ],
      "execution_count": 0,
      "outputs": []
    },
    {
      "cell_type": "code",
      "metadata": {
        "id": "Je-BIWtO8SZh",
        "colab_type": "code",
        "colab": {}
      },
      "source": [
        "losslist = losses.tolist()\n",
        "losslist"
      ],
      "execution_count": 0,
      "outputs": []
    },
    {
      "cell_type": "code",
      "metadata": {
        "id": "cEZUv34t7xvo",
        "colab_type": "code",
        "outputId": "df425920-4411-45f6-ef67-896e1e4109c8",
        "colab": {
          "base_uri": "https://localhost:8080/",
          "height": 35
        }
      },
      "source": [
        "idxs"
      ],
      "execution_count": 0,
      "outputs": [
        {
          "output_type": "execute_result",
          "data": {
            "text/plain": [
              "tensor([ 7810,     8,  5613,  ...,  8409, 10225,  9998])"
            ]
          },
          "metadata": {
            "tags": []
          },
          "execution_count": 42
        }
      ]
    },
    {
      "cell_type": "code",
      "metadata": {
        "id": "rfmzPxlttqwV",
        "colab_type": "code",
        "colab": {}
      },
      "source": [
        "preds = learn.pred_batch()"
      ],
      "execution_count": 0,
      "outputs": []
    },
    {
      "cell_type": "code",
      "metadata": {
        "id": "6BOlntt3UUip",
        "colab_type": "code",
        "outputId": "51d5fe8b-b71b-4e8d-879d-322fc19239ee",
        "colab": {
          "base_uri": "https://localhost:8080/",
          "height": 35
        }
      },
      "source": [
        "type(preds), preds.shape"
      ],
      "execution_count": 0,
      "outputs": [
        {
          "output_type": "execute_result",
          "data": {
            "text/plain": [
              "(torch.Tensor, torch.Size([2680, 5]))"
            ]
          },
          "metadata": {
            "tags": []
          },
          "execution_count": 50
        }
      ]
    },
    {
      "cell_type": "code",
      "metadata": {
        "id": "azFn13N5tw4s",
        "colab_type": "code",
        "outputId": "2d9d9da1-7cd2-4af9-ac7a-5bf5abccaa90",
        "colab": {
          "base_uri": "https://localhost:8080/",
          "height": 235
        }
      },
      "source": [
        "preds[:12]"
      ],
      "execution_count": 0,
      "outputs": [
        {
          "output_type": "execute_result",
          "data": {
            "text/plain": [
              "tensor([[1.6207e-08, 2.3546e-07, 2.6427e-08, 1.0000e+00, 2.6262e-06],\n",
              "        [1.1832e-07, 2.4962e-08, 1.7037e-06, 1.0000e+00, 1.2341e-07],\n",
              "        [1.9594e-06, 1.5393e-05, 1.3220e-06, 9.9998e-01, 2.6461e-06],\n",
              "        [2.3770e-09, 1.0000e+00, 5.7482e-08, 8.2915e-07, 9.2834e-08],\n",
              "        [1.7800e-04, 5.7585e-04, 1.9486e-03, 9.9726e-01, 3.7088e-05],\n",
              "        [4.8373e-08, 1.7057e-06, 4.8009e-07, 1.0000e+00, 7.9898e-08],\n",
              "        [1.6509e-08, 2.2434e-08, 2.9541e-07, 9.9980e-01, 1.9974e-04],\n",
              "        [7.8491e-03, 4.3364e-01, 1.1243e-03, 6.0561e-04, 5.5678e-01],\n",
              "        [9.9339e-09, 1.0000e+00, 1.5550e-08, 1.1373e-06, 2.5520e-08],\n",
              "        [4.8453e-01, 2.5062e-03, 1.2596e-03, 5.1159e-01, 1.1685e-04],\n",
              "        [4.7292e-07, 1.5390e-06, 1.0983e-05, 9.9997e-01, 1.2532e-05],\n",
              "        [2.5080e-08, 9.7714e-07, 1.0571e-06, 1.0000e+00, 1.4950e-06]])"
            ]
          },
          "metadata": {
            "tags": []
          },
          "execution_count": 49
        }
      ]
    },
    {
      "cell_type": "code",
      "metadata": {
        "id": "NMs-3O3N9sa6",
        "colab_type": "code",
        "outputId": "6e636d5a-3dc1-4225-f8a8-41a749d2803a",
        "colab": {
          "base_uri": "https://localhost:8080/",
          "height": 35
        }
      },
      "source": [
        "preds.dim()"
      ],
      "execution_count": 0,
      "outputs": [
        {
          "output_type": "execute_result",
          "data": {
            "text/plain": [
              "2"
            ]
          },
          "metadata": {
            "tags": []
          },
          "execution_count": 45
        }
      ]
    },
    {
      "cell_type": "code",
      "metadata": {
        "id": "Y01Z6_uxsHD5",
        "colab_type": "code",
        "colab": {}
      },
      "source": [
        "probs = np.exp(log_preds) / np.exp(log_preds).sum(1)[:,None]"
      ],
      "execution_count": 0,
      "outputs": []
    },
    {
      "cell_type": "code",
      "metadata": {
        "id": "WfNLm--yEK8Q",
        "colab_type": "code",
        "colab": {}
      },
      "source": [
        "probs = np.exp(log_preds)\n",
        "probs, probs.shape"
      ],
      "execution_count": 0,
      "outputs": []
    },
    {
      "cell_type": "code",
      "metadata": {
        "id": "JfVqLa1UCY4p",
        "colab_type": "code",
        "colab": {}
      },
      "source": [
        "preds = np.argmax(log_preds, axis=1)\n",
        "preds, preds.shape"
      ],
      "execution_count": 0,
      "outputs": []
    },
    {
      "cell_type": "code",
      "metadata": {
        "id": "0osWxyVP86E5",
        "colab_type": "code",
        "colab": {}
      },
      "source": [
        "learn = load_learner(path, test=test)\n",
        "preds, _ = learn.get_preds(ds_type=DatasetType.Test)"
      ],
      "execution_count": 0,
      "outputs": []
    },
    {
      "cell_type": "code",
      "metadata": {
        "id": "XR0JjjQyA9e6",
        "colab_type": "code",
        "outputId": "75800dbd-598e-4ad8-ef8d-754ce7261636",
        "colab": {
          "base_uri": "https://localhost:8080/",
          "height": 40
        }
      },
      "source": [
        "#To get predictions on the entire training dataset\n",
        "#preds_train = learn.get_preds(ds_type = DatasetType.Train, ordered=True)\n",
        "preds_test = learn.get_preds(ds_type=DatasetType.Test)\n",
        "#preds_train = learn.get_preds(ds_type=Dat)\n",
        "#predstrn,y = learn.get_preds(ds_type=DatasetType.Fix)\n",
        "#train_preds, train_ys = learn.TTA(ds_type=DatasetType.Fix)"
      ],
      "execution_count": 0,
      "outputs": [
        {
          "output_type": "display_data",
          "data": {
            "text/html": [
              "Total time: 19:24 <p>"
            ],
            "text/plain": [
              "<IPython.core.display.HTML object>"
            ]
          },
          "metadata": {
            "tags": []
          }
        }
      ]
    },
    {
      "cell_type": "code",
      "metadata": {
        "id": "mnxAtmUVjstY",
        "colab_type": "code",
        "outputId": "64dd2683-4ddb-44aa-fa94-ae003b0fc206",
        "colab": {
          "base_uri": "https://localhost:8080/",
          "height": 35
        }
      },
      "source": [
        "type(test_preds), train_preds.shape,  train_ys.shape"
      ],
      "execution_count": 0,
      "outputs": [
        {
          "output_type": "execute_result",
          "data": {
            "text/plain": [
              "(torch.Tensor, torch.Size([10498, 6]), torch.Size([10498]))"
            ]
          },
          "metadata": {
            "tags": []
          },
          "execution_count": 41
        }
      ]
    },
    {
      "cell_type": "code",
      "metadata": {
        "id": "eq9jm3AVfiw-",
        "colab_type": "code",
        "outputId": "cea01070-6b89-4275-be51-e3f192a02d69",
        "colab": {
          "base_uri": "https://localhost:8080/",
          "height": 163
        }
      },
      "source": [
        "train_preds, train_ys"
      ],
      "execution_count": 0,
      "outputs": [
        {
          "output_type": "execute_result",
          "data": {
            "text/plain": [
              "(tensor([[1.4061e-04, 1.5408e-03, 1.7946e-03, 2.3454e-02, 8.0145e-01, 1.7162e-01],\n",
              "         [1.5471e-03, 1.1047e-03, 7.2875e-04, 5.3874e-03, 9.4217e-01, 4.9060e-02],\n",
              "         [1.3402e-06, 1.3434e-05, 3.1436e-06, 3.2179e-03, 9.9014e-01, 6.6281e-03],\n",
              "         ...,\n",
              "         [1.6057e-05, 1.6548e-03, 8.9857e-04, 9.0788e-01, 6.3966e-02, 2.5588e-02],\n",
              "         [9.9945e-05, 8.9120e-04, 1.9839e-03, 9.2913e-01, 4.0774e-02, 2.7124e-02],\n",
              "         [7.4227e-06, 4.9467e-05, 7.5378e-05, 9.8833e-01, 1.0575e-02, 9.5787e-04]]),\n",
              " tensor([4, 4, 4,  ..., 3, 3, 3]))"
            ]
          },
          "metadata": {
            "tags": []
          },
          "execution_count": 42
        }
      ]
    },
    {
      "cell_type": "code",
      "metadata": {
        "id": "LZOUDRkAMbaT",
        "colab_type": "code",
        "colab": {}
      },
      "source": [
        "trainprobs = np.exp(train_preds) / np.exp(train_preds).sum(1)[:,None]"
      ],
      "execution_count": 0,
      "outputs": []
    },
    {
      "cell_type": "code",
      "metadata": {
        "id": "kKK0L0F7P8KC",
        "colab_type": "code",
        "outputId": "32b8f7ea-baee-4d8e-e619-e18c010508c5",
        "colab": {
          "base_uri": "https://localhost:8080/",
          "height": 145
        }
      },
      "source": [
        "trainprobs, type(trainprobs)"
      ],
      "execution_count": 0,
      "outputs": [
        {
          "output_type": "execute_result",
          "data": {
            "text/plain": [
              "(tensor([[0.1344, 0.1346, 0.1346, 0.1375, 0.2994, 0.1595],\n",
              "         [0.1314, 0.1313, 0.1312, 0.1319, 0.3365, 0.1377],\n",
              "         [0.1298, 0.1298, 0.1298, 0.1303, 0.3495, 0.1307],\n",
              "         ...,\n",
              "         [0.1320, 0.1323, 0.1322, 0.3273, 0.1408, 0.1355],\n",
              "         [0.1315, 0.1316, 0.1318, 0.3330, 0.1370, 0.1351],\n",
              "         [0.1299, 0.1299, 0.1299, 0.3490, 0.1313, 0.1300]]), torch.Tensor)"
            ]
          },
          "metadata": {
            "tags": []
          },
          "execution_count": 44
        }
      ]
    },
    {
      "cell_type": "code",
      "metadata": {
        "id": "JQSiRwzCdCRU",
        "colab_type": "code",
        "colab": {}
      },
      "source": [
        "train_probs = trainprobs.tolist()"
      ],
      "execution_count": 0,
      "outputs": []
    }
  ]
}