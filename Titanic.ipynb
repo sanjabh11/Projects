{
  "nbformat": 4,
  "nbformat_minor": 0,
  "metadata": {
    "colab": {
      "name": " Titanic.ipynb",
      "version": "0.3.2",
      "provenance": [],
      "collapsed_sections": [
        "pt0Uq0wWg_HV",
        "Rml_7hhFg_I0"
      ],
      "include_colab_link": true
    },
    "kernelspec": {
      "name": "python3",
      "display_name": "Python 3"
    },
    "accelerator": "GPU"
  },
  "cells": [
    {
      "cell_type": "markdown",
      "metadata": {
        "id": "view-in-github",
        "colab_type": "text"
      },
      "source": [
        "<a href=\"https://colab.research.google.com/github/sanjabh11/Projects/blob/master/Titanic.ipynb\" target=\"_parent\"><img src=\"https://colab.research.google.com/assets/colab-badge.svg\" alt=\"Open In Colab\"/></a>"
      ]
    },
    {
      "cell_type": "code",
      "metadata": {
        "id": "CIJZCeegg_Gq",
        "colab_type": "code",
        "colab": {}
      },
      "source": [
        "%reload_ext autoreload\n",
        "%autoreload 2"
      ],
      "execution_count": 0,
      "outputs": []
    },
    {
      "cell_type": "code",
      "metadata": {
        "id": "kFC_J7ACg_Gz",
        "colab_type": "code",
        "colab": {}
      },
      "source": [
        "from fastai.tabular import *"
      ],
      "execution_count": 0,
      "outputs": []
    },
    {
      "cell_type": "markdown",
      "metadata": {
        "id": "ZudewgY_g_G5",
        "colab_type": "text"
      },
      "source": [
        "## Data preparation"
      ]
    },
    {
      "cell_type": "markdown",
      "metadata": {
        "id": "F5f8I3PRcqjh",
        "colab_type": "text"
      },
      "source": [
        "#Take data from D:\\Datasets ML\\Datasets\\Titanic"
      ]
    },
    {
      "cell_type": "code",
      "metadata": {
        "id": "tTmmFYuvbyfn",
        "colab_type": "code",
        "colab": {}
      },
      "source": [
        "mkdir titanic"
      ],
      "execution_count": 0,
      "outputs": []
    },
    {
      "cell_type": "code",
      "metadata": {
        "id": "pHpnzsKMldKO",
        "colab_type": "code",
        "colab": {}
      },
      "source": [
        "mv *.csv titanic"
      ],
      "execution_count": 0,
      "outputs": []
    },
    {
      "cell_type": "code",
      "metadata": {
        "id": "k-kJsPnuunla",
        "colab_type": "code",
        "colab": {}
      },
      "source": [
        "from fastai.tabular import *\n",
        "path='/content/titanic'\n",
        "df = pd.read_csv('titanic/train.csv')\n",
        "df_test= pd.read_csv('titanic/test.csv')"
      ],
      "execution_count": 0,
      "outputs": []
    },
    {
      "cell_type": "code",
      "metadata": {
        "id": "oB41gKvNXFtQ",
        "colab_type": "code",
        "colab": {}
      },
      "source": [
        "#Segregating the numeric and categorical variable names, not needed fpr fastai\n",
        "\n",
        "numeric_var_names = [key for key in dict(df.dtypes) if dict(df.dtypes)[key] in ['float64', 'int64', 'float32', 'int32']]\n",
        "catgorical_var_names = [key for key in dict(df.dtypes) if dict(df.dtypes)[key] in ['object']]\n",
        "numeric_var_names, catgorical_var_names"
      ],
      "execution_count": 0,
      "outputs": []
    },
    {
      "cell_type": "code",
      "metadata": {
        "id": "pS3L5ktCzqHd",
        "colab_type": "code",
        "colab": {}
      },
      "source": [
        "#ver1\n",
        "dep_var = 'Survived'\n",
        "cat_names = ['Pclass', 'Sex', 'Cabin', 'Embarked']\n",
        "cont_names = ['Age', 'SibSp', 'Parch', 'Fare']\n",
        "procs = [FillMissing, Categorify, Normalize]"
      ],
      "execution_count": 0,
      "outputs": []
    },
    {
      "cell_type": "code",
      "metadata": {
        "id": "KzGhSkaFIfrv",
        "colab_type": "code",
        "colab": {}
      },
      "source": [
        "#latest\n",
        "dep_var = 'Survived'\n",
        "cat_names = ['Pclass','Sex','SibSp','Embarked']\n",
        "cont_names = ['Age', 'Fare']\n",
        "procs = [FillMissing, Categorify, Normalize]\n",
        "#'Cabin','Parch'"
      ],
      "execution_count": 0,
      "outputs": []
    },
    {
      "cell_type": "code",
      "metadata": {
        "id": "s40uBA6Xz3ig",
        "colab_type": "code",
        "colab": {}
      },
      "source": [
        "data_test = TabularList.from_df(df_test, path=path, cat_names=cat_names, cont_names=cont_names)"
      ],
      "execution_count": 0,
      "outputs": []
    },
    {
      "cell_type": "code",
      "metadata": {
        "id": "V_JwBfwzgp7d",
        "colab_type": "code",
        "colab": {}
      },
      "source": [
        "data = (TabularList.from_df(df, path=path, cat_names=cat_names, cont_names=cont_names, procs=procs)\n",
        "                           #.split_by_rand_pct(0.2)\n",
        "                            .split_by_idx(valid_idx=range(len(df)-200,len(df)))\n",
        "                           .label_from_df(cols=dep_var)\n",
        "                           #.add_test(df_test)\n",
        "                            .add_test(data_test)\n",
        "                           .databunch())"
      ],
      "execution_count": 0,
      "outputs": []
    },
    {
      "cell_type": "code",
      "metadata": {
        "id": "Cgnr9f1j3Z0i",
        "colab_type": "code",
        "colab": {}
      },
      "source": [
        "# Way2- valid_idx = range(len(df)-200, len(df))\n",
        "#data = TabularDataBunch.from_df(path, df, dep_var, valid_idx=valid_idx, test_df=df_test, procs=procs, cat_names=cat_names, cont_names=cont_names)\n"
      ],
      "execution_count": 0,
      "outputs": []
    },
    {
      "cell_type": "code",
      "metadata": {
        "id": "2X_Dr5OshyHc",
        "colab_type": "code",
        "outputId": "ca58677d-5d4e-46db-87d0-388eb3f16e29",
        "colab": {
          "base_uri": "https://localhost:8080/",
          "height": 216
        }
      },
      "source": [
        "data.show_batch(rows=5), "
      ],
      "execution_count": 0,
      "outputs": [
        {
          "output_type": "display_data",
          "data": {
            "text/html": [
              "<table border=\"1\" class=\"dataframe\">\n",
              "  <thead>\n",
              "    <tr style=\"text-align: right;\">\n",
              "      <th>Pclass</th>\n",
              "      <th>Sex</th>\n",
              "      <th>SibSp</th>\n",
              "      <th>Parch</th>\n",
              "      <th>Embarked</th>\n",
              "      <th>Age_na</th>\n",
              "      <th>Age</th>\n",
              "      <th>Fare</th>\n",
              "      <th>target</th>\n",
              "    </tr>\n",
              "  </thead>\n",
              "  <tbody>\n",
              "    <tr>\n",
              "      <td>1</td>\n",
              "      <td>male</td>\n",
              "      <td>0</td>\n",
              "      <td>0</td>\n",
              "      <td>C</td>\n",
              "      <td>False</td>\n",
              "      <td>0.4205</td>\n",
              "      <td>-0.1182</td>\n",
              "      <td>1</td>\n",
              "    </tr>\n",
              "    <tr>\n",
              "      <td>3</td>\n",
              "      <td>male</td>\n",
              "      <td>0</td>\n",
              "      <td>0</td>\n",
              "      <td>Q</td>\n",
              "      <td>False</td>\n",
              "      <td>3.1468</td>\n",
              "      <td>-0.5062</td>\n",
              "      <td>0</td>\n",
              "    </tr>\n",
              "    <tr>\n",
              "      <td>1</td>\n",
              "      <td>female</td>\n",
              "      <td>0</td>\n",
              "      <td>2</td>\n",
              "      <td>C</td>\n",
              "      <td>False</td>\n",
              "      <td>-0.5778</td>\n",
              "      <td>0.3555</td>\n",
              "      <td>1</td>\n",
              "    </tr>\n",
              "    <tr>\n",
              "      <td>3</td>\n",
              "      <td>male</td>\n",
              "      <td>0</td>\n",
              "      <td>0</td>\n",
              "      <td>S</td>\n",
              "      <td>True</td>\n",
              "      <td>-0.1171</td>\n",
              "      <td>-0.5000</td>\n",
              "      <td>0</td>\n",
              "    </tr>\n",
              "    <tr>\n",
              "      <td>1</td>\n",
              "      <td>male</td>\n",
              "      <td>0</td>\n",
              "      <td>0</td>\n",
              "      <td>S</td>\n",
              "      <td>False</td>\n",
              "      <td>-0.1171</td>\n",
              "      <td>0.0665</td>\n",
              "      <td>1</td>\n",
              "    </tr>\n",
              "  </tbody>\n",
              "</table>"
            ],
            "text/plain": [
              "<IPython.core.display.HTML object>"
            ]
          },
          "metadata": {
            "tags": []
          }
        },
        {
          "output_type": "execute_result",
          "data": {
            "text/plain": [
              "(None,)"
            ]
          },
          "metadata": {
            "tags": []
          },
          "execution_count": 7
        }
      ]
    },
    {
      "cell_type": "code",
      "metadata": {
        "id": "bh0-dgpZqpBB",
        "colab_type": "code",
        "colab": {}
      },
      "source": [
        "#Define function for AUC7\n",
        "from sklearn.metrics import roc_auc_score\n",
        "\n",
        "def auroc_score(input, target):\n",
        "    input, target = input.cpu().numpy()[:,1], target.cpu().numpy()\n",
        "    return roc_auc_score(target, input)\n",
        "\n",
        "class AUROC(Callback):\n",
        "    _order = -20 #Needs to run before the recorder\n",
        "\n",
        "    def __init__(self, learn, **kwargs): self.learn = learn\n",
        "    def on_train_begin(self, **kwargs): self.learn.recorder.add_metric_names(['AUROC'])\n",
        "    def on_epoch_begin(self, **kwargs): self.output, self.target = [], []\n",
        "    \n",
        "    def on_batch_end(self, last_target, last_output, train, **kwargs):\n",
        "        if not train:\n",
        "            self.output.append(last_output)\n",
        "            self.target.append(last_target)\n",
        "                \n",
        "    def on_epoch_end(self, last_metrics, **kwargs):\n",
        "        if len(self.output) > 0:\n",
        "            output = torch.cat(self.output)\n",
        "            target = torch.cat(self.target)\n",
        "            preds = F.softmax(output, dim=1)\n",
        "            metric = auroc_score(preds, target)\n",
        "            return add_metrics(last_metrics, [metric])"
      ],
      "execution_count": 0,
      "outputs": []
    },
    {
      "cell_type": "code",
      "metadata": {
        "id": "M-cPAUYlCNO5",
        "colab_type": "code",
        "colab": {}
      },
      "source": [
        "#learn = tabular_learner(data, layers=[300,200,100], metrics=accuracy) emb_drop=0.04,\n",
        "learn = tabular_learner(data,layers=[100,200,300], metrics=accuracy, callback_fns=AUROC)"
      ],
      "execution_count": 0,
      "outputs": []
    },
    {
      "cell_type": "code",
      "metadata": {
        "id": "aYnwY4UHCZlx",
        "colab_type": "code",
        "outputId": "b2f922f9-d403-4d1d-e0a3-85ef172f52d8",
        "colab": {
          "base_uri": "https://localhost:8080/",
          "height": 302
        }
      },
      "source": [
        "learn.lr_find()\n",
        "learn.recorder.plot()"
      ],
      "execution_count": 0,
      "outputs": [
        {
          "output_type": "display_data",
          "data": {
            "text/html": [
              ""
            ],
            "text/plain": [
              "<IPython.core.display.HTML object>"
            ]
          },
          "metadata": {
            "tags": []
          }
        },
        {
          "output_type": "stream",
          "text": [
            "LR Finder is complete, type {learner_name}.recorder.plot() to see the graph.\n"
          ],
          "name": "stdout"
        },
        {
          "output_type": "display_data",
          "data": {
            "image/png": "[encoded data removed]",
            "text/plain": [
              "<Figure size 432x288 with 1 Axes>"
            ]
          },
          "metadata": {
            "tags": []
          }
        }
      ]
    },
    {
      "cell_type": "code",
      "metadata": {
        "id": "TyiTHXTJqrnk",
        "colab_type": "code",
        "outputId": "c3b08a5e-63d6-4c27-d328-60f1c634aafe",
        "colab": {
          "base_uri": "https://localhost:8080/",
          "height": 648
        }
      },
      "source": [
        "learn.fit_one_cycle(20, 1e-3)\n"
      ],
      "execution_count": 0,
      "outputs": [
        {
          "output_type": "display_data",
          "data": {
            "text/html": [
              "<table border=\"1\" class=\"dataframe\">\n",
              "  <thead>\n",
              "    <tr style=\"text-align: left;\">\n",
              "      <th>epoch</th>\n",
              "      <th>train_loss</th>\n",
              "      <th>valid_loss</th>\n",
              "      <th>accuracy</th>\n",
              "      <th>AUROC</th>\n",
              "      <th>time</th>\n",
              "    </tr>\n",
              "  </thead>\n",
              "  <tbody>\n",
              "    <tr>\n",
              "      <td>0</td>\n",
              "      <td>0.713563</td>\n",
              "      <td>0.710232</td>\n",
              "      <td>0.370000</td>\n",
              "      <td>0.513889</td>\n",
              "      <td>00:00</td>\n",
              "    </tr>\n",
              "    <tr>\n",
              "      <td>1</td>\n",
              "      <td>0.684909</td>\n",
              "      <td>0.704165</td>\n",
              "      <td>0.370000</td>\n",
              "      <td>0.701255</td>\n",
              "      <td>00:00</td>\n",
              "    </tr>\n",
              "    <tr>\n",
              "      <td>2</td>\n",
              "      <td>0.666025</td>\n",
              "      <td>0.697454</td>\n",
              "      <td>0.375000</td>\n",
              "      <td>0.789414</td>\n",
              "      <td>00:00</td>\n",
              "    </tr>\n",
              "    <tr>\n",
              "      <td>3</td>\n",
              "      <td>0.646834</td>\n",
              "      <td>0.662406</td>\n",
              "      <td>0.670000</td>\n",
              "      <td>0.788771</td>\n",
              "      <td>00:00</td>\n",
              "    </tr>\n",
              "    <tr>\n",
              "      <td>4</td>\n",
              "      <td>0.617324</td>\n",
              "      <td>0.541184</td>\n",
              "      <td>0.780000</td>\n",
              "      <td>0.850654</td>\n",
              "      <td>00:00</td>\n",
              "    </tr>\n",
              "    <tr>\n",
              "      <td>5</td>\n",
              "      <td>0.592287</td>\n",
              "      <td>0.485627</td>\n",
              "      <td>0.790000</td>\n",
              "      <td>0.837033</td>\n",
              "      <td>00:00</td>\n",
              "    </tr>\n",
              "    <tr>\n",
              "      <td>6</td>\n",
              "      <td>0.570637</td>\n",
              "      <td>0.424481</td>\n",
              "      <td>0.830000</td>\n",
              "      <td>0.876394</td>\n",
              "      <td>00:00</td>\n",
              "    </tr>\n",
              "    <tr>\n",
              "      <td>7</td>\n",
              "      <td>0.546879</td>\n",
              "      <td>0.395357</td>\n",
              "      <td>0.835000</td>\n",
              "      <td>0.884116</td>\n",
              "      <td>00:00</td>\n",
              "    </tr>\n",
              "    <tr>\n",
              "      <td>8</td>\n",
              "      <td>0.527391</td>\n",
              "      <td>0.396743</td>\n",
              "      <td>0.820000</td>\n",
              "      <td>0.891731</td>\n",
              "      <td>00:00</td>\n",
              "    </tr>\n",
              "    <tr>\n",
              "      <td>9</td>\n",
              "      <td>0.513065</td>\n",
              "      <td>0.382873</td>\n",
              "      <td>0.860000</td>\n",
              "      <td>0.878754</td>\n",
              "      <td>00:00</td>\n",
              "    </tr>\n",
              "    <tr>\n",
              "      <td>10</td>\n",
              "      <td>0.495886</td>\n",
              "      <td>0.365750</td>\n",
              "      <td>0.850000</td>\n",
              "      <td>0.898702</td>\n",
              "      <td>00:00</td>\n",
              "    </tr>\n",
              "    <tr>\n",
              "      <td>11</td>\n",
              "      <td>0.480932</td>\n",
              "      <td>0.367938</td>\n",
              "      <td>0.840000</td>\n",
              "      <td>0.897737</td>\n",
              "      <td>00:00</td>\n",
              "    </tr>\n",
              "    <tr>\n",
              "      <td>12</td>\n",
              "      <td>0.468736</td>\n",
              "      <td>0.359836</td>\n",
              "      <td>0.840000</td>\n",
              "      <td>0.904387</td>\n",
              "      <td>00:00</td>\n",
              "    </tr>\n",
              "    <tr>\n",
              "      <td>13</td>\n",
              "      <td>0.459439</td>\n",
              "      <td>0.360535</td>\n",
              "      <td>0.845000</td>\n",
              "      <td>0.903421</td>\n",
              "      <td>00:00</td>\n",
              "    </tr>\n",
              "    <tr>\n",
              "      <td>14</td>\n",
              "      <td>0.447006</td>\n",
              "      <td>0.357221</td>\n",
              "      <td>0.860000</td>\n",
              "      <td>0.901062</td>\n",
              "      <td>00:00</td>\n",
              "    </tr>\n",
              "    <tr>\n",
              "      <td>15</td>\n",
              "      <td>0.437747</td>\n",
              "      <td>0.344695</td>\n",
              "      <td>0.860000</td>\n",
              "      <td>0.910929</td>\n",
              "      <td>00:00</td>\n",
              "    </tr>\n",
              "    <tr>\n",
              "      <td>16</td>\n",
              "      <td>0.430411</td>\n",
              "      <td>0.346413</td>\n",
              "      <td>0.855000</td>\n",
              "      <td>0.912001</td>\n",
              "      <td>00:00</td>\n",
              "    </tr>\n",
              "    <tr>\n",
              "      <td>17</td>\n",
              "      <td>0.424878</td>\n",
              "      <td>0.350978</td>\n",
              "      <td>0.855000</td>\n",
              "      <td>0.911143</td>\n",
              "      <td>00:00</td>\n",
              "    </tr>\n",
              "    <tr>\n",
              "      <td>18</td>\n",
              "      <td>0.420334</td>\n",
              "      <td>0.349661</td>\n",
              "      <td>0.860000</td>\n",
              "      <td>0.911251</td>\n",
              "      <td>00:00</td>\n",
              "    </tr>\n",
              "    <tr>\n",
              "      <td>19</td>\n",
              "      <td>0.413024</td>\n",
              "      <td>0.348976</td>\n",
              "      <td>0.860000</td>\n",
              "      <td>0.911894</td>\n",
              "      <td>00:00</td>\n",
              "    </tr>\n",
              "  </tbody>\n",
              "</table>"
            ],
            "text/plain": [
              "<IPython.core.display.HTML object>"
            ]
          },
          "metadata": {
            "tags": []
          }
        }
      ]
    },
    {
      "cell_type": "code",
      "metadata": {
        "id": "SA2QtD3k9CY8",
        "colab_type": "code",
        "outputId": "3e58e79f-290e-4c64-ff53-b017aac4f348",
        "colab": {
          "base_uri": "https://localhost:8080/",
          "height": 303
        }
      },
      "source": [
        "learn.unfreeze()\n",
        "learn.lr_find()\n",
        "learn.recorder.plot()"
      ],
      "execution_count": 0,
      "outputs": [
        {
          "output_type": "display_data",
          "data": {
            "text/html": [
              ""
            ],
            "text/plain": [
              "<IPython.core.display.HTML object>"
            ]
          },
          "metadata": {
            "tags": []
          }
        },
        {
          "output_type": "stream",
          "text": [
            "LR Finder is complete, type {learner_name}.recorder.plot() to see the graph.\n"
          ],
          "name": "stdout"
        },
        {
          "output_type": "display_data",
          "data": {
            "image/png": "[encoded data removed]",
            "text/plain": [
              "<Figure size 432x288 with 1 Axes>"
            ]
          },
          "metadata": {
            "tags": []
          }
        }
      ]
    },
    {
      "cell_type": "code",
      "metadata": {
        "id": "X7l_tNft9alF",
        "colab_type": "code",
        "outputId": "329cabae-fc85-4d4e-acce-492313dbdab3",
        "colab": {
          "base_uri": "https://localhost:8080/",
          "height": 648
        }
      },
      "source": [
        "learn.fit_one_cycle(20, 7e-7)"
      ],
      "execution_count": 0,
      "outputs": [
        {
          "output_type": "display_data",
          "data": {
            "text/html": [
              "<table border=\"1\" class=\"dataframe\">\n",
              "  <thead>\n",
              "    <tr style=\"text-align: left;\">\n",
              "      <th>epoch</th>\n",
              "      <th>train_loss</th>\n",
              "      <th>valid_loss</th>\n",
              "      <th>accuracy</th>\n",
              "      <th>AUROC</th>\n",
              "      <th>time</th>\n",
              "    </tr>\n",
              "  </thead>\n",
              "  <tbody>\n",
              "    <tr>\n",
              "      <td>0</td>\n",
              "      <td>0.384551</td>\n",
              "      <td>0.349994</td>\n",
              "      <td>0.860000</td>\n",
              "      <td>0.911572</td>\n",
              "      <td>00:00</td>\n",
              "    </tr>\n",
              "    <tr>\n",
              "      <td>1</td>\n",
              "      <td>0.384347</td>\n",
              "      <td>0.349908</td>\n",
              "      <td>0.855000</td>\n",
              "      <td>0.911572</td>\n",
              "      <td>00:00</td>\n",
              "    </tr>\n",
              "    <tr>\n",
              "      <td>2</td>\n",
              "      <td>0.386349</td>\n",
              "      <td>0.346653</td>\n",
              "      <td>0.855000</td>\n",
              "      <td>0.913074</td>\n",
              "      <td>00:00</td>\n",
              "    </tr>\n",
              "    <tr>\n",
              "      <td>3</td>\n",
              "      <td>0.389960</td>\n",
              "      <td>0.347762</td>\n",
              "      <td>0.855000</td>\n",
              "      <td>0.913932</td>\n",
              "      <td>00:00</td>\n",
              "    </tr>\n",
              "    <tr>\n",
              "      <td>4</td>\n",
              "      <td>0.390343</td>\n",
              "      <td>0.346141</td>\n",
              "      <td>0.855000</td>\n",
              "      <td>0.916291</td>\n",
              "      <td>00:00</td>\n",
              "    </tr>\n",
              "    <tr>\n",
              "      <td>5</td>\n",
              "      <td>0.390079</td>\n",
              "      <td>0.347694</td>\n",
              "      <td>0.855000</td>\n",
              "      <td>0.913181</td>\n",
              "      <td>00:00</td>\n",
              "    </tr>\n",
              "    <tr>\n",
              "      <td>6</td>\n",
              "      <td>0.392544</td>\n",
              "      <td>0.348835</td>\n",
              "      <td>0.855000</td>\n",
              "      <td>0.912323</td>\n",
              "      <td>00:00</td>\n",
              "    </tr>\n",
              "    <tr>\n",
              "      <td>7</td>\n",
              "      <td>0.393986</td>\n",
              "      <td>0.347947</td>\n",
              "      <td>0.860000</td>\n",
              "      <td>0.911358</td>\n",
              "      <td>00:00</td>\n",
              "    </tr>\n",
              "    <tr>\n",
              "      <td>8</td>\n",
              "      <td>0.393386</td>\n",
              "      <td>0.346993</td>\n",
              "      <td>0.855000</td>\n",
              "      <td>0.913503</td>\n",
              "      <td>00:00</td>\n",
              "    </tr>\n",
              "    <tr>\n",
              "      <td>9</td>\n",
              "      <td>0.394964</td>\n",
              "      <td>0.345964</td>\n",
              "      <td>0.850000</td>\n",
              "      <td>0.913396</td>\n",
              "      <td>00:00</td>\n",
              "    </tr>\n",
              "    <tr>\n",
              "      <td>10</td>\n",
              "      <td>0.397771</td>\n",
              "      <td>0.347601</td>\n",
              "      <td>0.860000</td>\n",
              "      <td>0.911251</td>\n",
              "      <td>00:00</td>\n",
              "    </tr>\n",
              "    <tr>\n",
              "      <td>11</td>\n",
              "      <td>0.400036</td>\n",
              "      <td>0.349100</td>\n",
              "      <td>0.855000</td>\n",
              "      <td>0.912216</td>\n",
              "      <td>00:00</td>\n",
              "    </tr>\n",
              "    <tr>\n",
              "      <td>12</td>\n",
              "      <td>0.395935</td>\n",
              "      <td>0.349247</td>\n",
              "      <td>0.855000</td>\n",
              "      <td>0.910822</td>\n",
              "      <td>00:00</td>\n",
              "    </tr>\n",
              "    <tr>\n",
              "      <td>13</td>\n",
              "      <td>0.397206</td>\n",
              "      <td>0.350319</td>\n",
              "      <td>0.860000</td>\n",
              "      <td>0.910714</td>\n",
              "      <td>00:00</td>\n",
              "    </tr>\n",
              "    <tr>\n",
              "      <td>14</td>\n",
              "      <td>0.397418</td>\n",
              "      <td>0.351199</td>\n",
              "      <td>0.860000</td>\n",
              "      <td>0.910714</td>\n",
              "      <td>00:00</td>\n",
              "    </tr>\n",
              "    <tr>\n",
              "      <td>15</td>\n",
              "      <td>0.396449</td>\n",
              "      <td>0.352374</td>\n",
              "      <td>0.855000</td>\n",
              "      <td>0.909213</td>\n",
              "      <td>00:00</td>\n",
              "    </tr>\n",
              "    <tr>\n",
              "      <td>16</td>\n",
              "      <td>0.396880</td>\n",
              "      <td>0.347277</td>\n",
              "      <td>0.855000</td>\n",
              "      <td>0.912430</td>\n",
              "      <td>00:00</td>\n",
              "    </tr>\n",
              "    <tr>\n",
              "      <td>17</td>\n",
              "      <td>0.394114</td>\n",
              "      <td>0.347214</td>\n",
              "      <td>0.860000</td>\n",
              "      <td>0.911465</td>\n",
              "      <td>00:00</td>\n",
              "    </tr>\n",
              "    <tr>\n",
              "      <td>18</td>\n",
              "      <td>0.394951</td>\n",
              "      <td>0.346431</td>\n",
              "      <td>0.855000</td>\n",
              "      <td>0.913717</td>\n",
              "      <td>00:00</td>\n",
              "    </tr>\n",
              "    <tr>\n",
              "      <td>19</td>\n",
              "      <td>0.394417</td>\n",
              "      <td>0.346110</td>\n",
              "      <td>0.855000</td>\n",
              "      <td>0.915862</td>\n",
              "      <td>00:00</td>\n",
              "    </tr>\n",
              "  </tbody>\n",
              "</table>"
            ],
            "text/plain": [
              "<IPython.core.display.HTML object>"
            ]
          },
          "metadata": {
            "tags": []
          }
        }
      ]
    },
    {
      "cell_type": "code",
      "metadata": {
        "id": "_TXTcw3y9m-a",
        "colab_type": "code",
        "outputId": "2f805f24-b377-49a1-efe0-a6e69f6ece8e",
        "colab": {
          "base_uri": "https://localhost:8080/",
          "height": 302
        }
      },
      "source": [
        "learn.unfreeze()\n",
        "learn.lr_find()\n",
        "learn.recorder.plot()"
      ],
      "execution_count": 0,
      "outputs": [
        {
          "output_type": "display_data",
          "data": {
            "text/html": [
              ""
            ],
            "text/plain": [
              "<IPython.core.display.HTML object>"
            ]
          },
          "metadata": {
            "tags": []
          }
        },
        {
          "output_type": "stream",
          "text": [
            "LR Finder is complete, type {learner_name}.recorder.plot() to see the graph.\n"
          ],
          "name": "stdout"
        },
        {
          "output_type": "display_data",
          "data": {
            "image/png": "[encoded data removed]",
            "text/plain": [
              "<Figure size 432x288 with 1 Axes>"
            ]
          },
          "metadata": {
            "tags": []
          }
        }
      ]
    },
    {
      "cell_type": "code",
      "metadata": {
        "id": "bTbF_OA0DXca",
        "colab_type": "code",
        "outputId": "8122781e-0bf4-48b6-e2b2-a91ffd1e26ce",
        "colab": {
          "base_uri": "https://localhost:8080/",
          "height": 948
        }
      },
      "source": [
        "learn.fit_one_cycle(30, 1e-5)"
      ],
      "execution_count": 0,
      "outputs": [
        {
          "output_type": "display_data",
          "data": {
            "text/html": [
              "<table border=\"1\" class=\"dataframe\">\n",
              "  <thead>\n",
              "    <tr style=\"text-align: left;\">\n",
              "      <th>epoch</th>\n",
              "      <th>train_loss</th>\n",
              "      <th>valid_loss</th>\n",
              "      <th>accuracy</th>\n",
              "      <th>AUROC</th>\n",
              "      <th>time</th>\n",
              "    </tr>\n",
              "  </thead>\n",
              "  <tbody>\n",
              "    <tr>\n",
              "      <td>0</td>\n",
              "      <td>0.333925</td>\n",
              "      <td>0.333811</td>\n",
              "      <td>0.865000</td>\n",
              "      <td>0.928411</td>\n",
              "      <td>00:00</td>\n",
              "    </tr>\n",
              "    <tr>\n",
              "      <td>1</td>\n",
              "      <td>0.346213</td>\n",
              "      <td>0.334379</td>\n",
              "      <td>0.860000</td>\n",
              "      <td>0.927660</td>\n",
              "      <td>00:00</td>\n",
              "    </tr>\n",
              "    <tr>\n",
              "      <td>2</td>\n",
              "      <td>0.340787</td>\n",
              "      <td>0.333930</td>\n",
              "      <td>0.865000</td>\n",
              "      <td>0.930019</td>\n",
              "      <td>00:00</td>\n",
              "    </tr>\n",
              "    <tr>\n",
              "      <td>3</td>\n",
              "      <td>0.347733</td>\n",
              "      <td>0.334809</td>\n",
              "      <td>0.860000</td>\n",
              "      <td>0.929161</td>\n",
              "      <td>00:00</td>\n",
              "    </tr>\n",
              "    <tr>\n",
              "      <td>4</td>\n",
              "      <td>0.343988</td>\n",
              "      <td>0.335750</td>\n",
              "      <td>0.860000</td>\n",
              "      <td>0.928625</td>\n",
              "      <td>00:00</td>\n",
              "    </tr>\n",
              "    <tr>\n",
              "      <td>5</td>\n",
              "      <td>0.342053</td>\n",
              "      <td>0.337492</td>\n",
              "      <td>0.865000</td>\n",
              "      <td>0.926695</td>\n",
              "      <td>00:00</td>\n",
              "    </tr>\n",
              "    <tr>\n",
              "      <td>6</td>\n",
              "      <td>0.344551</td>\n",
              "      <td>0.334813</td>\n",
              "      <td>0.865000</td>\n",
              "      <td>0.928840</td>\n",
              "      <td>00:00</td>\n",
              "    </tr>\n",
              "    <tr>\n",
              "      <td>7</td>\n",
              "      <td>0.341404</td>\n",
              "      <td>0.334709</td>\n",
              "      <td>0.860000</td>\n",
              "      <td>0.929912</td>\n",
              "      <td>00:00</td>\n",
              "    </tr>\n",
              "    <tr>\n",
              "      <td>8</td>\n",
              "      <td>0.339388</td>\n",
              "      <td>0.333632</td>\n",
              "      <td>0.865000</td>\n",
              "      <td>0.928840</td>\n",
              "      <td>00:00</td>\n",
              "    </tr>\n",
              "    <tr>\n",
              "      <td>9</td>\n",
              "      <td>0.335235</td>\n",
              "      <td>0.334646</td>\n",
              "      <td>0.865000</td>\n",
              "      <td>0.927874</td>\n",
              "      <td>00:00</td>\n",
              "    </tr>\n",
              "    <tr>\n",
              "      <td>10</td>\n",
              "      <td>0.337801</td>\n",
              "      <td>0.338060</td>\n",
              "      <td>0.860000</td>\n",
              "      <td>0.926587</td>\n",
              "      <td>00:00</td>\n",
              "    </tr>\n",
              "    <tr>\n",
              "      <td>11</td>\n",
              "      <td>0.338585</td>\n",
              "      <td>0.334772</td>\n",
              "      <td>0.865000</td>\n",
              "      <td>0.928089</td>\n",
              "      <td>00:00</td>\n",
              "    </tr>\n",
              "    <tr>\n",
              "      <td>12</td>\n",
              "      <td>0.341649</td>\n",
              "      <td>0.337138</td>\n",
              "      <td>0.865000</td>\n",
              "      <td>0.928732</td>\n",
              "      <td>00:00</td>\n",
              "    </tr>\n",
              "    <tr>\n",
              "      <td>13</td>\n",
              "      <td>0.344090</td>\n",
              "      <td>0.340087</td>\n",
              "      <td>0.865000</td>\n",
              "      <td>0.925837</td>\n",
              "      <td>00:00</td>\n",
              "    </tr>\n",
              "    <tr>\n",
              "      <td>14</td>\n",
              "      <td>0.342623</td>\n",
              "      <td>0.337449</td>\n",
              "      <td>0.860000</td>\n",
              "      <td>0.926587</td>\n",
              "      <td>00:00</td>\n",
              "    </tr>\n",
              "    <tr>\n",
              "      <td>15</td>\n",
              "      <td>0.344058</td>\n",
              "      <td>0.332947</td>\n",
              "      <td>0.865000</td>\n",
              "      <td>0.929376</td>\n",
              "      <td>00:00</td>\n",
              "    </tr>\n",
              "    <tr>\n",
              "      <td>16</td>\n",
              "      <td>0.345310</td>\n",
              "      <td>0.333916</td>\n",
              "      <td>0.860000</td>\n",
              "      <td>0.928089</td>\n",
              "      <td>00:00</td>\n",
              "    </tr>\n",
              "    <tr>\n",
              "      <td>17</td>\n",
              "      <td>0.346165</td>\n",
              "      <td>0.330979</td>\n",
              "      <td>0.860000</td>\n",
              "      <td>0.931092</td>\n",
              "      <td>00:00</td>\n",
              "    </tr>\n",
              "    <tr>\n",
              "      <td>18</td>\n",
              "      <td>0.343174</td>\n",
              "      <td>0.337770</td>\n",
              "      <td>0.865000</td>\n",
              "      <td>0.928196</td>\n",
              "      <td>00:00</td>\n",
              "    </tr>\n",
              "    <tr>\n",
              "      <td>19</td>\n",
              "      <td>0.343286</td>\n",
              "      <td>0.334211</td>\n",
              "      <td>0.865000</td>\n",
              "      <td>0.929483</td>\n",
              "      <td>00:00</td>\n",
              "    </tr>\n",
              "    <tr>\n",
              "      <td>20</td>\n",
              "      <td>0.344547</td>\n",
              "      <td>0.331480</td>\n",
              "      <td>0.860000</td>\n",
              "      <td>0.929161</td>\n",
              "      <td>00:00</td>\n",
              "    </tr>\n",
              "    <tr>\n",
              "      <td>21</td>\n",
              "      <td>0.347144</td>\n",
              "      <td>0.333198</td>\n",
              "      <td>0.865000</td>\n",
              "      <td>0.929161</td>\n",
              "      <td>00:00</td>\n",
              "    </tr>\n",
              "    <tr>\n",
              "      <td>22</td>\n",
              "      <td>0.347510</td>\n",
              "      <td>0.335103</td>\n",
              "      <td>0.865000</td>\n",
              "      <td>0.929698</td>\n",
              "      <td>00:00</td>\n",
              "    </tr>\n",
              "    <tr>\n",
              "      <td>23</td>\n",
              "      <td>0.346003</td>\n",
              "      <td>0.334106</td>\n",
              "      <td>0.865000</td>\n",
              "      <td>0.929161</td>\n",
              "      <td>00:00</td>\n",
              "    </tr>\n",
              "    <tr>\n",
              "      <td>24</td>\n",
              "      <td>0.346212</td>\n",
              "      <td>0.332866</td>\n",
              "      <td>0.865000</td>\n",
              "      <td>0.930019</td>\n",
              "      <td>00:00</td>\n",
              "    </tr>\n",
              "    <tr>\n",
              "      <td>25</td>\n",
              "      <td>0.344887</td>\n",
              "      <td>0.334879</td>\n",
              "      <td>0.865000</td>\n",
              "      <td>0.928840</td>\n",
              "      <td>00:00</td>\n",
              "    </tr>\n",
              "    <tr>\n",
              "      <td>26</td>\n",
              "      <td>0.344741</td>\n",
              "      <td>0.337705</td>\n",
              "      <td>0.860000</td>\n",
              "      <td>0.927767</td>\n",
              "      <td>00:00</td>\n",
              "    </tr>\n",
              "    <tr>\n",
              "      <td>27</td>\n",
              "      <td>0.345333</td>\n",
              "      <td>0.335089</td>\n",
              "      <td>0.865000</td>\n",
              "      <td>0.929698</td>\n",
              "      <td>00:00</td>\n",
              "    </tr>\n",
              "    <tr>\n",
              "      <td>28</td>\n",
              "      <td>0.340759</td>\n",
              "      <td>0.335172</td>\n",
              "      <td>0.865000</td>\n",
              "      <td>0.929054</td>\n",
              "      <td>00:00</td>\n",
              "    </tr>\n",
              "    <tr>\n",
              "      <td>29</td>\n",
              "      <td>0.342408</td>\n",
              "      <td>0.335328</td>\n",
              "      <td>0.865000</td>\n",
              "      <td>0.929161</td>\n",
              "      <td>00:00</td>\n",
              "    </tr>\n",
              "  </tbody>\n",
              "</table>"
            ],
            "text/plain": [
              "<IPython.core.display.HTML object>"
            ]
          },
          "metadata": {
            "tags": []
          }
        }
      ]
    },
    {
      "cell_type": "code",
      "metadata": {
        "id": "-P4aCXAqoHm6",
        "colab_type": "code",
        "colab": {}
      },
      "source": [
        "learn.save('stage-3_titanic')"
      ],
      "execution_count": 0,
      "outputs": []
    },
    {
      "cell_type": "code",
      "metadata": {
        "id": "6nyxf6tYrNsE",
        "colab_type": "code",
        "colab": {}
      },
      "source": [
        "learn.load(\"stage-3_titanic\")\n",
        "\n",
        "learn.validate()"
      ],
      "execution_count": 0,
      "outputs": []
    },
    {
      "cell_type": "code",
      "metadata": {
        "id": "VxnuaHm0rXZZ",
        "colab_type": "code",
        "outputId": "105bf880-fbd7-4723-b661-fe2cc983def4",
        "colab": {
          "base_uri": "https://localhost:8080/",
          "height": 35
        }
      },
      "source": [
        "predictions, *_ = learn.get_preds(DatasetType.Test)\n",
        "labels = np.argmax(predictions, 1)"
      ],
      "execution_count": 0,
      "outputs": [
        {
          "output_type": "execute_result",
          "data": {
            "text/plain": [
              "array([0, 1, 2, 3, ..., 709, 710, 711, 712], dtype=object)"
            ]
          },
          "metadata": {
            "tags": []
          },
          "execution_count": 28
        }
      ]
    },
    {
      "cell_type": "code",
      "metadata": {
        "id": "30y0mbHVjGTh",
        "colab_type": "code",
        "colab": {}
      },
      "source": [
        "labels"
      ],
      "execution_count": 0,
      "outputs": []
    },
    {
      "cell_type": "code",
      "metadata": {
        "id": "WFvvu-ckjK3_",
        "colab_type": "code",
        "outputId": "13d4ab2d-d0dd-4562-b235-819894ddf121",
        "colab": {
          "base_uri": "https://localhost:8080/",
          "height": 35
        }
      },
      "source": [
        "res_df = pd.DataFrame({'PassengerId': df_test['PassengerId'], 'Survived': labels})\n",
        "res_df.to_csv('titanic_submission.csv', index=False)"
      ],
      "execution_count": 0,
      "outputs": [
        {
          "output_type": "execute_result",
          "data": {
            "text/plain": [
              "(Category 0, tensor(0), tensor([0.8324, 0.1676]))"
            ]
          },
          "metadata": {
            "tags": []
          },
          "execution_count": 31
        }
      ]
    },
    {
      "cell_type": "markdown",
      "metadata": {
        "id": "pt0Uq0wWg_HV",
        "colab_type": "text"
      },
      "source": [
        "\n",
        "\n",
        "```\n",
        "# This is formatted as code\n",
        "```\n",
        "\n",
        "###Data Cleaning / Feature Engineering"
      ]
    },
    {
      "cell_type": "code",
      "metadata": {
        "id": "vrhALPxB0kwE",
        "colab_type": "code",
        "outputId": "0ae82c5a-80ad-428a-a089-3f6d84edf442",
        "colab": {
          "base_uri": "https://localhost:8080/",
          "height": 35
        }
      },
      "source": [
        "len(df),len(df_test)"
      ],
      "execution_count": 0,
      "outputs": [
        {
          "output_type": "execute_result",
          "data": {
            "text/plain": [
              "(891, 418)"
            ]
          },
          "metadata": {
            "tags": []
          },
          "execution_count": 32
        }
      ]
    },
    {
      "cell_type": "code",
      "metadata": {
        "id": "FS097bWJ0zyB",
        "colab_type": "code",
        "outputId": "e618be43-ec24-42c2-91c4-a62de370f280",
        "colab": {
          "base_uri": "https://localhost:8080/",
          "height": 495
        }
      },
      "source": [
        "df.head()"
      ],
      "execution_count": 0,
      "outputs": [
        {
          "output_type": "execute_result",
          "data": {
            "text/html": [
              "<div>\n",
              "<style scoped>\n",
              "    .dataframe tbody tr th:only-of-type {\n",
              "        vertical-align: middle;\n",
              "    }\n",
              "\n",
              "    .dataframe tbody tr th {\n",
              "        vertical-align: top;\n",
              "    }\n",
              "\n",
              "    .dataframe thead th {\n",
              "        text-align: right;\n",
              "    }\n",
              "</style>\n",
              "<table border=\"1\" class=\"dataframe\">\n",
              "  <thead>\n",
              "    <tr style=\"text-align: right;\">\n",
              "      <th></th>\n",
              "      <th>PassengerId</th>\n",
              "      <th>Survived</th>\n",
              "      <th>Pclass</th>\n",
              "      <th>Name</th>\n",
              "      <th>Sex</th>\n",
              "      <th>Age</th>\n",
              "      <th>SibSp</th>\n",
              "      <th>Parch</th>\n",
              "      <th>Ticket</th>\n",
              "      <th>Fare</th>\n",
              "      <th>Cabin</th>\n",
              "      <th>Embarked</th>\n",
              "    </tr>\n",
              "  </thead>\n",
              "  <tbody>\n",
              "    <tr>\n",
              "      <th>0</th>\n",
              "      <td>1</td>\n",
              "      <td>0</td>\n",
              "      <td>3</td>\n",
              "      <td>Braund, Mr. Owen Harris</td>\n",
              "      <td>male</td>\n",
              "      <td>22.0</td>\n",
              "      <td>1</td>\n",
              "      <td>0</td>\n",
              "      <td>A/5 21171</td>\n",
              "      <td>7.2500</td>\n",
              "      <td>NaN</td>\n",
              "      <td>S</td>\n",
              "    </tr>\n",
              "    <tr>\n",
              "      <th>1</th>\n",
              "      <td>2</td>\n",
              "      <td>1</td>\n",
              "      <td>1</td>\n",
              "      <td>Cumings, Mrs. John Bradley (Florence Briggs Th...</td>\n",
              "      <td>female</td>\n",
              "      <td>38.0</td>\n",
              "      <td>1</td>\n",
              "      <td>0</td>\n",
              "      <td>PC 17599</td>\n",
              "      <td>71.2833</td>\n",
              "      <td>C85</td>\n",
              "      <td>C</td>\n",
              "    </tr>\n",
              "    <tr>\n",
              "      <th>2</th>\n",
              "      <td>3</td>\n",
              "      <td>1</td>\n",
              "      <td>3</td>\n",
              "      <td>Heikkinen, Miss. Laina</td>\n",
              "      <td>female</td>\n",
              "      <td>26.0</td>\n",
              "      <td>0</td>\n",
              "      <td>0</td>\n",
              "      <td>STON/O2. 3101282</td>\n",
              "      <td>7.9250</td>\n",
              "      <td>NaN</td>\n",
              "      <td>S</td>\n",
              "    </tr>\n",
              "    <tr>\n",
              "      <th>3</th>\n",
              "      <td>4</td>\n",
              "      <td>1</td>\n",
              "      <td>1</td>\n",
              "      <td>Futrelle, Mrs. Jacques Heath (Lily May Peel)</td>\n",
              "      <td>female</td>\n",
              "      <td>35.0</td>\n",
              "      <td>1</td>\n",
              "      <td>0</td>\n",
              "      <td>113803</td>\n",
              "      <td>53.1000</td>\n",
              "      <td>C123</td>\n",
              "      <td>S</td>\n",
              "    </tr>\n",
              "    <tr>\n",
              "      <th>4</th>\n",
              "      <td>5</td>\n",
              "      <td>0</td>\n",
              "      <td>3</td>\n",
              "      <td>Allen, Mr. William Henry</td>\n",
              "      <td>male</td>\n",
              "      <td>35.0</td>\n",
              "      <td>0</td>\n",
              "      <td>0</td>\n",
              "      <td>373450</td>\n",
              "      <td>8.0500</td>\n",
              "      <td>NaN</td>\n",
              "      <td>S</td>\n",
              "    </tr>\n",
              "  </tbody>\n",
              "</table>\n",
              "</div>"
            ],
            "text/plain": [
              "   PassengerId  Survived  Pclass  \\\n",
              "0            1         0       3   \n",
              "1            2         1       1   \n",
              "2            3         1       3   \n",
              "3            4         1       1   \n",
              "4            5         0       3   \n",
              "\n",
              "                                                Name     Sex   Age  SibSp  \\\n",
              "0                            Braund, Mr. Owen Harris    male  22.0      1   \n",
              "1  Cumings, Mrs. John Bradley (Florence Briggs Th...  female  38.0      1   \n",
              "2                             Heikkinen, Miss. Laina  female  26.0      0   \n",
              "3       Futrelle, Mrs. Jacques Heath (Lily May Peel)  female  35.0      1   \n",
              "4                           Allen, Mr. William Henry    male  35.0      0   \n",
              "\n",
              "   Parch            Ticket     Fare Cabin Embarked  \n",
              "0      0         A/5 21171   7.2500   NaN        S  \n",
              "1      0          PC 17599  71.2833   C85        C  \n",
              "2      0  STON/O2. 3101282   7.9250   NaN        S  \n",
              "3      0            113803  53.1000  C123        S  \n",
              "4      0            373450   8.0500   NaN        S  "
            ]
          },
          "metadata": {
            "tags": []
          },
          "execution_count": 39
        }
      ]
    },
    {
      "cell_type": "code",
      "metadata": {
        "id": "_MxUGU2P1LQe",
        "colab_type": "code",
        "outputId": "9f7e8ca8-98b8-4ee1-9bdb-cb3677a57c72",
        "colab": {
          "base_uri": "https://localhost:8080/",
          "height": 495
        }
      },
      "source": [
        "for df in (train,test):\n",
        "    df['Age'] = df.Age.fillna(0).astype(np.int32)\n",
        "    df[\"Name_mod\"] = df[\"Name\"].str.replace('[^\\w\\s]','')\n",
        "    df[\"Ticket_mod\"] = df[\"Ticket\"].str.replace('[^\\w\\s]','')\n",
        "    df[\"Name_mod\"] = df[\"Name_mod\"].str.upper()\n",
        "    df[\"Ticket_mod\"] = df[\"Ticket_mod\"].str.upper()\n",
        "    df[\"Ticket_mod\"]=df[\"Ticket_mod\"].str.upper()\n",
        "train.head()"
      ],
      "execution_count": 0,
      "outputs": [
        {
          "output_type": "execute_result",
          "data": {
            "text/html": [
              "<div>\n",
              "<style scoped>\n",
              "    .dataframe tbody tr th:only-of-type {\n",
              "        vertical-align: middle;\n",
              "    }\n",
              "\n",
              "    .dataframe tbody tr th {\n",
              "        vertical-align: top;\n",
              "    }\n",
              "\n",
              "    .dataframe thead th {\n",
              "        text-align: right;\n",
              "    }\n",
              "</style>\n",
              "<table border=\"1\" class=\"dataframe\">\n",
              "  <thead>\n",
              "    <tr style=\"text-align: right;\">\n",
              "      <th></th>\n",
              "      <th>PassengerId</th>\n",
              "      <th>Survived</th>\n",
              "      <th>Pclass</th>\n",
              "      <th>Name</th>\n",
              "      <th>Sex</th>\n",
              "      <th>Age</th>\n",
              "      <th>SibSp</th>\n",
              "      <th>Parch</th>\n",
              "      <th>Ticket</th>\n",
              "      <th>Fare</th>\n",
              "      <th>Cabin</th>\n",
              "      <th>Embarked</th>\n",
              "      <th>Name_mod</th>\n",
              "      <th>Ticket_mod</th>\n",
              "    </tr>\n",
              "  </thead>\n",
              "  <tbody>\n",
              "    <tr>\n",
              "      <th>0</th>\n",
              "      <td>1</td>\n",
              "      <td>0</td>\n",
              "      <td>3</td>\n",
              "      <td>Braund, Mr. Owen Harris</td>\n",
              "      <td>male</td>\n",
              "      <td>22</td>\n",
              "      <td>1</td>\n",
              "      <td>0</td>\n",
              "      <td>A/5 21171</td>\n",
              "      <td>7.2500</td>\n",
              "      <td>NaN</td>\n",
              "      <td>S</td>\n",
              "      <td>BRAUND MR OWEN HARRIS</td>\n",
              "      <td>A5 21171</td>\n",
              "    </tr>\n",
              "    <tr>\n",
              "      <th>1</th>\n",
              "      <td>2</td>\n",
              "      <td>1</td>\n",
              "      <td>1</td>\n",
              "      <td>Cumings, Mrs. John Bradley (Florence Briggs Th...</td>\n",
              "      <td>female</td>\n",
              "      <td>38</td>\n",
              "      <td>1</td>\n",
              "      <td>0</td>\n",
              "      <td>PC 17599</td>\n",
              "      <td>71.2833</td>\n",
              "      <td>C85</td>\n",
              "      <td>C</td>\n",
              "      <td>CUMINGS MRS JOHN BRADLEY FLORENCE BRIGGS THAYER</td>\n",
              "      <td>PC 17599</td>\n",
              "    </tr>\n",
              "    <tr>\n",
              "      <th>2</th>\n",
              "      <td>3</td>\n",
              "      <td>1</td>\n",
              "      <td>3</td>\n",
              "      <td>Heikkinen, Miss. Laina</td>\n",
              "      <td>female</td>\n",
              "      <td>26</td>\n",
              "      <td>0</td>\n",
              "      <td>0</td>\n",
              "      <td>STON/O2. 3101282</td>\n",
              "      <td>7.9250</td>\n",
              "      <td>NaN</td>\n",
              "      <td>S</td>\n",
              "      <td>HEIKKINEN MISS LAINA</td>\n",
              "      <td>STONO2 3101282</td>\n",
              "    </tr>\n",
              "    <tr>\n",
              "      <th>3</th>\n",
              "      <td>4</td>\n",
              "      <td>1</td>\n",
              "      <td>1</td>\n",
              "      <td>Futrelle, Mrs. Jacques Heath (Lily May Peel)</td>\n",
              "      <td>female</td>\n",
              "      <td>35</td>\n",
              "      <td>1</td>\n",
              "      <td>0</td>\n",
              "      <td>113803</td>\n",
              "      <td>53.1000</td>\n",
              "      <td>C123</td>\n",
              "      <td>S</td>\n",
              "      <td>FUTRELLE MRS JACQUES HEATH LILY MAY PEEL</td>\n",
              "      <td>113803</td>\n",
              "    </tr>\n",
              "    <tr>\n",
              "      <th>4</th>\n",
              "      <td>5</td>\n",
              "      <td>0</td>\n",
              "      <td>3</td>\n",
              "      <td>Allen, Mr. William Henry</td>\n",
              "      <td>male</td>\n",
              "      <td>35</td>\n",
              "      <td>0</td>\n",
              "      <td>0</td>\n",
              "      <td>373450</td>\n",
              "      <td>8.0500</td>\n",
              "      <td>NaN</td>\n",
              "      <td>S</td>\n",
              "      <td>ALLEN MR WILLIAM HENRY</td>\n",
              "      <td>373450</td>\n",
              "    </tr>\n",
              "  </tbody>\n",
              "</table>\n",
              "</div>"
            ],
            "text/plain": [
              "   PassengerId  Survived  Pclass  \\\n",
              "0            1         0       3   \n",
              "1            2         1       1   \n",
              "2            3         1       3   \n",
              "3            4         1       1   \n",
              "4            5         0       3   \n",
              "\n",
              "                                                Name     Sex  Age  SibSp  \\\n",
              "0                            Braund, Mr. Owen Harris    male   22      1   \n",
              "1  Cumings, Mrs. John Bradley (Florence Briggs Th...  female   38      1   \n",
              "2                             Heikkinen, Miss. Laina  female   26      0   \n",
              "3       Futrelle, Mrs. Jacques Heath (Lily May Peel)  female   35      1   \n",
              "4                           Allen, Mr. William Henry    male   35      0   \n",
              "\n",
              "   Parch            Ticket     Fare Cabin Embarked  \\\n",
              "0      0         A/5 21171   7.2500   NaN        S   \n",
              "1      0          PC 17599  71.2833   C85        C   \n",
              "2      0  STON/O2. 3101282   7.9250   NaN        S   \n",
              "3      0            113803  53.1000  C123        S   \n",
              "4      0            373450   8.0500   NaN        S   \n",
              "\n",
              "                                          Name_mod      Ticket_mod  \n",
              "0                            BRAUND MR OWEN HARRIS        A5 21171  \n",
              "1  CUMINGS MRS JOHN BRADLEY FLORENCE BRIGGS THAYER        PC 17599  \n",
              "2                             HEIKKINEN MISS LAINA  STONO2 3101282  \n",
              "3         FUTRELLE MRS JACQUES HEATH LILY MAY PEEL          113803  \n",
              "4                           ALLEN MR WILLIAM HENRY          373450  "
            ]
          },
          "metadata": {
            "tags": []
          },
          "execution_count": 43
        }
      ]
    },
    {
      "cell_type": "code",
      "metadata": {
        "id": "OEgCVnAZg_HX",
        "colab_type": "code",
        "colab": {}
      },
      "source": [
        "def returnSelectedWord(in_str,selected_words):\n",
        "\ta=in_str.split()\n",
        "\tout = \"\"\n",
        "\tif any(i in a for i in selected_words):\n",
        "\t\tout = list(set(a) & set(selected_words))[0]\n",
        "\treturn out\n",
        "\t\n",
        "selected_words = ['MR','MISS','MRS','MASTER','MS','DR'] \n",
        "for df in (train,test):\n",
        "    df[\"Title\"]=df[\"Name_mod\"].apply( lambda x: returnSelectedWord( x,selected_words) )\n"
      ],
      "execution_count": 0,
      "outputs": []
    },
    {
      "cell_type": "code",
      "metadata": {
        "id": "uCr3fe1vg_H-",
        "colab_type": "code",
        "colab": {}
      },
      "source": [
        "import re\n",
        "\n",
        "def returnAlpha(text):\n",
        "    match = re.search(r'\\(?([A-Z]+)\\)?', text)\n",
        "    if match is None:\n",
        "        return ''\n",
        "    else:\n",
        "        return match.group(1)\n",
        "def returnNumeric(text):\n",
        "    tmp = text.split()\n",
        "    text2 =tmp[tmp.__len__()-1]\n",
        "    match = re.search(r'\\(?([0-9]+)\\)?', text2)\n",
        "    if match is None:\n",
        "        return ''\n",
        "    else:\n",
        "        return match.group(1)\n",
        "for df in (train,test):\n",
        "    df[\"Ticket_Alpha_shrt\"]=df[\"Ticket_mod\"].apply( lambda x: returnAlpha(x)[:2] )\n",
        "    df[\"Ticket_Numeric_shrt\"]=df[\"Ticket_mod\"].apply( lambda x: returnNumeric(x)[:2] )\n",
        "    df[\"Ticket_Numeric_len\"]=df[\"Ticket_mod\"].apply( lambda x: len(returnNumeric(x)) )"
      ],
      "execution_count": 0,
      "outputs": []
    },
    {
      "cell_type": "code",
      "metadata": {
        "id": "tZnhZl6hg_IE",
        "colab_type": "code",
        "colab": {}
      },
      "source": [
        "for df in (train,test):\n",
        "    df[\"Fare\"]=df[\"Fare\"]+.0001\n",
        "train.Survived = train.Survived.astype(int)"
      ],
      "execution_count": 0,
      "outputs": []
    },
    {
      "cell_type": "code",
      "metadata": {
        "id": "33tpPbFxg_IO",
        "colab_type": "code",
        "outputId": "800007ad-cede-459e-d10b-ad7bca66b569",
        "colab": {
          "base_uri": "https://localhost:8080/",
          "height": 218
        }
      },
      "source": [
        "for df in (train,test):\n",
        "    df[\"Cabin_cnt\"]=df[\"Cabin\"].apply(lambda x: '' if pd.isnull(x) else len(x.split()) )\n",
        "    df[\"Cabin_mod\"]=df[\"Cabin\"].apply(lambda x: '' if pd.isnull(x) else returnAlpha(x)[:2] )\n",
        "    df[\"Cabin_num\"]=df[\"Cabin\"].apply(lambda x: '' if pd.isnull(x) else returnNumeric(x))\n",
        "    df[\"Cabin_num_sm\"] = df.Cabin_num.apply(lambda x: -1 if x=='' else str(int(int(x)/10)))\n",
        "    df[\"Name_cnt\"] = df[\"Name_mod\"].apply(lambda x: 0 if pd.isnull(x) else len(x.split()) )\n",
        "    df[\"Fare_log\"] = df[\"Fare\"].apply(lambda x: -10.0 if x==0 else math.log(x))\n",
        "\n",
        "train[[\"PassengerId\",\"Pclass\", \"Sex\",\"SibSp\",\"Parch\",\"Title\",\"Ticket_Alpha_shrt\",\"Ticket_Numeric_shrt\",\"Ticket_Numeric_len\",\"Cabin_cnt\",\"Cabin_mod\",\"Cabin_num_sm\",\"Name_cnt\",\"Embarked\",\"Fare\",\"Fare_log\",\"Age\",\"Survived\"]].head()"
      ],
      "execution_count": 0,
      "outputs": [
        {
          "output_type": "execute_result",
          "data": {
            "text/html": [
              "<div>\n",
              "<style scoped>\n",
              "    .dataframe tbody tr th:only-of-type {\n",
              "        vertical-align: middle;\n",
              "    }\n",
              "\n",
              "    .dataframe tbody tr th {\n",
              "        vertical-align: top;\n",
              "    }\n",
              "\n",
              "    .dataframe thead th {\n",
              "        text-align: right;\n",
              "    }\n",
              "</style>\n",
              "<table border=\"1\" class=\"dataframe\">\n",
              "  <thead>\n",
              "    <tr style=\"text-align: right;\">\n",
              "      <th></th>\n",
              "      <th>PassengerId</th>\n",
              "      <th>Pclass</th>\n",
              "      <th>Sex</th>\n",
              "      <th>SibSp</th>\n",
              "      <th>Parch</th>\n",
              "      <th>Title</th>\n",
              "      <th>Ticket_Alpha_shrt</th>\n",
              "      <th>Ticket_Numeric_shrt</th>\n",
              "      <th>Ticket_Numeric_len</th>\n",
              "      <th>Cabin_cnt</th>\n",
              "      <th>Cabin_mod</th>\n",
              "      <th>Cabin_num_sm</th>\n",
              "      <th>Name_cnt</th>\n",
              "      <th>Embarked</th>\n",
              "      <th>Fare</th>\n",
              "      <th>Fare_log</th>\n",
              "      <th>Age</th>\n",
              "      <th>Survived</th>\n",
              "    </tr>\n",
              "  </thead>\n",
              "  <tbody>\n",
              "    <tr>\n",
              "      <th>0</th>\n",
              "      <td>1</td>\n",
              "      <td>3</td>\n",
              "      <td>male</td>\n",
              "      <td>1</td>\n",
              "      <td>0</td>\n",
              "      <td>MR</td>\n",
              "      <td>A</td>\n",
              "      <td>21</td>\n",
              "      <td>5</td>\n",
              "      <td></td>\n",
              "      <td></td>\n",
              "      <td>-1</td>\n",
              "      <td>4</td>\n",
              "      <td>S</td>\n",
              "      <td>7.2501</td>\n",
              "      <td>1.981015</td>\n",
              "      <td>22</td>\n",
              "      <td>0</td>\n",
              "    </tr>\n",
              "    <tr>\n",
              "      <th>1</th>\n",
              "      <td>2</td>\n",
              "      <td>1</td>\n",
              "      <td>female</td>\n",
              "      <td>1</td>\n",
              "      <td>0</td>\n",
              "      <td>MRS</td>\n",
              "      <td>PC</td>\n",
              "      <td>17</td>\n",
              "      <td>5</td>\n",
              "      <td>1</td>\n",
              "      <td>C</td>\n",
              "      <td>8</td>\n",
              "      <td>7</td>\n",
              "      <td>C</td>\n",
              "      <td>71.2834</td>\n",
              "      <td>4.266663</td>\n",
              "      <td>38</td>\n",
              "      <td>1</td>\n",
              "    </tr>\n",
              "    <tr>\n",
              "      <th>2</th>\n",
              "      <td>3</td>\n",
              "      <td>3</td>\n",
              "      <td>female</td>\n",
              "      <td>0</td>\n",
              "      <td>0</td>\n",
              "      <td>MISS</td>\n",
              "      <td>ST</td>\n",
              "      <td>31</td>\n",
              "      <td>7</td>\n",
              "      <td></td>\n",
              "      <td></td>\n",
              "      <td>-1</td>\n",
              "      <td>3</td>\n",
              "      <td>S</td>\n",
              "      <td>7.9251</td>\n",
              "      <td>2.070035</td>\n",
              "      <td>26</td>\n",
              "      <td>1</td>\n",
              "    </tr>\n",
              "    <tr>\n",
              "      <th>3</th>\n",
              "      <td>4</td>\n",
              "      <td>1</td>\n",
              "      <td>female</td>\n",
              "      <td>1</td>\n",
              "      <td>0</td>\n",
              "      <td>MRS</td>\n",
              "      <td></td>\n",
              "      <td>11</td>\n",
              "      <td>6</td>\n",
              "      <td>1</td>\n",
              "      <td>C</td>\n",
              "      <td>12</td>\n",
              "      <td>7</td>\n",
              "      <td>S</td>\n",
              "      <td>53.1001</td>\n",
              "      <td>3.972179</td>\n",
              "      <td>35</td>\n",
              "      <td>1</td>\n",
              "    </tr>\n",
              "    <tr>\n",
              "      <th>4</th>\n",
              "      <td>5</td>\n",
              "      <td>3</td>\n",
              "      <td>male</td>\n",
              "      <td>0</td>\n",
              "      <td>0</td>\n",
              "      <td>MR</td>\n",
              "      <td></td>\n",
              "      <td>37</td>\n",
              "      <td>6</td>\n",
              "      <td></td>\n",
              "      <td></td>\n",
              "      <td>-1</td>\n",
              "      <td>4</td>\n",
              "      <td>S</td>\n",
              "      <td>8.0501</td>\n",
              "      <td>2.085685</td>\n",
              "      <td>35</td>\n",
              "      <td>0</td>\n",
              "    </tr>\n",
              "  </tbody>\n",
              "</table>\n",
              "</div>"
            ],
            "text/plain": [
              "   PassengerId  Pclass     Sex  SibSp  Parch Title Ticket_Alpha_shrt  \\\n",
              "0            1       3    male      1      0    MR                 A   \n",
              "1            2       1  female      1      0   MRS                PC   \n",
              "2            3       3  female      0      0  MISS                ST   \n",
              "3            4       1  female      1      0   MRS                     \n",
              "4            5       3    male      0      0    MR                     \n",
              "\n",
              "  Ticket_Numeric_shrt  Ticket_Numeric_len Cabin_cnt Cabin_mod Cabin_num_sm  \\\n",
              "0                  21                   5                               -1   \n",
              "1                  17                   5         1         C            8   \n",
              "2                  31                   7                               -1   \n",
              "3                  11                   6         1         C           12   \n",
              "4                  37                   6                               -1   \n",
              "\n",
              "   Name_cnt Embarked     Fare  Fare_log  Age  Survived  \n",
              "0         4        S   7.2501  1.981015   22         0  \n",
              "1         7        C  71.2834  4.266663   38         1  \n",
              "2         3        S   7.9251  2.070035   26         1  \n",
              "3         7        S  53.1001  3.972179   35         1  \n",
              "4         4        S   8.0501  2.085685   35         0  "
            ]
          },
          "metadata": {
            "tags": []
          },
          "execution_count": 48
        }
      ]
    },
    {
      "cell_type": "code",
      "metadata": {
        "id": "6EHSqG_Jg_IS",
        "colab_type": "code",
        "outputId": "0d26d85e-2409-434a-d033-28c65999fb3c",
        "colab": {
          "base_uri": "https://localhost:8080/",
          "height": 460
        }
      },
      "source": [
        "df.head().T.head(40)\n"
      ],
      "execution_count": 0,
      "outputs": [
        {
          "output_type": "execute_result",
          "data": {
            "text/html": [
              "<div>\n",
              "<style scoped>\n",
              "    .dataframe tbody tr th:only-of-type {\n",
              "        vertical-align: middle;\n",
              "    }\n",
              "\n",
              "    .dataframe tbody tr th {\n",
              "        vertical-align: top;\n",
              "    }\n",
              "\n",
              "    .dataframe thead th {\n",
              "        text-align: right;\n",
              "    }\n",
              "</style>\n",
              "<table border=\"1\" class=\"dataframe\">\n",
              "  <thead>\n",
              "    <tr style=\"text-align: right;\">\n",
              "      <th></th>\n",
              "      <th>0</th>\n",
              "      <th>1</th>\n",
              "      <th>2</th>\n",
              "      <th>3</th>\n",
              "      <th>4</th>\n",
              "    </tr>\n",
              "  </thead>\n",
              "  <tbody>\n",
              "    <tr>\n",
              "      <th>PassengerId</th>\n",
              "      <td>1</td>\n",
              "      <td>2</td>\n",
              "      <td>3</td>\n",
              "      <td>4</td>\n",
              "      <td>5</td>\n",
              "    </tr>\n",
              "    <tr>\n",
              "      <th>Survived</th>\n",
              "      <td>0</td>\n",
              "      <td>1</td>\n",
              "      <td>1</td>\n",
              "      <td>1</td>\n",
              "      <td>0</td>\n",
              "    </tr>\n",
              "    <tr>\n",
              "      <th>Pclass</th>\n",
              "      <td>3</td>\n",
              "      <td>1</td>\n",
              "      <td>3</td>\n",
              "      <td>1</td>\n",
              "      <td>3</td>\n",
              "    </tr>\n",
              "    <tr>\n",
              "      <th>Name</th>\n",
              "      <td>Braund, Mr. Owen Harris</td>\n",
              "      <td>Cumings, Mrs. John Bradley (Florence Briggs Th...</td>\n",
              "      <td>Heikkinen, Miss. Laina</td>\n",
              "      <td>Futrelle, Mrs. Jacques Heath (Lily May Peel)</td>\n",
              "      <td>Allen, Mr. William Henry</td>\n",
              "    </tr>\n",
              "    <tr>\n",
              "      <th>Sex</th>\n",
              "      <td>male</td>\n",
              "      <td>female</td>\n",
              "      <td>female</td>\n",
              "      <td>female</td>\n",
              "      <td>male</td>\n",
              "    </tr>\n",
              "    <tr>\n",
              "      <th>Age</th>\n",
              "      <td>22</td>\n",
              "      <td>38</td>\n",
              "      <td>26</td>\n",
              "      <td>35</td>\n",
              "      <td>35</td>\n",
              "    </tr>\n",
              "    <tr>\n",
              "      <th>SibSp</th>\n",
              "      <td>1</td>\n",
              "      <td>1</td>\n",
              "      <td>0</td>\n",
              "      <td>1</td>\n",
              "      <td>0</td>\n",
              "    </tr>\n",
              "    <tr>\n",
              "      <th>Parch</th>\n",
              "      <td>0</td>\n",
              "      <td>0</td>\n",
              "      <td>0</td>\n",
              "      <td>0</td>\n",
              "      <td>0</td>\n",
              "    </tr>\n",
              "    <tr>\n",
              "      <th>Ticket</th>\n",
              "      <td>A/5 21171</td>\n",
              "      <td>PC 17599</td>\n",
              "      <td>STON/O2. 3101282</td>\n",
              "      <td>113803</td>\n",
              "      <td>373450</td>\n",
              "    </tr>\n",
              "    <tr>\n",
              "      <th>Fare</th>\n",
              "      <td>7.25</td>\n",
              "      <td>71.2833</td>\n",
              "      <td>7.925</td>\n",
              "      <td>53.1</td>\n",
              "      <td>8.05</td>\n",
              "    </tr>\n",
              "    <tr>\n",
              "      <th>Cabin</th>\n",
              "      <td>NaN</td>\n",
              "      <td>C85</td>\n",
              "      <td>NaN</td>\n",
              "      <td>C123</td>\n",
              "      <td>NaN</td>\n",
              "    </tr>\n",
              "    <tr>\n",
              "      <th>Embarked</th>\n",
              "      <td>S</td>\n",
              "      <td>C</td>\n",
              "      <td>S</td>\n",
              "      <td>S</td>\n",
              "      <td>S</td>\n",
              "    </tr>\n",
              "  </tbody>\n",
              "</table>\n",
              "</div>"
            ],
            "text/plain": [
              "                                   0  \\\n",
              "PassengerId                        1   \n",
              "Survived                           0   \n",
              "Pclass                             3   \n",
              "Name         Braund, Mr. Owen Harris   \n",
              "Sex                             male   \n",
              "Age                               22   \n",
              "SibSp                              1   \n",
              "Parch                              0   \n",
              "Ticket                     A/5 21171   \n",
              "Fare                            7.25   \n",
              "Cabin                            NaN   \n",
              "Embarked                           S   \n",
              "\n",
              "                                                             1  \\\n",
              "PassengerId                                                  2   \n",
              "Survived                                                     1   \n",
              "Pclass                                                       1   \n",
              "Name         Cumings, Mrs. John Bradley (Florence Briggs Th...   \n",
              "Sex                                                     female   \n",
              "Age                                                         38   \n",
              "SibSp                                                        1   \n",
              "Parch                                                        0   \n",
              "Ticket                                                PC 17599   \n",
              "Fare                                                   71.2833   \n",
              "Cabin                                                      C85   \n",
              "Embarked                                                     C   \n",
              "\n",
              "                                  2  \\\n",
              "PassengerId                       3   \n",
              "Survived                          1   \n",
              "Pclass                            3   \n",
              "Name         Heikkinen, Miss. Laina   \n",
              "Sex                          female   \n",
              "Age                              26   \n",
              "SibSp                             0   \n",
              "Parch                             0   \n",
              "Ticket             STON/O2. 3101282   \n",
              "Fare                          7.925   \n",
              "Cabin                           NaN   \n",
              "Embarked                          S   \n",
              "\n",
              "                                                        3  \\\n",
              "PassengerId                                             4   \n",
              "Survived                                                1   \n",
              "Pclass                                                  1   \n",
              "Name         Futrelle, Mrs. Jacques Heath (Lily May Peel)   \n",
              "Sex                                                female   \n",
              "Age                                                    35   \n",
              "SibSp                                                   1   \n",
              "Parch                                                   0   \n",
              "Ticket                                             113803   \n",
              "Fare                                                 53.1   \n",
              "Cabin                                                C123   \n",
              "Embarked                                                S   \n",
              "\n",
              "                                    4  \n",
              "PassengerId                         5  \n",
              "Survived                            0  \n",
              "Pclass                              3  \n",
              "Name         Allen, Mr. William Henry  \n",
              "Sex                              male  \n",
              "Age                                35  \n",
              "SibSp                               0  \n",
              "Parch                               0  \n",
              "Ticket                         373450  \n",
              "Fare                             8.05  \n",
              "Cabin                             NaN  \n",
              "Embarked                            S  "
            ]
          },
          "metadata": {
            "tags": []
          },
          "execution_count": 40
        }
      ]
    },
    {
      "cell_type": "code",
      "metadata": {
        "id": "3MhopxLbg_IY",
        "colab_type": "code",
        "outputId": "e5acf183-d074-4d9d-c74e-8f89a8565672",
        "colab": {
          "base_uri": "https://localhost:8080/",
          "height": 495
        }
      },
      "source": [
        "df.head()"
      ],
      "execution_count": 0,
      "outputs": [
        {
          "output_type": "execute_result",
          "data": {
            "text/html": [
              "<div>\n",
              "<style scoped>\n",
              "    .dataframe tbody tr th:only-of-type {\n",
              "        vertical-align: middle;\n",
              "    }\n",
              "\n",
              "    .dataframe tbody tr th {\n",
              "        vertical-align: top;\n",
              "    }\n",
              "\n",
              "    .dataframe thead th {\n",
              "        text-align: right;\n",
              "    }\n",
              "</style>\n",
              "<table border=\"1\" class=\"dataframe\">\n",
              "  <thead>\n",
              "    <tr style=\"text-align: right;\">\n",
              "      <th></th>\n",
              "      <th>PassengerId</th>\n",
              "      <th>Survived</th>\n",
              "      <th>Pclass</th>\n",
              "      <th>Name</th>\n",
              "      <th>Sex</th>\n",
              "      <th>Age</th>\n",
              "      <th>SibSp</th>\n",
              "      <th>Parch</th>\n",
              "      <th>Ticket</th>\n",
              "      <th>Fare</th>\n",
              "      <th>Cabin</th>\n",
              "      <th>Embarked</th>\n",
              "    </tr>\n",
              "  </thead>\n",
              "  <tbody>\n",
              "    <tr>\n",
              "      <th>0</th>\n",
              "      <td>1</td>\n",
              "      <td>0</td>\n",
              "      <td>3</td>\n",
              "      <td>Braund, Mr. Owen Harris</td>\n",
              "      <td>male</td>\n",
              "      <td>22.0</td>\n",
              "      <td>1</td>\n",
              "      <td>0</td>\n",
              "      <td>A/5 21171</td>\n",
              "      <td>7.2500</td>\n",
              "      <td>NaN</td>\n",
              "      <td>S</td>\n",
              "    </tr>\n",
              "    <tr>\n",
              "      <th>1</th>\n",
              "      <td>2</td>\n",
              "      <td>1</td>\n",
              "      <td>1</td>\n",
              "      <td>Cumings, Mrs. John Bradley (Florence Briggs Th...</td>\n",
              "      <td>female</td>\n",
              "      <td>38.0</td>\n",
              "      <td>1</td>\n",
              "      <td>0</td>\n",
              "      <td>PC 17599</td>\n",
              "      <td>71.2833</td>\n",
              "      <td>C85</td>\n",
              "      <td>C</td>\n",
              "    </tr>\n",
              "    <tr>\n",
              "      <th>2</th>\n",
              "      <td>3</td>\n",
              "      <td>1</td>\n",
              "      <td>3</td>\n",
              "      <td>Heikkinen, Miss. Laina</td>\n",
              "      <td>female</td>\n",
              "      <td>26.0</td>\n",
              "      <td>0</td>\n",
              "      <td>0</td>\n",
              "      <td>STON/O2. 3101282</td>\n",
              "      <td>7.9250</td>\n",
              "      <td>NaN</td>\n",
              "      <td>S</td>\n",
              "    </tr>\n",
              "    <tr>\n",
              "      <th>3</th>\n",
              "      <td>4</td>\n",
              "      <td>1</td>\n",
              "      <td>1</td>\n",
              "      <td>Futrelle, Mrs. Jacques Heath (Lily May Peel)</td>\n",
              "      <td>female</td>\n",
              "      <td>35.0</td>\n",
              "      <td>1</td>\n",
              "      <td>0</td>\n",
              "      <td>113803</td>\n",
              "      <td>53.1000</td>\n",
              "      <td>C123</td>\n",
              "      <td>S</td>\n",
              "    </tr>\n",
              "    <tr>\n",
              "      <th>4</th>\n",
              "      <td>5</td>\n",
              "      <td>0</td>\n",
              "      <td>3</td>\n",
              "      <td>Allen, Mr. William Henry</td>\n",
              "      <td>male</td>\n",
              "      <td>35.0</td>\n",
              "      <td>0</td>\n",
              "      <td>0</td>\n",
              "      <td>373450</td>\n",
              "      <td>8.0500</td>\n",
              "      <td>NaN</td>\n",
              "      <td>S</td>\n",
              "    </tr>\n",
              "  </tbody>\n",
              "</table>\n",
              "</div>"
            ],
            "text/plain": [
              "   PassengerId  Survived  Pclass  \\\n",
              "0            1         0       3   \n",
              "1            2         1       1   \n",
              "2            3         1       3   \n",
              "3            4         1       1   \n",
              "4            5         0       3   \n",
              "\n",
              "                                                Name     Sex   Age  SibSp  \\\n",
              "0                            Braund, Mr. Owen Harris    male  22.0      1   \n",
              "1  Cumings, Mrs. John Bradley (Florence Briggs Th...  female  38.0      1   \n",
              "2                             Heikkinen, Miss. Laina  female  26.0      0   \n",
              "3       Futrelle, Mrs. Jacques Heath (Lily May Peel)  female  35.0      1   \n",
              "4                           Allen, Mr. William Henry    male  35.0      0   \n",
              "\n",
              "   Parch            Ticket     Fare Cabin Embarked  \n",
              "0      0         A/5 21171   7.2500   NaN        S  \n",
              "1      0          PC 17599  71.2833   C85        C  \n",
              "2      0  STON/O2. 3101282   7.9250   NaN        S  \n",
              "3      0            113803  53.1000  C123        S  \n",
              "4      0            373450   8.0500   NaN        S  "
            ]
          },
          "metadata": {
            "tags": []
          },
          "execution_count": 41
        }
      ]
    },
    {
      "cell_type": "code",
      "metadata": {
        "id": "u3IYrOSXg_Ie",
        "colab_type": "code",
        "colab": {}
      },
      "source": [
        "cat_vars = [\"Pclass\", \"Sex\",\"SibSp\",\"Parch\",\"Title\",\"Ticket_Alpha_shrt\",\"Ticket_Numeric_shrt\",\"Ticket_Numeric_len\",\"Cabin_num_sm\",\"Cabin_cnt\",\"Cabin_mod\",\"Name_cnt\",\"Embarked\"]\n",
        "drop_vars = [\"Fare\",\"Name\",\"Ticket\",\"Cabin\"]\n",
        "contin_vars = [\"Fare_log\",\"Age\"]\n",
        "index = 'PassengerId'\n",
        "n = len(train); n\n",
        "for df in (test,train):\n",
        "    df.set_index(index)"
      ],
      "execution_count": 0,
      "outputs": []
    },
    {
      "cell_type": "code",
      "metadata": {
        "id": "gvQ3ZlpUg_Ik",
        "colab_type": "code",
        "colab": {}
      },
      "source": [
        "dep = 'Survived'\n",
        "\n",
        "train = train[cat_vars+contin_vars+[dep, 'PassengerId']].copy()"
      ],
      "execution_count": 0,
      "outputs": []
    },
    {
      "cell_type": "code",
      "metadata": {
        "id": "sK1WFR5Ag_Ip",
        "colab_type": "code",
        "colab": {}
      },
      "source": [
        "test[dep] = 0\n",
        "test = test[cat_vars+contin_vars+[dep, 'PassengerId']].copy()"
      ],
      "execution_count": 0,
      "outputs": []
    },
    {
      "cell_type": "code",
      "metadata": {
        "id": "6U8_KY7L4mVu",
        "colab_type": "code",
        "colab": {}
      },
      "source": [
        "for v in cat_vars: train[v] = train[v].astype('category').cat.as_ordered()\n"
      ],
      "execution_count": 0,
      "outputs": []
    },
    {
      "cell_type": "code",
      "metadata": {
        "id": "CQHNNupc4yPk",
        "colab_type": "code",
        "colab": {}
      },
      "source": [
        "apply_cats(test, train)"
      ],
      "execution_count": 0,
      "outputs": []
    },
    {
      "cell_type": "code",
      "metadata": {
        "id": "jqsDysVl4mbg",
        "colab_type": "code",
        "colab": {}
      },
      "source": [
        "for v in contin_vars:\n",
        "    train[v] = train[v].astype('float32')\n",
        "    test[v] = test[v].astype('float32')"
      ],
      "execution_count": 0,
      "outputs": []
    },
    {
      "cell_type": "code",
      "metadata": {
        "id": "ACAIIhji45SO",
        "colab_type": "code",
        "colab": {}
      },
      "source": [
        "samp_size = n\n",
        "train_samp = df.set_index(\"PassengerId\")\n",
        "n"
      ],
      "execution_count": 0,
      "outputs": []
    },
    {
      "cell_type": "code",
      "metadata": {
        "id": "5tJQX7zI45Xc",
        "colab_type": "code",
        "outputId": "dec529e2-d6ef-4c2e-c62e-c2b1f1d8d4b0",
        "colab": {
          "base_uri": "https://localhost:8080/",
          "height": 158
        }
      },
      "source": [
        "train_samp.head(2)"
      ],
      "execution_count": 0,
      "outputs": [
        {
          "output_type": "execute_result",
          "data": {
            "text/html": [
              "<div>\n",
              "<style scoped>\n",
              "    .dataframe tbody tr th:only-of-type {\n",
              "        vertical-align: middle;\n",
              "    }\n",
              "\n",
              "    .dataframe tbody tr th {\n",
              "        vertical-align: top;\n",
              "    }\n",
              "\n",
              "    .dataframe thead th {\n",
              "        text-align: right;\n",
              "    }\n",
              "</style>\n",
              "<table border=\"1\" class=\"dataframe\">\n",
              "  <thead>\n",
              "    <tr style=\"text-align: right;\">\n",
              "      <th></th>\n",
              "      <th>Pclass</th>\n",
              "      <th>Sex</th>\n",
              "      <th>SibSp</th>\n",
              "      <th>Parch</th>\n",
              "      <th>Title</th>\n",
              "      <th>Ticket_Alpha_shrt</th>\n",
              "      <th>Ticket_Numeric_shrt</th>\n",
              "      <th>Ticket_Numeric_len</th>\n",
              "      <th>Cabin_num_sm</th>\n",
              "      <th>Cabin_cnt</th>\n",
              "      <th>Cabin_mod</th>\n",
              "      <th>Name_cnt</th>\n",
              "      <th>Embarked</th>\n",
              "      <th>Fare_log</th>\n",
              "      <th>Age</th>\n",
              "      <th>Survived</th>\n",
              "    </tr>\n",
              "    <tr>\n",
              "      <th>PassengerId</th>\n",
              "      <th></th>\n",
              "      <th></th>\n",
              "      <th></th>\n",
              "      <th></th>\n",
              "      <th></th>\n",
              "      <th></th>\n",
              "      <th></th>\n",
              "      <th></th>\n",
              "      <th></th>\n",
              "      <th></th>\n",
              "      <th></th>\n",
              "      <th></th>\n",
              "      <th></th>\n",
              "      <th></th>\n",
              "      <th></th>\n",
              "      <th></th>\n",
              "    </tr>\n",
              "  </thead>\n",
              "  <tbody>\n",
              "    <tr>\n",
              "      <th>1</th>\n",
              "      <td>3</td>\n",
              "      <td>male</td>\n",
              "      <td>1</td>\n",
              "      <td>0</td>\n",
              "      <td>MR</td>\n",
              "      <td>A</td>\n",
              "      <td>21</td>\n",
              "      <td>5</td>\n",
              "      <td>-1</td>\n",
              "      <td></td>\n",
              "      <td></td>\n",
              "      <td>4</td>\n",
              "      <td>S</td>\n",
              "      <td>1.981015</td>\n",
              "      <td>22.0</td>\n",
              "      <td>0</td>\n",
              "    </tr>\n",
              "    <tr>\n",
              "      <th>2</th>\n",
              "      <td>1</td>\n",
              "      <td>female</td>\n",
              "      <td>1</td>\n",
              "      <td>0</td>\n",
              "      <td>MRS</td>\n",
              "      <td>PC</td>\n",
              "      <td>17</td>\n",
              "      <td>5</td>\n",
              "      <td>8</td>\n",
              "      <td>1</td>\n",
              "      <td>C</td>\n",
              "      <td>7</td>\n",
              "      <td>C</td>\n",
              "      <td>4.266664</td>\n",
              "      <td>38.0</td>\n",
              "      <td>1</td>\n",
              "    </tr>\n",
              "  </tbody>\n",
              "</table>\n",
              "</div>"
            ],
            "text/plain": [
              "            Pclass     Sex SibSp Parch Title Ticket_Alpha_shrt  \\\n",
              "PassengerId                                                      \n",
              "1                3    male     1     0    MR                 A   \n",
              "2                1  female     1     0   MRS                PC   \n",
              "\n",
              "            Ticket_Numeric_shrt Ticket_Numeric_len Cabin_num_sm Cabin_cnt  \\\n",
              "PassengerId                                                                 \n",
              "1                            21                  5           -1             \n",
              "2                            17                  5            8         1   \n",
              "\n",
              "            Cabin_mod Name_cnt Embarked  Fare_log   Age  Survived  \n",
              "PassengerId                                                        \n",
              "1                            4        S  1.981015  22.0         0  \n",
              "2                   C        7        C  4.266664  38.0         1  "
            ]
          },
          "metadata": {
            "tags": []
          },
          "execution_count": 60
        }
      ]
    },
    {
      "cell_type": "markdown",
      "metadata": {
        "id": "IUYJd4x3g_Jw",
        "colab_type": "text"
      },
      "source": [
        "## Model"
      ]
    },
    {
      "cell_type": "markdown",
      "metadata": {
        "id": "usIq_hYYgrC_",
        "colab_type": "text"
      },
      "source": [
        ""
      ]
    },
    {
      "cell_type": "code",
      "metadata": {
        "id": "wfdc-70mg_Jx",
        "colab_type": "code",
        "colab": {}
      },
      "source": [
        "max_log_y = np.log(np.max(df['Survived'])*1.2)\n",
        "y_range = torch.tensor([0, max_log_y], device=defaults.device)"
      ],
      "execution_count": 0,
      "outputs": []
    },
    {
      "cell_type": "code",
      "metadata": {
        "id": "k6D4DjBqg_J2",
        "colab_type": "code",
        "colab": {}
      },
      "source": [
        "#learn = tabular_learner(data, layers=[1000,500], ps=[0.001,0.01], emb_drop=0.04, \n",
        "                        y_range=y_range, metrics=exp_rmspe)"
      ],
      "execution_count": 0,
      "outputs": []
    },
    {
      "cell_type": "code",
      "metadata": {
        "id": "MeWbSzsJg_J7",
        "colab_type": "code",
        "outputId": "d63498a9-59cc-48b0-d4a1-9158642880b9",
        "colab": {
          "base_uri": "https://localhost:8080/",
          "height": 435
        }
      },
      "source": [
        "learn.model"
      ],
      "execution_count": 0,
      "outputs": [
        {
          "output_type": "execute_result",
          "data": {
            "text/plain": [
              "TabularModel(\n",
              "  (embeds): ModuleList(\n",
              "    (0): Embedding(4, 3)\n",
              "    (1): Embedding(3, 3)\n",
              "    (2): Embedding(130, 24)\n",
              "    (3): Embedding(4, 3)\n",
              "    (4): Embedding(3, 3)\n",
              "  )\n",
              "  (emb_drop): Dropout(p=0.0)\n",
              "  (bn_cont): BatchNorm1d(4, eps=1e-05, momentum=0.1, affine=True, track_running_stats=True)\n",
              "  (layers): Sequential(\n",
              "    (0): Linear(in_features=40, out_features=100, bias=True)\n",
              "    (1): ReLU(inplace)\n",
              "    (2): BatchNorm1d(100, eps=1e-05, momentum=0.1, affine=True, track_running_stats=True)\n",
              "    (3): Linear(in_features=100, out_features=200, bias=True)\n",
              "    (4): ReLU(inplace)\n",
              "    (5): BatchNorm1d(200, eps=1e-05, momentum=0.1, affine=True, track_running_stats=True)\n",
              "    (6): Linear(in_features=200, out_features=300, bias=True)\n",
              "    (7): ReLU(inplace)\n",
              "    (8): BatchNorm1d(300, eps=1e-05, momentum=0.1, affine=True, track_running_stats=True)\n",
              "    (9): Linear(in_features=300, out_features=2, bias=True)\n",
              "  )\n",
              ")"
            ]
          },
          "metadata": {
            "tags": []
          },
          "execution_count": 20
        }
      ]
    },
    {
      "cell_type": "code",
      "metadata": {
        "id": "hmfpg90yg_KC",
        "colab_type": "code",
        "outputId": "c6d70688-00d9-42ab-cfe1-ad8259212e51",
        "colab": {
          "base_uri": "https://localhost:8080/",
          "height": 35
        }
      },
      "source": [
        "#len(data.train_ds.cont_names), len(data.test_ds.cont_names), \n",
        "len(df_test), len(df)"
      ],
      "execution_count": 0,
      "outputs": [
        {
          "output_type": "execute_result",
          "data": {
            "text/plain": [
              "(418, 891)"
            ]
          },
          "metadata": {
            "tags": []
          },
          "execution_count": 59
        }
      ]
    },
    {
      "cell_type": "code",
      "metadata": {
        "id": "hU8_uJaWg_KK",
        "colab_type": "code",
        "outputId": "388bd501-e3ae-4d45-9b4d-942f02d3f65c",
        "colab": {
          "base_uri": "https://localhost:8080/",
          "height": 302
        }
      },
      "source": [
        "learn.unfreeze\n",
        "learn.lr_find()\n",
        "learn.recorder.plot()"
      ],
      "execution_count": 0,
      "outputs": [
        {
          "output_type": "display_data",
          "data": {
            "text/html": [
              ""
            ],
            "text/plain": [
              "<IPython.core.display.HTML object>"
            ]
          },
          "metadata": {
            "tags": []
          }
        },
        {
          "output_type": "stream",
          "text": [
            "LR Finder is complete, type {learner_name}.recorder.plot() to see the graph.\n"
          ],
          "name": "stdout"
        },
        {
          "output_type": "display_data",
          "data": {
            "image/png": "[encoded data removed]",
            "text/plain": [
              "<Figure size 432x288 with 1 Axes>"
            ]
          },
          "metadata": {
            "tags": []
          }
        }
      ]
    },
    {
      "cell_type": "code",
      "metadata": {
        "id": "V1rSQELNg_KZ",
        "colab_type": "code",
        "outputId": "ad7c77ee-4572-43f1-ed5d-a81c4bc6d704",
        "colab": {
          "base_uri": "https://localhost:8080/",
          "height": 348
        }
      },
      "source": [
        "learn.fit_one_cycle(10, 7e-07)"
      ],
      "execution_count": 0,
      "outputs": [
        {
          "output_type": "display_data",
          "data": {
            "text/html": [
              "<table border=\"1\" class=\"dataframe\">\n",
              "  <thead>\n",
              "    <tr style=\"text-align: left;\">\n",
              "      <th>epoch</th>\n",
              "      <th>train_loss</th>\n",
              "      <th>valid_loss</th>\n",
              "      <th>accuracy</th>\n",
              "      <th>time</th>\n",
              "    </tr>\n",
              "  </thead>\n",
              "  <tbody>\n",
              "    <tr>\n",
              "      <td>0</td>\n",
              "      <td>0.261042</td>\n",
              "      <td>0.525963</td>\n",
              "      <td>0.814607</td>\n",
              "      <td>00:00</td>\n",
              "    </tr>\n",
              "    <tr>\n",
              "      <td>1</td>\n",
              "      <td>0.255812</td>\n",
              "      <td>0.520323</td>\n",
              "      <td>0.808989</td>\n",
              "      <td>00:00</td>\n",
              "    </tr>\n",
              "    <tr>\n",
              "      <td>2</td>\n",
              "      <td>0.257092</td>\n",
              "      <td>0.520079</td>\n",
              "      <td>0.808989</td>\n",
              "      <td>00:00</td>\n",
              "    </tr>\n",
              "    <tr>\n",
              "      <td>3</td>\n",
              "      <td>0.256665</td>\n",
              "      <td>0.517329</td>\n",
              "      <td>0.808989</td>\n",
              "      <td>00:00</td>\n",
              "    </tr>\n",
              "    <tr>\n",
              "      <td>4</td>\n",
              "      <td>0.257850</td>\n",
              "      <td>0.530299</td>\n",
              "      <td>0.808989</td>\n",
              "      <td>00:00</td>\n",
              "    </tr>\n",
              "    <tr>\n",
              "      <td>5</td>\n",
              "      <td>0.254898</td>\n",
              "      <td>0.522197</td>\n",
              "      <td>0.808989</td>\n",
              "      <td>00:00</td>\n",
              "    </tr>\n",
              "    <tr>\n",
              "      <td>6</td>\n",
              "      <td>0.255082</td>\n",
              "      <td>0.526208</td>\n",
              "      <td>0.808989</td>\n",
              "      <td>00:00</td>\n",
              "    </tr>\n",
              "    <tr>\n",
              "      <td>7</td>\n",
              "      <td>0.252728</td>\n",
              "      <td>0.516946</td>\n",
              "      <td>0.808989</td>\n",
              "      <td>00:00</td>\n",
              "    </tr>\n",
              "    <tr>\n",
              "      <td>8</td>\n",
              "      <td>0.250701</td>\n",
              "      <td>0.520917</td>\n",
              "      <td>0.808989</td>\n",
              "      <td>00:00</td>\n",
              "    </tr>\n",
              "    <tr>\n",
              "      <td>9</td>\n",
              "      <td>0.251187</td>\n",
              "      <td>0.523868</td>\n",
              "      <td>0.814607</td>\n",
              "      <td>00:00</td>\n",
              "    </tr>\n",
              "  </tbody>\n",
              "</table>"
            ],
            "text/plain": [
              "<IPython.core.display.HTML object>"
            ]
          },
          "metadata": {
            "tags": []
          }
        }
      ]
    },
    {
      "cell_type": "code",
      "metadata": {
        "id": "3d3QasC9g_Kg",
        "colab_type": "code",
        "colab": {}
      },
      "source": [
        "learn.save('1')"
      ],
      "execution_count": 0,
      "outputs": []
    },
    {
      "cell_type": "code",
      "metadata": {
        "id": "Dg1QX9Kdg_Kj",
        "colab_type": "code",
        "outputId": "61ad56e9-d15a-4074-e2b6-e9049643f207",
        "colab": {
          "base_uri": "https://localhost:8080/",
          "height": 284
        }
      },
      "source": [
        "learn.recorder.plot_losses()"
      ],
      "execution_count": 0,
      "outputs": [
        {
          "output_type": "display_data",
          "data": {
            "image/png": "[encoded data removed]",
            "text/plain": [
              "<Figure size 432x288 with 1 Axes>"
            ]
          },
          "metadata": {
            "tags": []
          }
        }
      ]
    },
    {
      "cell_type": "code",
      "metadata": {
        "id": "k2xQi57Zg_Ko",
        "colab_type": "code",
        "colab": {}
      },
      "source": [
        "learn.load('1');"
      ],
      "execution_count": 0,
      "outputs": []
    },
    {
      "cell_type": "code",
      "metadata": {
        "id": "fpntznqSg_Kt",
        "colab_type": "code",
        "outputId": "a2e3fce2-3203-469b-e543-b4c2ed683452",
        "colab": {
          "base_uri": "https://localhost:8080/",
          "height": 198
        }
      },
      "source": [
        "learn.fit_one_cycle(5, 7e-06)"
      ],
      "execution_count": 0,
      "outputs": [
        {
          "output_type": "display_data",
          "data": {
            "text/html": [
              "<table border=\"1\" class=\"dataframe\">\n",
              "  <thead>\n",
              "    <tr style=\"text-align: left;\">\n",
              "      <th>epoch</th>\n",
              "      <th>train_loss</th>\n",
              "      <th>valid_loss</th>\n",
              "      <th>accuracy</th>\n",
              "      <th>time</th>\n",
              "    </tr>\n",
              "  </thead>\n",
              "  <tbody>\n",
              "    <tr>\n",
              "      <td>0</td>\n",
              "      <td>0.240865</td>\n",
              "      <td>0.579751</td>\n",
              "      <td>0.808989</td>\n",
              "      <td>00:00</td>\n",
              "    </tr>\n",
              "    <tr>\n",
              "      <td>1</td>\n",
              "      <td>0.239802</td>\n",
              "      <td>0.584963</td>\n",
              "      <td>0.803371</td>\n",
              "      <td>00:00</td>\n",
              "    </tr>\n",
              "    <tr>\n",
              "      <td>2</td>\n",
              "      <td>0.241154</td>\n",
              "      <td>0.580105</td>\n",
              "      <td>0.808989</td>\n",
              "      <td>00:00</td>\n",
              "    </tr>\n",
              "    <tr>\n",
              "      <td>3</td>\n",
              "      <td>0.240991</td>\n",
              "      <td>0.584295</td>\n",
              "      <td>0.797753</td>\n",
              "      <td>00:00</td>\n",
              "    </tr>\n",
              "    <tr>\n",
              "      <td>4</td>\n",
              "      <td>0.244783</td>\n",
              "      <td>0.584064</td>\n",
              "      <td>0.797753</td>\n",
              "      <td>00:00</td>\n",
              "    </tr>\n",
              "  </tbody>\n",
              "</table>"
            ],
            "text/plain": [
              "<IPython.core.display.HTML object>"
            ]
          },
          "metadata": {
            "tags": []
          }
        }
      ]
    },
    {
      "cell_type": "code",
      "metadata": {
        "id": "gaSaDwVdg_LN",
        "colab_type": "code",
        "outputId": "e78a1345-fddb-4c68-ea19-5d5d039a962e",
        "colab": {
          "base_uri": "https://localhost:8080/",
          "height": 198
        }
      },
      "source": [
        "learn.fit_one_cycle(5, 1e-06)"
      ],
      "execution_count": 0,
      "outputs": [
        {
          "output_type": "display_data",
          "data": {
            "text/html": [
              "<table border=\"1\" class=\"dataframe\">\n",
              "  <thead>\n",
              "    <tr style=\"text-align: left;\">\n",
              "      <th>epoch</th>\n",
              "      <th>train_loss</th>\n",
              "      <th>valid_loss</th>\n",
              "      <th>accuracy</th>\n",
              "      <th>time</th>\n",
              "    </tr>\n",
              "  </thead>\n",
              "  <tbody>\n",
              "    <tr>\n",
              "      <td>0</td>\n",
              "      <td>0.237903</td>\n",
              "      <td>0.584769</td>\n",
              "      <td>0.792135</td>\n",
              "      <td>00:00</td>\n",
              "    </tr>\n",
              "    <tr>\n",
              "      <td>1</td>\n",
              "      <td>0.239663</td>\n",
              "      <td>0.579145</td>\n",
              "      <td>0.808989</td>\n",
              "      <td>00:00</td>\n",
              "    </tr>\n",
              "    <tr>\n",
              "      <td>2</td>\n",
              "      <td>0.239523</td>\n",
              "      <td>0.585293</td>\n",
              "      <td>0.803371</td>\n",
              "      <td>00:00</td>\n",
              "    </tr>\n",
              "    <tr>\n",
              "      <td>3</td>\n",
              "      <td>0.239006</td>\n",
              "      <td>0.582343</td>\n",
              "      <td>0.808989</td>\n",
              "      <td>00:00</td>\n",
              "    </tr>\n",
              "    <tr>\n",
              "      <td>4</td>\n",
              "      <td>0.239687</td>\n",
              "      <td>0.582100</td>\n",
              "      <td>0.803371</td>\n",
              "      <td>00:00</td>\n",
              "    </tr>\n",
              "  </tbody>\n",
              "</table>"
            ],
            "text/plain": [
              "<IPython.core.display.HTML object>"
            ]
          },
          "metadata": {
            "tags": []
          }
        }
      ]
    },
    {
      "cell_type": "markdown",
      "metadata": {
        "id": "RkXKQDNeg_LS",
        "colab_type": "text"
      },
      "source": [
        "If the results getting detioriated load stage 1"
      ]
    },
    {
      "cell_type": "code",
      "metadata": {
        "id": "lakKbLNog_LT",
        "colab_type": "code",
        "colab": {}
      },
      "source": [
        "learn.load(\"stage-1\")\n",
        "\n",
        "learn.validate()"
      ],
      "execution_count": 0,
      "outputs": []
    },
    {
      "cell_type": "code",
      "metadata": {
        "id": "UWl7OHQbkYbE",
        "colab_type": "code",
        "colab": {}
      },
      "source": [
        "predictions, *_ = learn.get_preds(DatasetType.Test)\n",
        "labels = np.argmax(predictions, 1)"
      ],
      "execution_count": 0,
      "outputs": []
    },
    {
      "cell_type": "code",
      "metadata": {
        "id": "LSZIQHYIhjo9",
        "colab_type": "code",
        "colab": {}
      },
      "source": [
        "res_df = pd.DataFrame({'PassengerId': df_test['PassengerId'], 'Survived': labels})\n",
        "res_df.to_csv('titanic_submission.csv', index=False)"
      ],
      "execution_count": 0,
      "outputs": []
    },
    {
      "cell_type": "code",
      "metadata": {
        "id": "DCz2rBYtlyC0",
        "colab_type": "code",
        "outputId": "80dff1c4-c0f2-44b6-ff7c-ae3cf87c56a1",
        "colab": {
          "base_uri": "https://localhost:8080/",
          "height": 35
        }
      },
      "source": [
        "#f you have added the test set to the data, you can then call\n",
        "learn.get_preds (DatasetType.Test )"
      ],
      "execution_count": 0,
      "outputs": [
        {
          "output_type": "execute_result",
          "data": {
            "text/plain": [
              "torch.Size([418])"
            ]
          },
          "metadata": {
            "tags": []
          },
          "execution_count": 63
        }
      ]
    }
  ]
}